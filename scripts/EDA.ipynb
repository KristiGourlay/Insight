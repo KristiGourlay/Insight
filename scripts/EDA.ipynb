{
 "cells": [
  {
   "cell_type": "code",
   "execution_count": 1,
   "metadata": {},
   "outputs": [
    {
     "name": "stderr",
     "output_type": "stream",
     "text": [
      "/Users/kristigourlay/anaconda3/lib/python3.7/site-packages/past/types/oldstr.py:5: DeprecationWarning: Using or importing the ABCs from 'collections' instead of from 'collections.abc' is deprecated, and in 3.8 it will stop working\n",
      "  from collections import Iterable\n",
      "/Users/kristigourlay/anaconda3/lib/python3.7/imp.py:342: DeprecationWarning: Using or importing the ABCs from 'collections' instead of from 'collections.abc' is deprecated, and in 3.8 it will stop working\n",
      "  return _load(spec)\n",
      "/Users/kristigourlay/anaconda3/lib/python3.7/site-packages/nltk/decorators.py:68: DeprecationWarning: `formatargspec` is deprecated since Python 3.5. Use `signature` and the `Signature` object directly\n",
      "  regargs, varargs, varkwargs, defaults, formatvalue=lambda value: \"\"\n",
      "Using TensorFlow backend.\n",
      "/Users/kristigourlay/anaconda3/lib/python3.7/site-packages/google/protobuf/descriptor.py:47: DeprecationWarning: Using or importing the ABCs from 'collections' instead of from 'collections.abc' is deprecated, and in 3.8 it will stop working\n",
      "  from google.protobuf.pyext import _message\n",
      "/Users/kristigourlay/anaconda3/lib/python3.7/site-packages/tensorflow/python/training/tracking/object_identity.py:112: DeprecationWarning: Using or importing the ABCs from 'collections' instead of from 'collections.abc' is deprecated, and in 3.8 it will stop working\n",
      "  class ObjectIdentitySet(collections.MutableSet):\n"
     ]
    }
   ],
   "source": [
    "import pandas as pd\n",
    "import numpy as np\n",
    "import seaborn as sns\n",
    "import altair as alt\n",
    "import sklearn.metrics as metrics\n",
    "import pickle\n",
    "import warnings\n",
    "warnings.filterwarnings('ignore')\n",
    "\n",
    "import altair as alt\n",
    "\n",
    "\n",
    "from pandas.io.json import json_normalize\n",
    "from vaderSentiment.vaderSentiment import SentimentIntensityAnalyzer\n",
    "import pyLDAvis.sklearn\n",
    "pyLDAvis.enable_notebook()\n",
    "\n",
    "from sklearn.decomposition import LatentDirichletAllocation as LDA\n",
    "alt.renderers.enable('notebook')\n",
    "import catboost as cb\n",
    "from catboost import CatBoostClassifier\n",
    "\n",
    "from nltk.tokenize import RegexpTokenizer\n",
    "import nltk\n",
    "from nltk.corpus import stopwords\n",
    "from nltk.stem import WordNetLemmatizer\n",
    "\n",
    "from textblob import TextBlob\n",
    "import matplotlib.pyplot as plt\n",
    "import seaborn as sns\n",
    "%config InlineBackend.figure_format = 'retina'\n",
    "\n",
    "from sklearn.ensemble import RandomForestClassifier\n",
    "from sklearn.feature_extraction.text import CountVectorizer, TfidfVectorizer\n",
    "from sklearn_pandas import DataFrameMapper\n",
    "from sklearn.preprocessing import StandardScaler\n",
    "from sklearn.model_selection import train_test_split, cross_val_score, GridSearchCV\n",
    "from sklearn.metrics import confusion_matrix, accuracy_score\n",
    "from sklearn.linear_model import LogisticRegression, LinearRegression\n",
    "from sklearn.naive_bayes import MultinomialNB\n",
    "from sklearn.pipeline import Pipeline, make_pipeline\n",
    "from sklearn.metrics import accuracy_score, precision_score, recall_score\n",
    "\n",
    "from imblearn.under_sampling import CondensedNearestNeighbour, RandomUnderSampler, EditedNearestNeighbours, RepeatedEditedNearestNeighbours\n",
    "from imblearn.over_sampling import SMOTE, ADASYN, BorderlineSMOTE, SVMSMOTE\n",
    "from imblearn.combine import SMOTETomek, SMOTEENN\n",
    "\n"
   ]
  },
  {
   "cell_type": "code",
   "execution_count": 2,
   "metadata": {},
   "outputs": [],
   "source": [
    "df = pd.read_csv('../data/cleaned/final_book_df.csv', index_col=0)"
   ]
  },
  {
   "cell_type": "code",
   "execution_count": 3,
   "metadata": {},
   "outputs": [
    {
     "data": {
      "text/html": [
       "<div>\n",
       "<style scoped>\n",
       "    .dataframe tbody tr th:only-of-type {\n",
       "        vertical-align: middle;\n",
       "    }\n",
       "\n",
       "    .dataframe tbody tr th {\n",
       "        vertical-align: top;\n",
       "    }\n",
       "\n",
       "    .dataframe thead th {\n",
       "        text-align: right;\n",
       "    }\n",
       "</style>\n",
       "<table border=\"1\" class=\"dataframe\">\n",
       "  <thead>\n",
       "    <tr style=\"text-align: right;\">\n",
       "      <th></th>\n",
       "      <th>date</th>\n",
       "      <th>info</th>\n",
       "      <th>text</th>\n",
       "      <th>target</th>\n",
       "    </tr>\n",
       "  </thead>\n",
       "  <tbody>\n",
       "    <tr>\n",
       "      <th>0</th>\n",
       "      <td>1528</td>\n",
       "      <td>The book of the Courtier</td>\n",
       "      <td>then the soul freed from vice purged by studie...</td>\n",
       "      <td>0</td>\n",
       "    </tr>\n",
       "    <tr>\n",
       "      <th>1</th>\n",
       "      <td>1569</td>\n",
       "      <td>Hamlet</td>\n",
       "      <td>his goodly frame the earth seems to me a steri...</td>\n",
       "      <td>0</td>\n",
       "    </tr>\n",
       "  </tbody>\n",
       "</table>\n",
       "</div>"
      ],
      "text/plain": [
       "   date                      info  \\\n",
       "0  1528  The book of the Courtier   \n",
       "1  1569                    Hamlet   \n",
       "\n",
       "                                                text  target  \n",
       "0  then the soul freed from vice purged by studie...       0  \n",
       "1  his goodly frame the earth seems to me a steri...       0  "
      ]
     },
     "execution_count": 3,
     "metadata": {},
     "output_type": "execute_result"
    }
   ],
   "source": [
    "df.head(2)"
   ]
  },
  {
   "cell_type": "code",
   "execution_count": 4,
   "metadata": {},
   "outputs": [],
   "source": [
    "df = df.drop_duplicates(subset=['text'], keep='first', inplace=False)"
   ]
  },
  {
   "cell_type": "code",
   "execution_count": 5,
   "metadata": {},
   "outputs": [],
   "source": [
    "df = df.reset_index()"
   ]
  },
  {
   "cell_type": "code",
   "execution_count": 6,
   "metadata": {},
   "outputs": [],
   "source": [
    "df = df.drop(columns=['index'])"
   ]
  },
  {
   "cell_type": "markdown",
   "metadata": {},
   "source": [
    "# Clean Text"
   ]
  },
  {
   "cell_type": "code",
   "execution_count": 7,
   "metadata": {},
   "outputs": [],
   "source": [
    "lemmatizer = WordNetLemmatizer()\n",
    "st = df['text'].tolist()\n",
    "\n",
    "\n",
    "def clean_text(raw_text):\n",
    "    raw_text = str(raw_text)\n",
    "    lower_case = raw_text.lower()\n",
    "    retokenizer = RegexpTokenizer(r'[a-z]+')\n",
    "    words = retokenizer.tokenize(lower_case)\n",
    "    \n",
    "    return(lemmatizer.lemmatize(\" \".join(words)))\n",
    "\n",
    "num_excerpts = df['text'].size\n",
    "\n",
    "clean_text_excerpts = []\n",
    "\n",
    "for i in range(0, num_excerpts):\n",
    "     clean_text_excerpts.append( clean_text( st[i] ))\n",
    "\n",
    "\n",
    "df['text'] = clean_text_excerpts"
   ]
  },
  {
   "cell_type": "code",
   "execution_count": 8,
   "metadata": {},
   "outputs": [],
   "source": [
    "df['date'] = df['date'].astype(int)"
   ]
  },
  {
   "cell_type": "markdown",
   "metadata": {},
   "source": [
    "# Function to Grid Search Target Dates"
   ]
  },
  {
   "cell_type": "code",
   "execution_count": 9,
   "metadata": {},
   "outputs": [],
   "source": [
    "cvec = CountVectorizer(stop_words='english',\n",
    "                        lowercase=True,\n",
    "                        ngram_range=(1, 3),\n",
    "                        strip_accents='unicode')\n",
    "\n",
    "tvec = TfidfVectorizer(stop_words='english',\n",
    "                        ngram_range=(1, 3),\n",
    "                        encoding='utf-8')"
   ]
  },
  {
   "cell_type": "code",
   "execution_count": 13,
   "metadata": {},
   "outputs": [],
   "source": [
    "bin_list = [\n",
    "    [0, 1670, 1800, 1870, 1910, 1945, np.inf],\n",
    "    [0, 1670, 1830, 1870, 1910, 1945, np.inf],\n",
    "    [0, 1670, 1830, 1870, 1920, 1945, np.inf],\n",
    "    [0, 1670, 1800, 1870, 1920, 1945, np.inf],\n",
    "    [0, 1670, 1800, 1870, 1920, 1960, np.inf],\n",
    "    [0, 1670, 1830, 1890, 1920, 1945, np.inf],\n",
    "    [0, 1670, 1830, 1890, 1920, 1950, np.inf],\n",
    "    [0, 1670, 1830, 1890, 1910, 1945, np.inf],\n",
    "    [0, 1670, 1830, 1890, 1930, 1975, np.inf],\n",
    "    [0, 1700, 1800, 1870, 1910, 1945, np.inf],\n",
    "    [0, 1700, 1830, 1890, 1910, 1945, np.inf],\n",
    "    [0, 1700, 1830, 1870, 1920, 1945, np.inf],\n",
    "    [0, 1670, 1830, 1870, 1920, 1975, np.inf],\n",
    "    [0, 1670, 1830, 1890, 1920, 1975, np.inf],\n",
    "    [0, 1600, 1700, 1800, 1900, 1950, np.inf],\n",
    "    [0, 1670, 1830, 1920, 1950, 1990, np.inf],\n",
    "    [0, 1700, 1830, 1890, 1910, 1945, np.inf]\n",
    "]"
   ]
  },
  {
   "cell_type": "code",
   "execution_count": 14,
   "metadata": {},
   "outputs": [],
   "source": [
    "def make_targets(bin_list, model, vectorizer, df=df):\n",
    "    for b in bin_list:\n",
    "        bins = b\n",
    "        bin_names = range(0, 6)\n",
    "        df['target'] = pd.cut(df['date'], bins, labels=bin_names)\n",
    "        df.groupby('target').count()\n",
    "\n",
    "        #train test split\n",
    "        x = df['text']\n",
    "        y = df['target']\n",
    "        x_train, x_test, y_train, y_test = train_test_split(x, y, train_size=.8, random_state=42, shuffle=True, stratify=y)\n",
    "        \n",
    "        #vectorizing\n",
    "        train_data = vectorizer.fit_transform(x_train.apply(lambda x: np.str_(x)))\n",
    "        test_data = vectorizer.transform(x_test.apply(lambda x: np.str_(x)))\n",
    "        \n",
    "        \n",
    "        #instantiating, fitting, and scoring the model\n",
    "        model = model\n",
    "        model.fit(train_data, y_train)\n",
    "        score = model.score(test_data, y_test)\n",
    "        print(f' Accuracy of Bin {bins}: {score}')"
   ]
  },
  {
   "cell_type": "code",
   "execution_count": 24,
   "metadata": {},
   "outputs": [
    {
     "name": "stdout",
     "output_type": "stream",
     "text": [
      " Accuracy of Bin [0, 1670, 1800, 1870, 1910, 1945, inf]: 0.6683937823834197\n",
      " Accuracy of Bin [0, 1670, 1830, 1870, 1910, 1945, inf]: 0.6424870466321243\n",
      " Accuracy of Bin [0, 1670, 1830, 1870, 1920, 1945, inf]: 0.6580310880829016\n",
      " Accuracy of Bin [0, 1670, 1800, 1870, 1920, 1945, inf]: 0.6839378238341969\n",
      " Accuracy of Bin [0, 1670, 1800, 1870, 1920, 1960, inf]: 0.6735751295336787\n",
      " Accuracy of Bin [0, 1670, 1830, 1890, 1920, 1945, inf]: 0.6735751295336787\n",
      " Accuracy of Bin [0, 1670, 1830, 1890, 1920, 1950, inf]: 0.6476683937823834\n",
      " Accuracy of Bin [0, 1670, 1830, 1890, 1910, 1945, inf]: 0.6994818652849741\n",
      " Accuracy of Bin [0, 1670, 1830, 1890, 1930, 1975, inf]: 0.6787564766839378\n",
      " Accuracy of Bin [0, 1700, 1800, 1870, 1910, 1945, inf]: 0.6735751295336787\n",
      " Accuracy of Bin [0, 1700, 1830, 1890, 1910, 1945, inf]: 0.6683937823834197\n",
      " Accuracy of Bin [0, 1700, 1830, 1870, 1920, 1945, inf]: 0.6217616580310881\n",
      " Accuracy of Bin [0, 1670, 1830, 1870, 1920, 1975, inf]: 0.616580310880829\n",
      " Accuracy of Bin [0, 1670, 1830, 1890, 1920, 1975, inf]: 0.6217616580310881\n",
      " Accuracy of Bin [0, 1600, 1700, 1800, 1900, 1950, inf]: 0.5906735751295337\n",
      " Accuracy of Bin [0, 1670, 1830, 1920, 1950, 1990, inf]: 0.6580310880829016\n",
      " Accuracy of Bin [0, 1700, 1830, 1890, 1910, 1945, inf]: 0.6683937823834197\n"
     ]
    }
   ],
   "source": [
    "make_targets(bin_list, model=LogisticRegression(class_weight='balanced'), vectorizer=cvec)"
   ]
  },
  {
   "cell_type": "code",
   "execution_count": null,
   "metadata": {
    "scrolled": true
   },
   "outputs": [],
   "source": [
    "make_targets(bin_list, model=RandomForestClassifier(), vectorizer=cvec) "
   ]
  },
  {
   "cell_type": "code",
   "execution_count": null,
   "metadata": {},
   "outputs": [],
   "source": [
    "make_targets(bin_list, model=RandomForestClassifier(), vectorizer=tvec)"
   ]
  },
  {
   "cell_type": "code",
   "execution_count": null,
   "metadata": {},
   "outputs": [],
   "source": [
    "make_targets(bin_list, model=LogisticRegression(class_weight='balanced'), vectorizer=tvec)"
   ]
  },
  {
   "cell_type": "markdown",
   "metadata": {},
   "source": [
    "# Binning & Cleaning"
   ]
  },
  {
   "cell_type": "code",
   "execution_count": 10,
   "metadata": {},
   "outputs": [
    {
     "data": {
      "text/html": [
       "<div>\n",
       "<style scoped>\n",
       "    .dataframe tbody tr th:only-of-type {\n",
       "        vertical-align: middle;\n",
       "    }\n",
       "\n",
       "    .dataframe tbody tr th {\n",
       "        vertical-align: top;\n",
       "    }\n",
       "\n",
       "    .dataframe thead th {\n",
       "        text-align: right;\n",
       "    }\n",
       "</style>\n",
       "<table border=\"1\" class=\"dataframe\">\n",
       "  <thead>\n",
       "    <tr style=\"text-align: right;\">\n",
       "      <th></th>\n",
       "      <th>date</th>\n",
       "      <th>info</th>\n",
       "      <th>text</th>\n",
       "    </tr>\n",
       "    <tr>\n",
       "      <th>target</th>\n",
       "      <th></th>\n",
       "      <th></th>\n",
       "      <th></th>\n",
       "    </tr>\n",
       "  </thead>\n",
       "  <tbody>\n",
       "    <tr>\n",
       "      <th>0</th>\n",
       "      <td>147</td>\n",
       "      <td>147</td>\n",
       "      <td>147</td>\n",
       "    </tr>\n",
       "    <tr>\n",
       "      <th>1</th>\n",
       "      <td>160</td>\n",
       "      <td>160</td>\n",
       "      <td>160</td>\n",
       "    </tr>\n",
       "    <tr>\n",
       "      <th>2</th>\n",
       "      <td>186</td>\n",
       "      <td>186</td>\n",
       "      <td>186</td>\n",
       "    </tr>\n",
       "    <tr>\n",
       "      <th>3</th>\n",
       "      <td>90</td>\n",
       "      <td>90</td>\n",
       "      <td>90</td>\n",
       "    </tr>\n",
       "    <tr>\n",
       "      <th>4</th>\n",
       "      <td>200</td>\n",
       "      <td>200</td>\n",
       "      <td>200</td>\n",
       "    </tr>\n",
       "    <tr>\n",
       "      <th>5</th>\n",
       "      <td>179</td>\n",
       "      <td>179</td>\n",
       "      <td>179</td>\n",
       "    </tr>\n",
       "  </tbody>\n",
       "</table>\n",
       "</div>"
      ],
      "text/plain": [
       "        date  info  text\n",
       "target                  \n",
       "0        147   147   147\n",
       "1        160   160   160\n",
       "2        186   186   186\n",
       "3         90    90    90\n",
       "4        200   200   200\n",
       "5        179   179   179"
      ]
     },
     "execution_count": 10,
     "metadata": {},
     "output_type": "execute_result"
    }
   ],
   "source": [
    "bins = [0, 1670, 1830, 1890, 1910, 1945, np.inf]\n",
    "names = [0, 1, 2, 3, 4, 5]\n",
    "\n",
    "df['target'] = pd.cut(df['date'], bins, labels=names)\n",
    "\n",
    "\n",
    "df.groupby('target').count()\n",
    "\n"
   ]
  },
  {
   "cell_type": "markdown",
   "metadata": {},
   "source": [
    "# EDA"
   ]
  },
  {
   "cell_type": "code",
   "execution_count": 11,
   "metadata": {},
   "outputs": [
    {
     "data": {
      "text/plain": [
       "(962, 4)"
      ]
     },
     "execution_count": 11,
     "metadata": {},
     "output_type": "execute_result"
    }
   ],
   "source": [
    "df.shape"
   ]
  },
  {
   "cell_type": "code",
   "execution_count": 12,
   "metadata": {},
   "outputs": [
    {
     "data": {
      "text/html": [
       "<div>\n",
       "<style scoped>\n",
       "    .dataframe tbody tr th:only-of-type {\n",
       "        vertical-align: middle;\n",
       "    }\n",
       "\n",
       "    .dataframe tbody tr th {\n",
       "        vertical-align: top;\n",
       "    }\n",
       "\n",
       "    .dataframe thead th {\n",
       "        text-align: right;\n",
       "    }\n",
       "</style>\n",
       "<table border=\"1\" class=\"dataframe\">\n",
       "  <thead>\n",
       "    <tr style=\"text-align: right;\">\n",
       "      <th></th>\n",
       "      <th>date</th>\n",
       "      <th>info</th>\n",
       "      <th>text</th>\n",
       "      <th>target</th>\n",
       "    </tr>\n",
       "  </thead>\n",
       "  <tbody>\n",
       "    <tr>\n",
       "      <th>0</th>\n",
       "      <td>1528</td>\n",
       "      <td>The book of the Courtier</td>\n",
       "      <td>then the soul freed from vice purged by studie...</td>\n",
       "      <td>0</td>\n",
       "    </tr>\n",
       "    <tr>\n",
       "      <th>1</th>\n",
       "      <td>1569</td>\n",
       "      <td>Hamlet</td>\n",
       "      <td>his goodly frame the earth seems to me a steri...</td>\n",
       "      <td>0</td>\n",
       "    </tr>\n",
       "  </tbody>\n",
       "</table>\n",
       "</div>"
      ],
      "text/plain": [
       "   date                      info  \\\n",
       "0  1528  The book of the Courtier   \n",
       "1  1569                    Hamlet   \n",
       "\n",
       "                                                text target  \n",
       "0  then the soul freed from vice purged by studie...      0  \n",
       "1  his goodly frame the earth seems to me a steri...      0  "
      ]
     },
     "execution_count": 12,
     "metadata": {},
     "output_type": "execute_result"
    }
   ],
   "source": [
    "df.head(2)"
   ]
  },
  {
   "cell_type": "code",
   "execution_count": 13,
   "metadata": {},
   "outputs": [
    {
     "data": {
      "text/html": [
       "<div>\n",
       "<style scoped>\n",
       "    .dataframe tbody tr th:only-of-type {\n",
       "        vertical-align: middle;\n",
       "    }\n",
       "\n",
       "    .dataframe tbody tr th {\n",
       "        vertical-align: top;\n",
       "    }\n",
       "\n",
       "    .dataframe thead th {\n",
       "        text-align: right;\n",
       "    }\n",
       "</style>\n",
       "<table border=\"1\" class=\"dataframe\">\n",
       "  <thead>\n",
       "    <tr style=\"text-align: right;\">\n",
       "      <th></th>\n",
       "      <th>date</th>\n",
       "      <th>info</th>\n",
       "      <th>text</th>\n",
       "    </tr>\n",
       "    <tr>\n",
       "      <th>target</th>\n",
       "      <th></th>\n",
       "      <th></th>\n",
       "      <th></th>\n",
       "    </tr>\n",
       "  </thead>\n",
       "  <tbody>\n",
       "    <tr>\n",
       "      <th>0</th>\n",
       "      <td>147</td>\n",
       "      <td>147</td>\n",
       "      <td>147</td>\n",
       "    </tr>\n",
       "    <tr>\n",
       "      <th>1</th>\n",
       "      <td>160</td>\n",
       "      <td>160</td>\n",
       "      <td>160</td>\n",
       "    </tr>\n",
       "    <tr>\n",
       "      <th>2</th>\n",
       "      <td>186</td>\n",
       "      <td>186</td>\n",
       "      <td>186</td>\n",
       "    </tr>\n",
       "    <tr>\n",
       "      <th>3</th>\n",
       "      <td>90</td>\n",
       "      <td>90</td>\n",
       "      <td>90</td>\n",
       "    </tr>\n",
       "    <tr>\n",
       "      <th>4</th>\n",
       "      <td>200</td>\n",
       "      <td>200</td>\n",
       "      <td>200</td>\n",
       "    </tr>\n",
       "    <tr>\n",
       "      <th>5</th>\n",
       "      <td>179</td>\n",
       "      <td>179</td>\n",
       "      <td>179</td>\n",
       "    </tr>\n",
       "  </tbody>\n",
       "</table>\n",
       "</div>"
      ],
      "text/plain": [
       "        date  info  text\n",
       "target                  \n",
       "0        147   147   147\n",
       "1        160   160   160\n",
       "2        186   186   186\n",
       "3         90    90    90\n",
       "4        200   200   200\n",
       "5        179   179   179"
      ]
     },
     "execution_count": 13,
     "metadata": {},
     "output_type": "execute_result"
    }
   ],
   "source": [
    "df.groupby('target').count()"
   ]
  },
  {
   "cell_type": "code",
   "execution_count": 14,
   "metadata": {},
   "outputs": [
    {
     "data": {
      "text/plain": [
       "date      0\n",
       "info      0\n",
       "text      0\n",
       "target    0\n",
       "dtype: int64"
      ]
     },
     "execution_count": 14,
     "metadata": {},
     "output_type": "execute_result"
    }
   ],
   "source": [
    "df.isna().sum()"
   ]
  },
  {
   "cell_type": "code",
   "execution_count": 15,
   "metadata": {},
   "outputs": [
    {
     "data": {
      "text/plain": [
       "date         int64\n",
       "info        object\n",
       "text        object\n",
       "target    category\n",
       "dtype: object"
      ]
     },
     "execution_count": 15,
     "metadata": {},
     "output_type": "execute_result"
    }
   ],
   "source": [
    "df.dtypes"
   ]
  },
  {
   "cell_type": "markdown",
   "metadata": {},
   "source": [
    "# Preliminary Countvectorizer"
   ]
  },
  {
   "cell_type": "code",
   "execution_count": 16,
   "metadata": {},
   "outputs": [],
   "source": [
    "stop = stopwords.words('english')\n",
    "stop.extend(['one', 'word', 'us', 'could', 'go', 'let', 'see', 'would', 'two', 'said', 'made', 'brutus', 'dryden']) "
   ]
  },
  {
   "cell_type": "code",
   "execution_count": 17,
   "metadata": {},
   "outputs": [],
   "source": [
    "cvec = CountVectorizer(stop_words=stop)\n",
    "unigrams = pd.DataFrame(cvec.fit_transform(df['text']).todense(), columns=cvec.get_feature_names())\n",
    "unigrams['target'] = df['target']"
   ]
  },
  {
   "cell_type": "code",
   "execution_count": 18,
   "metadata": {},
   "outputs": [],
   "source": [
    "target0_top_uni = unigrams.groupby('target').sum().T.sort_values(by=0, ascending=False)[[0]].head(20)\n",
    "target1_top_uni = unigrams.groupby('target').sum().T.sort_values(by=1, ascending=False)[[0]].head(20)\n",
    "target2_top_uni = unigrams.groupby('target').sum().T.sort_values(by=2, ascending=False)[[0]].head(20)\n",
    "target3_top_uni = unigrams.groupby('target').sum().T.sort_values(by=3, ascending=False)[[0]].head(20)\n",
    "target4_top_uni = unigrams.groupby('target').sum().T.sort_values(by=4, ascending=False)[[0]].head(20)\n",
    "target5_top_uni = unigrams.groupby('target').sum().T.sort_values(by=5, ascending=False)[[0]].head(20)"
   ]
  },
  {
   "cell_type": "code",
   "execution_count": 19,
   "metadata": {},
   "outputs": [],
   "source": [
    "\n",
    "target0 = target0_top_uni.rename(columns={0: 'frequency'})\n",
    "target0 = target0.reset_index()\n",
    "target0 = target0.rename(columns={'index': 'word'})\n",
    "\n",
    "target1 = target1_top_uni.rename(columns={0: 'frequency'})\n",
    "target1 = target1.reset_index()\n",
    "target1 = target1.rename(columns={'index': 'word'})\n",
    "\n",
    "target2 = target2_top_uni.rename(columns={0: 'frequency'})\n",
    "target2 = target2.reset_index()\n",
    "target2 = target2.rename(columns={'index': 'word'})\n",
    "\n",
    "target3 = target3_top_uni.rename(columns={0: 'frequency'})\n",
    "target3 = target3.reset_index()\n",
    "target3 = target3.rename(columns={'index': 'word'})\n",
    "\n",
    "target4 = target4_top_uni.rename(columns={0: 'frequency'})\n",
    "target4 = target4.reset_index()\n",
    "target4 = target4.rename(columns={'index': 'word'})\n",
    "\n",
    "target5 = target5_top_uni.rename(columns={0: 'frequency'})\n",
    "target5 = target5.reset_index()\n",
    "target5 = target5.rename(columns={'index': 'word'})"
   ]
  },
  {
   "cell_type": "code",
   "execution_count": 20,
   "metadata": {},
   "outputs": [
    {
     "data": {
      "application/javascript": [
       "const spec = {\"config\": {\"view\": {\"width\": 400, \"height\": 300}, \"mark\": {\"tooltip\": null}}, \"hconcat\": [{\"data\": {\"name\": \"data-0e884471b7e9202df9c42434b0968cb9\"}, \"mark\": {\"type\": \"bar\", \"color\": \"darkred\"}, \"encoding\": {\"x\": {\"type\": \"nominal\", \"field\": \"word\"}, \"y\": {\"type\": \"quantitative\", \"field\": \"frequency\"}}}, {\"data\": {\"name\": \"data-c21fd399cdbd73e42bb3eb020c012daa\"}, \"mark\": {\"type\": \"bar\", \"color\": \"darkred\"}, \"encoding\": {\"x\": {\"type\": \"nominal\", \"field\": \"word\"}, \"y\": {\"type\": \"quantitative\", \"field\": \"frequency\"}}}, {\"data\": {\"name\": \"data-aa0eb840db143e9ca23fe91669d15b49\"}, \"mark\": {\"type\": \"bar\", \"color\": \"darkred\"}, \"encoding\": {\"x\": {\"type\": \"nominal\", \"field\": \"word\"}, \"y\": {\"type\": \"quantitative\", \"field\": \"frequency\"}}}, {\"data\": {\"name\": \"data-ceb65063d5ab87cb7b948dbb787e4574\"}, \"mark\": {\"type\": \"bar\", \"color\": \"darkred\"}, \"encoding\": {\"x\": {\"type\": \"nominal\", \"field\": \"word\"}, \"y\": {\"type\": \"quantitative\", \"field\": \"frequency\"}}}, {\"data\": {\"name\": \"data-30b03bcbe98b29e20454dd4a64385ad1\"}, \"mark\": {\"type\": \"bar\", \"color\": \"darkred\"}, \"encoding\": {\"x\": {\"type\": \"nominal\", \"field\": \"word\"}, \"y\": {\"type\": \"quantitative\", \"field\": \"frequency\"}}}, {\"data\": {\"name\": \"data-a002af99366f76e92ba31acec2daaa0b\"}, \"mark\": {\"type\": \"bar\", \"color\": \"darkred\"}, \"encoding\": {\"x\": {\"type\": \"nominal\", \"field\": \"word\"}, \"y\": {\"type\": \"quantitative\", \"field\": \"frequency\"}}}], \"$schema\": \"https://vega.github.io/schema/vega-lite/v3.4.0.json\", \"datasets\": {\"data-0e884471b7e9202df9c42434b0968cb9\": [{\"word\": \"thou\", \"frequency\": 69}, {\"word\": \"like\", \"frequency\": 65}, {\"word\": \"life\", \"frequency\": 63}, {\"word\": \"shall\", \"frequency\": 62}, {\"word\": \"time\", \"frequency\": 59}, {\"word\": \"may\", \"frequency\": 59}, {\"word\": \"great\", \"frequency\": 56}, {\"word\": \"death\", \"frequency\": 55}, {\"word\": \"thy\", \"frequency\": 52}, {\"word\": \"upon\", \"frequency\": 51}, {\"word\": \"hath\", \"frequency\": 50}, {\"word\": \"man\", \"frequency\": 50}, {\"word\": \"must\", \"frequency\": 45}, {\"word\": \"world\", \"frequency\": 43}, {\"word\": \"heaven\", \"frequency\": 42}, {\"word\": \"thus\", \"frequency\": 40}, {\"word\": \"come\", \"frequency\": 40}, {\"word\": \"first\", \"frequency\": 39}, {\"word\": \"men\", \"frequency\": 39}, {\"word\": \"god\", \"frequency\": 38}], \"data-c21fd399cdbd73e42bb3eb020c012daa\": [{\"word\": \"upon\", \"frequency\": 51}, {\"word\": \"may\", \"frequency\": 59}, {\"word\": \"great\", \"frequency\": 56}, {\"word\": \"man\", \"frequency\": 50}, {\"word\": \"time\", \"frequency\": 59}, {\"word\": \"much\", \"frequency\": 29}, {\"word\": \"shall\", \"frequency\": 62}, {\"word\": \"men\", \"frequency\": 39}, {\"word\": \"might\", \"frequency\": 34}, {\"word\": \"must\", \"frequency\": 45}, {\"word\": \"life\", \"frequency\": 63}, {\"word\": \"first\", \"frequency\": 39}, {\"word\": \"never\", \"frequency\": 34}, {\"word\": \"yet\", \"frequency\": 38}, {\"word\": \"like\", \"frequency\": 65}, {\"word\": \"every\", \"frequency\": 15}, {\"word\": \"mr\", \"frequency\": 4}, {\"word\": \"though\", \"frequency\": 29}, {\"word\": \"well\", \"frequency\": 29}, {\"word\": \"mrs\", \"frequency\": 7}], \"data-aa0eb840db143e9ca23fe91669d15b49\": [{\"word\": \"man\", \"frequency\": 50}, {\"word\": \"time\", \"frequency\": 59}, {\"word\": \"like\", \"frequency\": 65}, {\"word\": \"upon\", \"frequency\": 51}, {\"word\": \"much\", \"frequency\": 29}, {\"word\": \"good\", \"frequency\": 36}, {\"word\": \"little\", \"frequency\": 21}, {\"word\": \"well\", \"frequency\": 29}, {\"word\": \"may\", \"frequency\": 59}, {\"word\": \"great\", \"frequency\": 56}, {\"word\": \"old\", \"frequency\": 2}, {\"word\": \"mr\", \"frequency\": 4}, {\"word\": \"first\", \"frequency\": 39}, {\"word\": \"life\", \"frequency\": 63}, {\"word\": \"know\", \"frequency\": 30}, {\"word\": \"men\", \"frequency\": 39}, {\"word\": \"say\", \"frequency\": 36}, {\"word\": \"might\", \"frequency\": 34}, {\"word\": \"must\", \"frequency\": 45}, {\"word\": \"never\", \"frequency\": 34}], \"data-ceb65063d5ab87cb7b948dbb787e4574\": [{\"word\": \"time\", \"frequency\": 59}, {\"word\": \"man\", \"frequency\": 50}, {\"word\": \"mr\", \"frequency\": 4}, {\"word\": \"mrs\", \"frequency\": 7}, {\"word\": \"little\", \"frequency\": 21}, {\"word\": \"well\", \"frequency\": 29}, {\"word\": \"back\", \"frequency\": 6}, {\"word\": \"may\", \"frequency\": 59}, {\"word\": \"know\", \"frequency\": 30}, {\"word\": \"good\", \"frequency\": 36}, {\"word\": \"much\", \"frequency\": 29}, {\"word\": \"like\", \"frequency\": 65}, {\"word\": \"life\", \"frequency\": 63}, {\"word\": \"first\", \"frequency\": 39}, {\"word\": \"men\", \"frequency\": 39}, {\"word\": \"great\", \"frequency\": 56}, {\"word\": \"going\", \"frequency\": 4}, {\"word\": \"door\", \"frequency\": 7}, {\"word\": \"upon\", \"frequency\": 51}, {\"word\": \"get\", \"frequency\": 6}], \"data-30b03bcbe98b29e20454dd4a64385ad1\": [{\"word\": \"little\", \"frequency\": 21}, {\"word\": \"man\", \"frequency\": 50}, {\"word\": \"old\", \"frequency\": 2}, {\"word\": \"time\", \"frequency\": 59}, {\"word\": \"like\", \"frequency\": 65}, {\"word\": \"upon\", \"frequency\": 51}, {\"word\": \"mrs\", \"frequency\": 7}, {\"word\": \"know\", \"frequency\": 30}, {\"word\": \"life\", \"frequency\": 63}, {\"word\": \"mr\", \"frequency\": 4}, {\"word\": \"men\", \"frequency\": 39}, {\"word\": \"good\", \"frequency\": 36}, {\"word\": \"come\", \"frequency\": 40}, {\"word\": \"well\", \"frequency\": 29}, {\"word\": \"first\", \"frequency\": 39}, {\"word\": \"much\", \"frequency\": 29}, {\"word\": \"sir\", \"frequency\": 29}, {\"word\": \"way\", \"frequency\": 20}, {\"word\": \"day\", \"frequency\": 26}, {\"word\": \"say\", \"frequency\": 36}], \"data-a002af99366f76e92ba31acec2daaa0b\": [{\"word\": \"like\", \"frequency\": 65}, {\"word\": \"time\", \"frequency\": 59}, {\"word\": \"world\", \"frequency\": 43}, {\"word\": \"love\", \"frequency\": 37}, {\"word\": \"back\", \"frequency\": 6}, {\"word\": \"man\", \"frequency\": 50}, {\"word\": \"know\", \"frequency\": 30}, {\"word\": \"never\", \"frequency\": 34}, {\"word\": \"think\", \"frequency\": 20}, {\"word\": \"things\", \"frequency\": 18}, {\"word\": \"even\", \"frequency\": 34}, {\"word\": \"way\", \"frequency\": 20}, {\"word\": \"people\", \"frequency\": 8}, {\"word\": \"first\", \"frequency\": 39}, {\"word\": \"every\", \"frequency\": 15}, {\"word\": \"life\", \"frequency\": 63}, {\"word\": \"going\", \"frequency\": 4}, {\"word\": \"eyes\", \"frequency\": 30}, {\"word\": \"something\", \"frequency\": 9}, {\"word\": \"still\", \"frequency\": 26}]}};\n",
       "const opt = {};\n",
       "const type = \"vega-lite\";\n",
       "const id = \"4a57da8d-7cef-48b8-8ae8-41180ed3db19\";\n",
       "\n",
       "const output_area = this;\n",
       "\n",
       "require([\"nbextensions/jupyter-vega/index\"], function(vega) {\n",
       "  const target = document.createElement(\"div\");\n",
       "  target.id = id;\n",
       "  target.className = \"vega-embed\";\n",
       "\n",
       "  const style = document.createElement(\"style\");\n",
       "  style.textContent = [\n",
       "    \".vega-embed .error p {\",\n",
       "    \"  color: firebrick;\",\n",
       "    \"  font-size: 14px;\",\n",
       "    \"}\",\n",
       "  ].join(\"\\\\n\");\n",
       "\n",
       "  // element is a jQuery wrapped DOM element inside the output area\n",
       "  // see http://ipython.readthedocs.io/en/stable/api/generated/\\\n",
       "  // IPython.display.html#IPython.display.Javascript.__init__\n",
       "  element[0].appendChild(target);\n",
       "  element[0].appendChild(style);\n",
       "\n",
       "  vega.render(\"#\" + id, spec, type, opt, output_area);\n",
       "}, function (err) {\n",
       "  if (err.requireType !== \"scripterror\") {\n",
       "    throw(err);\n",
       "  }\n",
       "});\n"
      ],
      "text/plain": [
       "<vega.vegalite.VegaLite at 0x1a351fa1d0>"
      ]
     },
     "metadata": {
      "jupyter-vega": "#4a57da8d-7cef-48b8-8ae8-41180ed3db19"
     },
     "output_type": "display_data"
    },
    {
     "data": {
      "text/plain": []
     },
     "execution_count": 20,
     "metadata": {},
     "output_type": "execute_result"
    },
    {
     "data": {
      "image/png": "[encoded data removed]"
     },
     "metadata": {
      "jupyter-vega": "#4a57da8d-7cef-48b8-8ae8-41180ed3db19"
     },
     "output_type": "display_data"
    }
   ],
   "source": [
    "Chart_A = alt.Chart(target0).mark_bar(color='darkred').encode(\n",
    "    x='word',\n",
    "    y='frequency'\n",
    ")\n",
    "\n",
    "Chart_B = alt.Chart(target1).mark_bar(color='darkred').encode(\n",
    "    x='word',\n",
    "    y='frequency'\n",
    ")\n",
    "\n",
    "Chart_C = alt.Chart(target2).mark_bar(color='darkred').encode(\n",
    "    x='word',\n",
    "    y='frequency'\n",
    ")\n",
    "\n",
    "Chart_D = alt.Chart(target3).mark_bar(color='darkred').encode(\n",
    "    x='word',\n",
    "    y='frequency'\n",
    ")\n",
    "\n",
    "Chart_E = alt.Chart(target4).mark_bar(color='darkred').encode(\n",
    "    x='word',\n",
    "    y='frequency'\n",
    ")\n",
    "\n",
    "Chart_F = alt.Chart(target5).mark_bar(color='darkred').encode(\n",
    "    x='word',\n",
    "    y='frequency'\n",
    "    )\n",
    "\n",
    "\n",
    "Chart_A | Chart_B | Chart_C | Chart_D | Chart_E | Chart_F"
   ]
  },
  {
   "cell_type": "code",
   "execution_count": 21,
   "metadata": {},
   "outputs": [],
   "source": [
    "bivec = CountVectorizer(stop_words=stop, ngram_range=(2, 2))\n",
    "bigrams = pd.DataFrame(bivec.fit_transform(df['text']).todense(), columns=bivec.get_feature_names())\n",
    "bigrams['target'] = df['target']"
   ]
  },
  {
   "cell_type": "code",
   "execution_count": 22,
   "metadata": {},
   "outputs": [],
   "source": [
    "target0_bi = bigrams.groupby('target').sum().T.sort_values(by=0, ascending=False)[[0]].head(20)\n",
    "target1_bi = bigrams.groupby('target').sum().T.sort_values(by=1, ascending=False)[[0]].head(20)\n",
    "target2_bi = bigrams.groupby('target').sum().T.sort_values(by=2, ascending=False)[[0]].head(20)\n",
    "target3_bi = bigrams.groupby('target').sum().T.sort_values(by=3, ascending=False)[[0]].head(20)\n",
    "target4_bi = bigrams.groupby('target').sum().T.sort_values(by=4, ascending=False)[[0]].head(20)\n",
    "target5_bi = bigrams.groupby('target').sum().T.sort_values(by=5, ascending=False)[[0]].head(20)"
   ]
  },
  {
   "cell_type": "code",
   "execution_count": 23,
   "metadata": {},
   "outputs": [],
   "source": [
    "\n",
    "target0 = target0_bi.rename(columns={0: 'frequency'})\n",
    "target0 = target0.reset_index()\n",
    "target0 = target0.rename(columns={'index': 'words'})\n",
    "\n",
    "target1 = target1_bi.rename(columns={0: 'frequency'})\n",
    "target1 = target1.reset_index()\n",
    "target1 = target1.rename(columns={'index': 'words'})\n",
    "\n",
    "target2 = target2_bi.rename(columns={0: 'frequency'})\n",
    "target2 = target2.reset_index()\n",
    "target2 = target2.rename(columns={'index': 'words'})\n",
    "\n",
    "target3 = target3_bi.rename(columns={0: 'frequency'})\n",
    "target3 = target3.reset_index()\n",
    "target3 = target3.rename(columns={'index': 'words'})\n",
    "\n",
    "target4 = target4_bi.rename(columns={0: 'frequency'})\n",
    "target4 = target4.reset_index()\n",
    "target4 = target4.rename(columns={'index': 'words'})\n",
    "\n",
    "target5 = target5_bi.rename(columns={0: 'frequency'})\n",
    "target5 = target5.reset_index()\n",
    "target5 = target5.rename(columns={'index': 'words'})"
   ]
  },
  {
   "cell_type": "code",
   "execution_count": 24,
   "metadata": {},
   "outputs": [
    {
     "data": {
      "application/javascript": [
       "const spec = {\"config\": {\"view\": {\"width\": 400, \"height\": 300}, \"mark\": {\"tooltip\": null}}, \"hconcat\": [{\"data\": {\"name\": \"data-1e9d3861a457a85b11bb0c52b2a8595c\"}, \"mark\": {\"type\": \"bar\", \"color\": \"darkred\"}, \"encoding\": {\"x\": {\"type\": \"nominal\", \"field\": \"words\"}, \"y\": {\"type\": \"quantitative\", \"field\": \"frequency\"}}}, {\"data\": {\"name\": \"data-3efad7a7088069b1f14d4d8159af090a\"}, \"mark\": {\"type\": \"bar\", \"color\": \"darkred\"}, \"encoding\": {\"x\": {\"type\": \"nominal\", \"field\": \"words\"}, \"y\": {\"type\": \"quantitative\", \"field\": \"frequency\"}}}, {\"data\": {\"name\": \"data-7ab9076510b3ae020920ee07cb399ce5\"}, \"mark\": {\"type\": \"bar\", \"color\": \"darkred\"}, \"encoding\": {\"x\": {\"type\": \"nominal\", \"field\": \"words\"}, \"y\": {\"type\": \"quantitative\", \"field\": \"frequency\"}}}, {\"data\": {\"name\": \"data-09cc597fcf6dc32f7cb1366c4c4e59a7\"}, \"mark\": {\"type\": \"bar\", \"color\": \"darkred\"}, \"encoding\": {\"x\": {\"type\": \"nominal\", \"field\": \"words\"}, \"y\": {\"type\": \"quantitative\", \"field\": \"frequency\"}}}, {\"data\": {\"name\": \"data-5bb29f4245b2ded79773fec77c4328d3\"}, \"mark\": {\"type\": \"bar\", \"color\": \"darkred\"}, \"encoding\": {\"x\": {\"type\": \"nominal\", \"field\": \"words\"}, \"y\": {\"type\": \"quantitative\", \"field\": \"frequency\"}}}, {\"data\": {\"name\": \"data-d6dec385f8a197851579e9ed6f7e6ec1\"}, \"mark\": {\"type\": \"bar\", \"color\": \"darkred\"}, \"encoding\": {\"x\": {\"type\": \"nominal\", \"field\": \"words\"}, \"y\": {\"type\": \"quantitative\", \"field\": \"frequency\"}}}], \"$schema\": \"https://vega.github.io/schema/vega-lite/v3.4.0.json\", \"datasets\": {\"data-1e9d3861a457a85b11bb0c52b2a8595c\": [{\"words\": \"royal society\", \"frequency\": 17}, {\"words\": \"natural knowledge\", \"frequency\": 10}, {\"words\": \"thou hast\", \"frequency\": 9}, {\"words\": \"sir robert\", \"frequency\": 7}, {\"words\": \"plague inventor\", \"frequency\": 6}, {\"words\": \"bloody instructions\", \"frequency\": 6}, {\"words\": \"knife besides\", \"frequency\": 6}, {\"words\": \"justice commends\", \"frequency\": 6}, {\"words\": \"subject strong\", \"frequency\": 6}, {\"words\": \"hath clear\", \"frequency\": 6}, {\"words\": \"great office\", \"frequency\": 6}, {\"words\": \"inventor even\", \"frequency\": 6}, {\"words\": \"first kinsman\", \"frequency\": 6}, {\"words\": \"instructions taught\", \"frequency\": 6}, {\"words\": \"besides duncan\", \"frequency\": 6}, {\"words\": \"hath borne\", \"frequency\": 6}, {\"words\": \"kinsman subject\", \"frequency\": 6}, {\"words\": \"strong deed\", \"frequency\": 6}, {\"words\": \"present wisdom\", \"frequency\": 6}, {\"words\": \"taught return\", \"frequency\": 6}], \"data-3efad7a7088069b1f14d4d8159af090a\": [{\"words\": \"mrs bargrave\", \"frequency\": 0}, {\"words\": \"mrs veal\", \"frequency\": 0}, {\"words\": \"mr badman\", \"frequency\": 0}, {\"words\": \"says mrs\", \"frequency\": 0}, {\"words\": \"french king\", \"frequency\": 0}, {\"words\": \"moor park\", \"frequency\": 0}, {\"words\": \"though may\", \"frequency\": 0}, {\"words\": \"french nation\", \"frequency\": 0}, {\"words\": \"lady giffard\", \"frequency\": 0}, {\"words\": \"roul de\", \"frequency\": 0}, {\"words\": \"temple left\", \"frequency\": 0}, {\"words\": \"thou art\", \"frequency\": 6}, {\"words\": \"queen die\", \"frequency\": 0}, {\"words\": \"mr purfleet\", \"frequency\": 0}, {\"words\": \"king france\", \"frequency\": 0}, {\"words\": \"years ago\", \"frequency\": 0}, {\"words\": \"common sense\", \"frequency\": 0}, {\"words\": \"young man\", \"frequency\": 0}, {\"words\": \"many years\", \"frequency\": 2}, {\"words\": \"de foe\", \"frequency\": 0}], \"data-7ab9076510b3ae020920ee07cb399ce5\": [{\"words\": \"mr george\", \"frequency\": 0}, {\"words\": \"good deal\", \"frequency\": 0}, {\"words\": \"days labour\", \"frequency\": 0}, {\"words\": \"old man\", \"frequency\": 0}, {\"words\": \"young man\", \"frequency\": 0}, {\"words\": \"fall love\", \"frequency\": 0}, {\"words\": \"sexual selection\", \"frequency\": 0}, {\"words\": \"great deal\", \"frequency\": 2}, {\"words\": \"sir thomas\", \"frequency\": 0}, {\"words\": \"mr croft\", \"frequency\": 0}, {\"words\": \"new york\", \"frequency\": 0}, {\"words\": \"mr mivart\", \"frequency\": 0}, {\"words\": \"good night\", \"frequency\": 1}, {\"words\": \"took place\", \"frequency\": 4}, {\"words\": \"mr harding\", \"frequency\": 0}, {\"words\": \"every direction\", \"frequency\": 0}, {\"words\": \"monsieur du\", \"frequency\": 0}, {\"words\": \"animal vegetable\", \"frequency\": 0}, {\"words\": \"united states\", \"frequency\": 0}, {\"words\": \"du miroir\", \"frequency\": 0}], \"data-09cc597fcf6dc32f7cb1366c4c4e59a7\": [{\"words\": \"mrs dudgeon\", \"frequency\": 0}, {\"words\": \"mr hatchard\", \"frequency\": 0}, {\"words\": \"says bill\", \"frequency\": 0}, {\"words\": \"mrs roberts\", \"frequency\": 0}, {\"words\": \"young lady\", \"frequency\": 0}, {\"words\": \"miss dowson\", \"frequency\": 0}, {\"words\": \"hours idleness\", \"frequency\": 0}, {\"words\": \"fugitive pieces\", \"frequency\": 0}, {\"words\": \"mr chugwater\", \"frequency\": 0}, {\"words\": \"young man\", \"frequency\": 0}, {\"words\": \"new love\", \"frequency\": 0}, {\"words\": \"various occasions\", \"frequency\": 0}, {\"words\": \"poems various\", \"frequency\": 0}, {\"words\": \"true love\", \"frequency\": 0}, {\"words\": \"mr crowder\", \"frequency\": 0}, {\"words\": \"says jimmy\", \"frequency\": 0}, {\"words\": \"st john\", \"frequency\": 0}, {\"words\": \"mr pett\", \"frequency\": 0}, {\"words\": \"rover boys\", \"frequency\": 0}, {\"words\": \"uncle john\", \"frequency\": 0}], \"data-5bb29f4245b2ded79773fec77c4328d3\": [{\"words\": \"unc billy\", \"frequency\": 0}, {\"words\": \"mrs harris\", \"frequency\": 0}, {\"words\": \"mrs dowey\", \"frequency\": 0}, {\"words\": \"old mr\", \"frequency\": 0}, {\"words\": \"old man\", \"frequency\": 0}, {\"words\": \"mr toad\", \"frequency\": 0}, {\"words\": \"sir richmond\", \"frequency\": 0}, {\"words\": \"little man\", \"frequency\": 0}, {\"words\": \"mrs mickleham\", \"frequency\": 0}, {\"words\": \"mrs twymley\", \"frequency\": 0}, {\"words\": \"first time\", \"frequency\": 0}, {\"words\": \"haggerty woman\", \"frequency\": 0}, {\"words\": \"mr potts\", \"frequency\": 0}, {\"words\": \"de vac\", \"frequency\": 0}, {\"words\": \"yes sir\", \"frequency\": 0}, {\"words\": \"grand duchess\", \"frequency\": 0}, {\"words\": \"new york\", \"frequency\": 0}, {\"words\": \"green forest\", \"frequency\": 0}, {\"words\": \"young man\", \"frequency\": 0}, {\"words\": \"smiling pool\", \"frequency\": 0}], \"data-d6dec385f8a197851579e9ed6f7e6ec1\": [{\"words\": \"another fig\", \"frequency\": 0}, {\"words\": \"pretty girl\", \"frequency\": 0}, {\"words\": \"mr sir\", \"frequency\": 0}, {\"words\": \"dust dark\", \"frequency\": 0}, {\"words\": \"fig tree\", \"frequency\": 0}, {\"words\": \"stand still\", \"frequency\": 2}, {\"words\": \"even though\", \"frequency\": 0}, {\"words\": \"south america\", \"frequency\": 0}, {\"words\": \"eleven thirty\", \"frequency\": 0}, {\"words\": \"tomashevski must\", \"frequency\": 0}, {\"words\": \"long time\", \"frequency\": 0}, {\"words\": \"hedge object\", \"frequency\": 0}, {\"words\": \"moon base\", \"frequency\": 0}, {\"words\": \"want look\", \"frequency\": 0}, {\"words\": \"though light\", \"frequency\": 0}, {\"words\": \"things happen\", \"frequency\": 0}, {\"words\": \"white cops\", \"frequency\": 0}, {\"words\": \"rhaegar fought\", \"frequency\": 0}, {\"words\": \"africa south\", \"frequency\": 0}, {\"words\": \"thousands words\", \"frequency\": 0}]}};\n",
       "const opt = {};\n",
       "const type = \"vega-lite\";\n",
       "const id = \"2adec718-91b1-4028-854e-6ad4b2bae834\";\n",
       "\n",
       "const output_area = this;\n",
       "\n",
       "require([\"nbextensions/jupyter-vega/index\"], function(vega) {\n",
       "  const target = document.createElement(\"div\");\n",
       "  target.id = id;\n",
       "  target.className = \"vega-embed\";\n",
       "\n",
       "  const style = document.createElement(\"style\");\n",
       "  style.textContent = [\n",
       "    \".vega-embed .error p {\",\n",
       "    \"  color: firebrick;\",\n",
       "    \"  font-size: 14px;\",\n",
       "    \"}\",\n",
       "  ].join(\"\\\\n\");\n",
       "\n",
       "  // element is a jQuery wrapped DOM element inside the output area\n",
       "  // see http://ipython.readthedocs.io/en/stable/api/generated/\\\n",
       "  // IPython.display.html#IPython.display.Javascript.__init__\n",
       "  element[0].appendChild(target);\n",
       "  element[0].appendChild(style);\n",
       "\n",
       "  vega.render(\"#\" + id, spec, type, opt, output_area);\n",
       "}, function (err) {\n",
       "  if (err.requireType !== \"scripterror\") {\n",
       "    throw(err);\n",
       "  }\n",
       "});\n"
      ],
      "text/plain": [
       "<vega.vegalite.VegaLite at 0x1a35572fd0>"
      ]
     },
     "metadata": {
      "jupyter-vega": "#2adec718-91b1-4028-854e-6ad4b2bae834"
     },
     "output_type": "display_data"
    },
    {
     "data": {
      "text/plain": []
     },
     "execution_count": 24,
     "metadata": {},
     "output_type": "execute_result"
    },
    {
     "data": {
      "image/png": "[encoded data removed]"
     },
     "metadata": {
      "jupyter-vega": "#2adec718-91b1-4028-854e-6ad4b2bae834"
     },
     "output_type": "display_data"
    }
   ],
   "source": [
    "Chart_A = alt.Chart(target0).mark_bar(color='darkred').encode(\n",
    "    x='words',\n",
    "    y='frequency'\n",
    ")\n",
    "\n",
    "Chart_B = alt.Chart(target1).mark_bar(color='darkred').encode(\n",
    "    x='words',\n",
    "    y='frequency'\n",
    ")\n",
    "\n",
    "Chart_C = alt.Chart(target2).mark_bar(color='darkred').encode(\n",
    "    x='words',\n",
    "    y='frequency'\n",
    ")\n",
    "\n",
    "Chart_D = alt.Chart(target3).mark_bar(color='darkred').encode(\n",
    "    x='words',\n",
    "    y='frequency'\n",
    ")\n",
    "\n",
    "Chart_E = alt.Chart(target4).mark_bar(color='darkred').encode(\n",
    "    x='words',\n",
    "    y='frequency'\n",
    ")\n",
    "\n",
    "Chart_F = alt.Chart(target5).mark_bar(color='darkred').encode(\n",
    "    x='words',\n",
    "    y='frequency'\n",
    "    )\n",
    "\n",
    "\n",
    "Chart_A | Chart_B | Chart_C | Chart_D | Chart_E | Chart_F"
   ]
  },
  {
   "cell_type": "markdown",
   "metadata": {},
   "source": [
    "# LDA"
   ]
  },
  {
   "cell_type": "code",
   "execution_count": 25,
   "metadata": {},
   "outputs": [],
   "source": [
    "target0 = df[df.target == 0]['text']\n",
    "target1 = df[df.target == 1]['text']\n",
    "target2 = df[df.target == 2]['text']\n",
    "target3 = df[df.target == 3]['text']\n",
    "target4 = df[df.target == 4]['text']\n",
    "target5 = df[df.target == 5]['text']\n",
    "target6 = df[df.target == 6]['text']"
   ]
  },
  {
   "cell_type": "code",
   "execution_count": 122,
   "metadata": {},
   "outputs": [
    {
     "data": {
      "text/html": [
       "\n",
       "<link rel=\"stylesheet\" type=\"text/css\" href=\"https://cdn.rawgit.com/bmabey/pyLDAvis/files/ldavis.v1.0.0.css\">\n",
       "\n",
       "\n",
       "<div id=\"ldavis_el604781125555645124995055027\"></div>\n",
       "<script type=\"text/javascript\">\n",
       "\n",
       "var ldavis_el604781125555645124995055027_data = {\"mdsDat\": {\"x\": [0.023462017995320803, -0.12489792446423412, 0.10143590646891326], \"y\": [-0.11931271989111567, 0.04110422501096958, 0.0782084948801461], \"topics\": [1, 2, 3], \"cluster\": [1, 1, 1], \"Freq\": [36.79881229975965, 35.45887021882311, 27.74231748141724]}, \"tinfo\": {\"Category\": [\"Default\", \"Default\", \"Default\", \"Default\", \"Default\", \"Default\", \"Default\", \"Default\", \"Default\", \"Default\", \"Default\", \"Default\", \"Default\", \"Default\", \"Default\", \"Default\", \"Default\", \"Default\", \"Default\", \"Default\", \"Default\", \"Default\", \"Default\", \"Default\", \"Default\", \"Default\", \"Default\", \"Default\", \"Default\", \"Default\", \"Topic1\", \"Topic1\", \"Topic1\", \"Topic1\", \"Topic1\", \"Topic1\", \"Topic1\", \"Topic1\", \"Topic1\", \"Topic1\", \"Topic1\", \"Topic1\", \"Topic1\", \"Topic1\", \"Topic1\", \"Topic1\", \"Topic1\", \"Topic1\", \"Topic1\", \"Topic1\", \"Topic1\", \"Topic1\", \"Topic1\", \"Topic1\", \"Topic1\", \"Topic1\", \"Topic1\", \"Topic1\", \"Topic1\", \"Topic1\", \"Topic1\", \"Topic1\", \"Topic1\", \"Topic1\", \"Topic1\", \"Topic1\", \"Topic1\", \"Topic1\", \"Topic1\", \"Topic1\", \"Topic1\", \"Topic1\", \"Topic1\", \"Topic1\", \"Topic1\", \"Topic1\", \"Topic1\", \"Topic1\", \"Topic1\", \"Topic1\", \"Topic1\", \"Topic1\", \"Topic1\", \"Topic1\", \"Topic1\", \"Topic1\", \"Topic1\", \"Topic1\", \"Topic1\", \"Topic1\", \"Topic1\", \"Topic1\", \"Topic1\", \"Topic1\", \"Topic1\", \"Topic1\", \"Topic2\", \"Topic2\", \"Topic2\", \"Topic2\", \"Topic2\", \"Topic2\", \"Topic2\", \"Topic2\", \"Topic2\", \"Topic2\", \"Topic2\", \"Topic2\", \"Topic2\", \"Topic2\", \"Topic2\", \"Topic2\", \"Topic2\", \"Topic2\", \"Topic2\", \"Topic2\", \"Topic2\", \"Topic2\", \"Topic2\", \"Topic2\", \"Topic2\", \"Topic2\", \"Topic2\", \"Topic2\", \"Topic2\", \"Topic2\", \"Topic2\", \"Topic2\", \"Topic2\", \"Topic2\", \"Topic2\", \"Topic2\", \"Topic2\", \"Topic2\", \"Topic2\", \"Topic2\", \"Topic2\", \"Topic2\", \"Topic2\", \"Topic2\", \"Topic2\", \"Topic2\", \"Topic2\", \"Topic2\", \"Topic2\", \"Topic2\", \"Topic2\", \"Topic2\", \"Topic2\", \"Topic2\", \"Topic2\", \"Topic2\", \"Topic2\", \"Topic2\", \"Topic2\", \"Topic2\", \"Topic2\", \"Topic2\", \"Topic2\", \"Topic2\", \"Topic2\", \"Topic2\", \"Topic3\", \"Topic3\", \"Topic3\", \"Topic3\", \"Topic3\", \"Topic3\", \"Topic3\", \"Topic3\", \"Topic3\", \"Topic3\", \"Topic3\", \"Topic3\", \"Topic3\", \"Topic3\", \"Topic3\", \"Topic3\", \"Topic3\", \"Topic3\", \"Topic3\", \"Topic3\", \"Topic3\", \"Topic3\", \"Topic3\", \"Topic3\", \"Topic3\", \"Topic3\", \"Topic3\", \"Topic3\", \"Topic3\", \"Topic3\", \"Topic3\", \"Topic3\", \"Topic3\", \"Topic3\", \"Topic3\", \"Topic3\", \"Topic3\", \"Topic3\", \"Topic3\", \"Topic3\", \"Topic3\", \"Topic3\", \"Topic3\", \"Topic3\", \"Topic3\", \"Topic3\", \"Topic3\", \"Topic3\", \"Topic3\", \"Topic3\", \"Topic3\", \"Topic3\", \"Topic3\", \"Topic3\", \"Topic3\", \"Topic3\", \"Topic3\", \"Topic3\", \"Topic3\", \"Topic3\", \"Topic3\", \"Topic3\", \"Topic3\", \"Topic3\", \"Topic3\", \"Topic3\", \"Topic3\", \"Topic3\", \"Topic3\"], \"Freq\": [12.0, 19.0, 16.0, 10.0, 13.0, 16.0, 17.0, 13.0, 37.0, 12.0, 18.0, 13.0, 11.0, 10.0, 10.0, 22.0, 7.0, 13.0, 9.0, 10.0, 17.0, 7.0, 14.0, 40.0, 11.0, 13.0, 23.0, 11.0, 9.0, 9.0, 11.073841205854306, 9.528687783080638, 8.756088824178992, 8.756079431834447, 8.756053463549113, 7.983487820115498, 7.983484873230941, 7.9834507976424645, 7.210891865109747, 7.2108685129488705, 6.438300963209943, 6.4382964022155384, 6.438295873442619, 6.438295873442619, 6.438294606840276, 5.665703654739527, 5.665703654739527, 5.665696349278071, 5.665687291086099, 4.893106543718209, 4.893106543718209, 4.893105513575141, 4.8930766656637035, 4.893066396537575, 4.893059365145617, 4.893054645459742, 4.893046402784289, 4.893010656280521, 11.861735564326205, 4.120508510062104, 9.53730504394099, 9.530792431318178, 11.145596470366804, 7.997765115026973, 10.312513264113814, 28.104181315798954, 7.216503667632255, 7.217970083640948, 11.848976403923434, 30.413748168331164, 13.394599225037085, 17.26636678010545, 14.93310320745818, 17.26753487179413, 21.125906474534663, 14.949091816445911, 11.849205391091212, 14.180996298053094, 17.252543536303445, 8.76038546737027, 12.622936285277095, 11.845747161614025, 18.784124601801437, 12.622882346689252, 17.253458826183486, 11.852193666611214, 15.695253424387115, 12.626966532352226, 11.857267266688577, 11.84937637683373, 13.380470189501358, 12.615524285651402, 11.843247297670619, 11.077645480507195, 11.83576984053048, 11.075807920416954, 12.534784478790414, 11.767346790482875, 10.232478531570415, 10.232477258918324, 7.162730380250186, 6.395291808693104, 6.395291808693104, 15.618801813566272, 14.859223020313724, 5.627858325165366, 5.627856513676963, 5.627856513676963, 5.627855256802513, 5.627855256802513, 5.627838522156806, 5.627833677979773, 5.624314178598405, 4.860418981808632, 4.860418981808632, 4.860411114318102, 4.860403650061638, 4.860396324551096, 4.8603869002539, 4.860373899336311, 4.860360272489552, 4.860358214383756, 4.860332005037228, 4.856249477471498, 10.241970991512357, 4.092984531670748, 15.61519953205703, 11.003938388601492, 12.541303882175304, 7.172886828993939, 8.697949000353823, 8.702802158569154, 6.398223775971096, 6.396403729302843, 8.700348588809367, 6.404229076511634, 17.91310873886609, 6.396021258422442, 23.9145094672773, 10.179277960787937, 17.045634851947298, 15.465729381129622, 14.703270173606407, 20.64430071053349, 21.74699791241427, 13.319622419135037, 7.933358987843121, 17.925625539572888, 14.085683082230787, 10.242280665855958, 17.756522753839384, 15.605909533336165, 9.471598820741942, 14.076107100291718, 12.773173795790868, 11.77340381708008, 13.836738712221551, 14.846671065293574, 13.303224135865964, 13.96971578962835, 11.77104026537406, 10.996064688593759, 11.784127886195401, 10.341155486200833, 7.455248057911397, 6.733759004927839, 6.0080207069887, 5.290818166265324, 5.29081605719965, 5.2908110132848, 5.290803819271787, 5.290802491894179, 5.283482993930933, 4.569340855502236, 4.569339923211833, 4.569333725654283, 4.569333725654283, 4.569333725654283, 4.569333725654283, 4.569333725654283, 4.569333725654283, 4.569333725654283, 4.569333725654283, 4.569333725654283, 4.569333725654283, 4.569333725654283, 4.569333725654283, 4.569333725654283, 4.569331071717376, 4.569327678109683, 4.569326937747419, 4.5693262748780805, 11.799487264232287, 8.18196069306513, 14.664444172625606, 6.742401286239044, 6.735448213982424, 13.136369372940951, 10.347884328183357, 7.45723660580193, 21.00893135764701, 6.7522279525770905, 13.24424230844769, 7.46777208720231, 8.180086250063239, 8.894599198553141, 14.432818425905516, 6.019520430482646, 13.615219565284287, 6.01301943687686, 14.908054045161084, 16.849449476190134, 16.208137054069546, 14.678801873547664, 14.675788330745764, 8.904041301080037, 7.449970335566772, 6.756770928683017, 8.907014406816025, 12.099887860312963, 10.030573408623484, 8.904233300202195, 9.622470956578677, 9.619293921531217, 9.405893822292342, 7.936628408415975, 9.615361748968326, 8.374384575958778, 8.183822805309042, 8.316848439856656, 8.311182897895504], \"Term\": [\"heav\", \"king\", \"society\", \"purgatory\", \"hell\", \"royal\", \"faith\", \"stage\", \"hath\", \"natural\", \"fear\", \"deed\", \"wisdom\", \"knowledge\", \"progress\", \"eyes\", \"blow\", \"divine\", \"besides\", \"poetry\", \"th\", \"trust\", \"night\", \"thy\", \"christ\", \"noble\", \"sir\", \"whether\", \"feeling\", \"highest\", \"wisdom\", \"poetry\", \"feeling\", \"highest\", \"flat\", \"whither\", \"ease\", \"flatness\", \"feels\", \"dost\", \"immortal\", \"immensity\", \"wordsworth\", \"resembled\", \"greek\", \"kai\", \"coursers\", \"connected\", \"jack\", \"warrior\", \"rhyme\", \"homer\", \"struck\", \"soft\", \"get\", \"exactly\", \"andrew\", \"clown\", \"divine\", \"exhibits\", \"sense\", \"twenty\", \"give\", \"mortal\", \"makes\", \"thy\", \"seen\", \"presence\", \"rather\", \"thou\", \"spirit\", \"make\", \"sir\", \"say\", \"man\", \"cannot\", \"bear\", \"know\", \"must\", \"wise\", \"far\", \"although\", \"life\", \"well\", \"shall\", \"always\", \"great\", \"never\", \"thee\", \"good\", \"time\", \"may\", \"world\", \"whose\", \"death\", \"men\", \"stage\", \"natural\", \"knowledge\", \"progress\", \"cromwell\", \"literary\", \"particularly\", \"society\", \"royal\", \"century\", \"robert\", \"howard\", \"plays\", \"satire\", \"wrote\", \"eat\", \"half\", \"butler\", \"previous\", \"furnished\", \"fact\", \"philosophy\", \"gospel\", \"flesh\", \"gracious\", \"caesar\", \"faculty\", \"broke\", \"christ\", \"latter\", \"faith\", \"noble\", \"state\", \"unfortunate\", \"works\", \"london\", \"author\", \"wife\", \"year\", \"hour\", \"god\", \"moving\", \"time\", \"work\", \"yet\", \"might\", \"even\", \"may\", \"like\", \"without\", \"art\", \"great\", \"first\", \"lord\", \"thou\", \"death\", \"lady\", \"must\", \"come\", \"thee\", \"upon\", \"life\", \"man\", \"shall\", \"world\", \"never\", \"heav\", \"purgatory\", \"blow\", \"trust\", \"virtues\", \"damnation\", \"host\", \"door\", \"penalties\", \"horror\", \"poison\", \"hail\", \"horrid\", \"teach\", \"shut\", \"murderer\", \"meek\", \"instructions\", \"inventor\", \"kinsman\", \"chalice\", \"commends\", \"faculties\", \"handed\", \"return\", \"ingredients\", \"bank\", \"sightless\", \"penalty\", \"necessarily\", \"hell\", \"besides\", \"king\", \"tears\", \"sea\", \"fear\", \"deed\", \"deep\", \"hath\", \"murder\", \"eyes\", \"rest\", \"whether\", \"night\", \"thus\", \"borne\", \"heaven\", \"lay\", \"upon\", \"like\", \"shall\", \"death\", \"life\", \"th\", \"end\", \"lies\", \"still\", \"may\", \"love\", \"much\", \"men\", \"world\", \"come\", \"earth\", \"great\", \"though\", \"new\", \"even\", \"time\"], \"Total\": [12.0, 19.0, 16.0, 10.0, 13.0, 16.0, 17.0, 13.0, 37.0, 12.0, 18.0, 13.0, 11.0, 10.0, 10.0, 22.0, 7.0, 13.0, 9.0, 10.0, 17.0, 7.0, 14.0, 40.0, 11.0, 13.0, 23.0, 11.0, 9.0, 9.0, 11.57020564330901, 10.025011530654558, 9.252413604560378, 9.252413256690787, 9.252412240920961, 8.4798155988939, 8.479815440123607, 8.47981416349419, 7.707217791533716, 7.707216872301167, 6.934620182338972, 6.934620003664559, 6.934619981852846, 6.934619981852846, 6.934619952593714, 6.162022321218658, 6.162022321218658, 6.16202203146427, 6.162021672930965, 5.389424467866281, 5.389424467866281, 5.389424427275947, 5.38942334177004, 5.389422866488276, 5.389422636213285, 5.389422471549305, 5.389422334213083, 5.389420503144239, 13.110340882722626, 4.616826578139983, 10.747061851694623, 10.746630257497236, 13.063583550594158, 9.202240642406316, 12.241311770384115, 40.52535673125903, 8.429069555002371, 8.474698699328389, 16.18000376044057, 53.57919161626978, 19.122328061400047, 28.082177767229883, 23.107535182910105, 28.265879661214782, 38.989877972056185, 24.367093966862686, 17.393802518585236, 23.773331764090663, 35.172486339842, 11.509156921279185, 22.141234303108423, 20.01716505669176, 48.306583997840775, 22.697927062384437, 47.43131166988138, 21.506935530778847, 43.23624071292833, 26.745719851307598, 26.019864768916456, 27.976127415884378, 45.606162554674164, 45.35971285649785, 33.23358148457589, 24.136991927675314, 42.12048124741431, 30.158505921447105, 13.03282270880087, 12.265386087772605, 10.730513052406204, 10.730513015416722, 7.660766653124995, 6.893330006146985, 6.893330006146985, 16.875068944087747, 16.107577382526507, 6.125893502403853, 6.125893457490224, 6.125893457490224, 6.125893419262847, 6.125893419262847, 6.125892890459185, 6.125892765357472, 6.125681925160966, 5.358456840333433, 5.358456840333433, 5.358456598663823, 5.358456351457533, 5.358456184943505, 5.358455877921408, 5.358455606750415, 5.35845501729761, 5.358454849179484, 5.358454299488029, 5.358207624588756, 11.45256300584911, 4.591020313350955, 17.647690237250448, 13.043115500666945, 15.299493118285735, 8.433291510754845, 10.638618589412847, 10.740798974809342, 7.614985190211136, 7.6148771153140755, 11.36024106215391, 7.66586349879018, 29.48266713091952, 7.6659195042151405, 45.606162554674164, 14.436015125820557, 29.73725474271327, 26.552022701365026, 26.352763037952165, 45.35971285649785, 49.65136097478292, 24.46384603933081, 10.745879527687167, 43.23624071292833, 30.280811477950742, 17.63326317889864, 53.57919161626978, 42.12048124741431, 15.37121546264721, 35.172486339842, 30.924168260828168, 26.019864768916456, 39.025744720107724, 48.306583997840775, 38.989877972056185, 47.43131166988138, 33.23358148457589, 26.745719851307598, 12.297496627678923, 10.854540470002968, 7.968625646737629, 7.247147758904084, 6.525940541427827, 5.8041894815052295, 5.804189623823922, 5.804189962570637, 5.804190447311511, 5.804190539064445, 5.8046567980943955, 5.082710811038212, 5.082710869117312, 5.082711285807591, 5.082711285807591, 5.082711285807591, 5.082711285807591, 5.082711285807591, 5.082711285807591, 5.082711285807591, 5.082711285807591, 5.082711285807591, 5.082711285807591, 5.082711285807591, 5.082711285807591, 5.082711285807591, 5.08271146849907, 5.0827117104748005, 5.082711742838715, 5.08271178748402, 13.841603849712058, 9.457207541369774, 19.81927527104504, 8.019133086307297, 8.019553132264544, 18.37142221559528, 13.944455090772301, 9.513680503753928, 37.874884021534726, 8.785945228714299, 22.958796127258456, 10.275259751133426, 11.780257603317857, 14.047396557062266, 30.598785964330617, 8.06008135189224, 32.19614502548456, 8.07081258100175, 39.025744720107724, 49.65136097478292, 47.43131166988138, 42.12048124741431, 48.306583997840775, 17.137148062353525, 11.831924780238516, 10.330828408251925, 20.19127046332936, 45.35971285649785, 28.587236505173863, 22.478175813916522, 30.158505921447105, 33.23358148457589, 30.924168260828168, 15.648480544862792, 43.23624071292833, 22.517064636621893, 21.004651472768067, 26.352763037952165, 45.606162554674164], \"loglift\": [30.0, 29.0, 28.0, 27.0, 26.0, 25.0, 24.0, 23.0, 22.0, 21.0, 20.0, 19.0, 18.0, 17.0, 16.0, 15.0, 14.0, 13.0, 12.0, 11.0, 10.0, 9.0, 8.0, 7.0, 6.0, 5.0, 4.0, 3.0, 2.0, 1.0, 0.9559, 0.9489, 0.9446, 0.9446, 0.9446, 0.9394, 0.9394, 0.9394, 0.9331, 0.9331, 0.9254, 0.9254, 0.9254, 0.9254, 0.9254, 0.9157, 0.9157, 0.9157, 0.9157, 0.9031, 0.9031, 0.9031, 0.9031, 0.9031, 0.9031, 0.9031, 0.9031, 0.9031, 0.8996, 0.886, 0.8803, 0.8796, 0.8409, 0.8594, 0.8282, 0.6337, 0.8444, 0.8392, 0.6882, 0.4334, 0.6437, 0.5133, 0.5631, 0.5069, 0.3869, 0.5111, 0.6159, 0.483, 0.2874, 0.7268, 0.4378, 0.4751, 0.0551, 0.4129, -0.0116, 0.4038, -0.0136, 0.2492, 0.2138, 0.1406, -0.2265, -0.28, -0.0321, 0.2209, -0.2697, -0.002, 0.9978, 0.9953, 0.9893, 0.9893, 0.9696, 0.9618, 0.9618, 0.9594, 0.9561, 0.952, 0.952, 0.952, 0.952, 0.952, 0.952, 0.952, 0.9514, 0.9392, 0.9392, 0.9392, 0.9392, 0.9392, 0.9392, 0.9392, 0.9392, 0.9392, 0.9392, 0.9384, 0.9251, 0.922, 0.9144, 0.8668, 0.838, 0.8749, 0.8354, 0.8264, 0.8627, 0.8624, 0.77, 0.857, 0.5385, 0.8557, 0.3912, 0.6874, 0.4803, 0.4963, 0.4533, 0.2496, 0.2112, 0.4288, 0.7334, 0.1563, 0.2714, 0.4935, -0.0676, 0.0439, 0.5526, 0.121, 0.1526, 0.2438, -0.0001, -0.143, -0.0385, -0.1856, -0.0011, 0.148, 1.2396, 1.2338, 1.2156, 1.2087, 1.1995, 1.1896, 1.1896, 1.1896, 1.1896, 1.1896, 1.1881, 1.1757, 1.1757, 1.1757, 1.1757, 1.1757, 1.1757, 1.1757, 1.1757, 1.1757, 1.1757, 1.1757, 1.1757, 1.1757, 1.1757, 1.1757, 1.1757, 1.1757, 1.1757, 1.1757, 1.1226, 1.1374, 0.981, 1.1088, 1.1077, 0.9468, 0.9839, 1.0387, 0.6929, 1.0189, 0.7321, 0.9631, 0.9175, 0.8252, 0.5308, 0.9903, 0.4216, 0.9879, 0.3199, 0.2015, 0.2084, 0.2281, 0.0908, 0.6275, 0.8196, 0.8576, 0.4638, -0.0392, 0.2349, 0.3562, 0.1398, 0.0424, 0.092, 0.6033, -0.2211, 0.2931, 0.3396, 0.1289, -0.4202], \"logprob\": [30.0, 29.0, 28.0, 27.0, 26.0, 25.0, 24.0, 23.0, 22.0, 21.0, 20.0, 19.0, 18.0, 17.0, 16.0, 15.0, 14.0, 13.0, 12.0, 11.0, 10.0, 9.0, 8.0, 7.0, 6.0, 5.0, 4.0, 3.0, 2.0, 1.0, -6.1544, -6.3047, -6.3892, -6.3892, -6.3892, -6.4816, -6.4816, -6.4816, -6.5834, -6.5834, -6.6967, -6.6967, -6.6967, -6.6967, -6.6967, -6.8245, -6.8245, -6.8245, -6.8245, -6.9711, -6.9711, -6.9711, -6.9711, -6.9711, -6.9711, -6.9711, -6.9712, -6.9712, -6.0856, -7.143, -6.3038, -6.3044, -6.1479, -6.4798, -6.2256, -5.223, -6.5826, -6.5824, -6.0867, -5.1441, -5.9641, -5.7102, -5.8554, -5.7101, -5.5085, -5.8543, -6.0867, -5.9071, -5.711, -6.3887, -6.0235, -6.087, -5.626, -6.0235, -5.711, -6.0865, -5.8056, -6.0231, -6.086, -6.0867, -5.9652, -6.024, -6.0872, -6.154, -6.0878, -6.1542, -5.9934, -6.0565, -6.1963, -6.1963, -6.553, -6.6663, -6.6663, -5.7734, -5.8233, -6.7941, -6.7941, -6.7941, -6.7941, -6.7941, -6.7941, -6.7941, -6.7948, -6.9407, -6.9407, -6.9408, -6.9408, -6.9408, -6.9408, -6.9408, -6.9408, -6.9408, -6.9408, -6.9416, -6.1954, -7.1126, -5.7736, -6.1236, -5.9928, -6.5516, -6.3588, -6.3582, -6.6659, -6.6661, -6.3585, -6.6649, -5.6363, -6.6662, -5.3474, -6.2015, -5.686, -5.7832, -5.8338, -5.4944, -5.4424, -5.9326, -6.4508, -5.6356, -5.8767, -6.1953, -5.6451, -5.7742, -6.2736, -5.8774, -5.9745, -6.056, -5.8945, -5.8241, -5.9339, -5.885, -6.0562, -6.1243, -5.8097, -5.9403, -6.2675, -6.3693, -6.4834, -6.6105, -6.6105, -6.6105, -6.6105, -6.6105, -6.6119, -6.7571, -6.7571, -6.7571, -6.7571, -6.7571, -6.7571, -6.7571, -6.7571, -6.7571, -6.7571, -6.7571, -6.7571, -6.7571, -6.7571, -6.7571, -6.7571, -6.7571, -6.7571, -6.7571, -5.8084, -6.1745, -5.591, -6.368, -6.3691, -5.7011, -5.9397, -6.2673, -5.2315, -6.3666, -5.6929, -6.2659, -6.1748, -6.091, -5.607, -6.4815, -5.6653, -6.4825, -5.5746, -5.4521, -5.4909, -5.5901, -5.5903, -6.09, -6.2682, -6.3659, -6.0896, -5.7833, -5.9708, -6.0899, -6.0124, -6.0127, -6.0351, -6.205, -6.0131, -6.1513, -6.1743, -6.1582, -6.1589]}, \"token.table\": {\"Topic\": [1, 2, 1, 2, 3, 1, 1, 2, 2, 3, 3, 1, 3, 2, 3, 3, 2, 3, 2, 2, 2, 1, 2, 3, 2, 3, 2, 3, 1, 1, 2, 3, 3, 1, 1, 2, 3, 1, 2, 3, 1, 3, 1, 3, 1, 2, 3, 1, 1, 2, 3, 1, 2, 1, 3, 1, 2, 3, 1, 1, 1, 2, 3, 2, 3, 2, 1, 2, 1, 2, 3, 1, 2, 3, 1, 1, 1, 2, 3, 1, 1, 2, 2, 1, 1, 2, 3, 1, 2, 3, 1, 2, 3, 2, 2, 1, 2, 3, 1, 3, 2, 3, 1, 2, 3, 3, 1, 2, 3, 1, 3, 1, 1, 3, 3, 3, 1, 2, 2, 1, 1, 3, 3, 3, 1, 1, 1, 3, 3, 1, 2, 3, 2, 1, 2, 2, 1, 3, 1, 2, 3, 1, 2, 3, 1, 2, 3, 2, 1, 2, 1, 2, 3, 1, 2, 3, 1, 2, 3, 1, 3, 1, 2, 3, 1, 2, 3, 3, 1, 2, 3, 1, 2, 3, 1, 3, 1, 2, 1, 2, 3, 1, 2, 3, 3, 1, 2, 3, 2, 3, 1, 2, 3, 1, 2, 3, 1, 3, 1, 2, 2, 3, 3, 2, 2, 1, 3, 1, 2, 2, 2, 3, 1, 2, 1, 1, 2, 3, 3, 1, 2, 1, 2, 2, 1, 2, 3, 1, 3, 1, 3, 1, 3, 1, 2, 3, 3, 3, 1, 2, 1, 2, 1, 1, 2, 3, 2, 1, 2, 3, 1, 2, 3, 1, 3, 1, 3, 1, 3, 1, 2, 3, 1, 2, 3, 1, 2, 3, 1, 2, 3, 1, 2, 3, 1, 2, 3, 3, 1, 3, 1, 2, 1, 2, 3, 3, 1, 1, 2, 3, 1, 3, 1, 1, 2, 3, 2, 3, 1, 1, 2, 3, 1, 2, 3, 1, 1, 2, 3, 2, 3, 1, 2, 3, 2, 2, 3, 1, 2, 3], \"Freq\": [0.599485489879017, 0.399656993252678, 0.5579595467158326, 0.41846966003687447, 0.04649662889298605, 0.9277432143810747, 0.27917677583025063, 0.7444714022140018, 0.7879201141077521, 0.13132001901795867, 0.9837269006884046, 0.6899008993104313, 0.28745870804601303, 0.1057394580403975, 0.84591566432318, 0.8784450807857705, 0.24813645330396897, 0.7444093599119069, 0.933147864046002, 0.9331044643981627, 0.9331048111314454, 0.6155842801935598, 0.20519476006451992, 0.20519476006451992, 0.9794489567351357, 0.983726936047195, 0.8731669928288324, 0.08731669928288324, 0.9277435295841089, 0.2910345049247567, 0.4203831737802041, 0.2910345049247567, 0.983726936047195, 0.9737063531034197, 0.9737063073172031, 0.9137466675276614, 0.8614467215331718, 0.284897029773055, 0.3798627063640733, 0.35612128721631875, 0.21513927797617854, 0.7171309265872617, 0.21022358268294125, 0.7357825393902944, 0.9153080081856696, 0.0762756673488058, 0.8614466501343684, 0.9082396558940983, 0.3834238080047796, 0.1278079360015932, 0.5112317440063728, 0.9434167590660897, 0.9794490745790707, 0.3380684101948259, 0.5916197178409454, 0.11384005524124827, 0.5692002762062414, 0.30357348064332873, 0.9277431907398127, 0.8663959826733435, 0.08711258155323943, 0.34845032621295774, 0.5662317800960563, 0.9331045495294498, 0.983726936047195, 0.9331049068530308, 0.11332927839918867, 0.9066342271935094, 0.5871398053980632, 0.2709876024914138, 0.1354938012457069, 0.16329710159583266, 0.10886473439722179, 0.7076207735819415, 0.9727191611455883, 0.9082395475692168, 0.29721792649293544, 0.46233899676678847, 0.23116949838339423, 0.9727193045069253, 0.9434169010967479, 0.9331046792103971, 0.9331045064817345, 0.9277431623943114, 0.8420354152746776, 0.07654867411587979, 0.07654867411587979, 0.1356729356349534, 0.6105282103572902, 0.23742763736116843, 0.4289371370673198, 0.2859580913782132, 0.2859580913782132, 0.9331046319895321, 0.9331047818558741, 0.37005992510388963, 0.4163174157418758, 0.23128745318993102, 0.8652240556825117, 0.9837270279358433, 0.9794827862927827, 0.983726936047195, 0.29042993224073427, 0.15841632667676414, 0.5544571433686746, 0.9758083586695747, 0.3105961906956436, 0.27953657162607926, 0.43483466697390105, 0.14449192605968167, 0.8669515563580901, 0.9727191977176055, 0.9277428540782453, 0.9837270166949953, 0.8614465645722807, 0.8614467004105036, 0.13044844852218138, 0.7826906911330883, 0.979448963916228, 0.8652240493104648, 0.8652240270174776, 0.983726936047195, 0.983726936047195, 0.983726936047195, 0.9737064097579035, 0.9737063073172031, 0.2522796586464868, 0.7568389759394605, 0.983726936047195, 0.5888951594553875, 0.33651151968879284, 0.08412787992219821, 0.9319218895836119, 0.3903399841463603, 0.5855099762195404, 0.8712660208380621, 0.24780652256848218, 0.7434195677054465, 0.2903929754175085, 0.09679765847250284, 0.6775836093075199, 0.39332112576723016, 0.31051667823728696, 0.31051667823728696, 0.22154478314475032, 0.44308956628950064, 0.34238739213279595, 0.8704066096719036, 0.18620588698202514, 0.8379264914191131, 0.3402660040360581, 0.5671100067267635, 0.05671100067267635, 0.34980645989304177, 0.3148258139037376, 0.34980645989304177, 0.6053661557487154, 0.142439095470286, 0.2492684170730005, 0.8169059156056617, 0.16338118312113234, 0.5386013266071409, 0.33341986885203956, 0.1282384110969383, 0.2865979341872692, 0.4629658936871272, 0.264551939249787, 0.983726936047195, 0.3647395540300089, 0.2984232714790982, 0.33158141275455355, 0.22597148501577408, 0.5649287125394352, 0.1883095708464784, 0.8693534880118132, 0.10866918600147665, 0.13044749549615614, 0.7826849729769368, 0.13346278740922837, 0.4448759580307613, 0.40038836222768515, 0.11381814636537817, 0.11381814636537817, 0.7967270245576471, 0.983726936047195, 0.4833323364104366, 0.39803839469094776, 0.11372525562598508, 0.9783630057893433, 0.9837268389508738, 0.4860590805659108, 0.4112807604788476, 0.1121674801305948, 0.2856510143850199, 0.3332595167825232, 0.3808680191800265, 0.355937840843987, 0.6406881135191766, 0.15333759789965307, 0.8433567884480918, 0.8704066096719036, 0.8614465781900713, 0.9837268475916913, 0.9331045785256739, 0.9794489700282777, 0.9975050870936081, 0.8613773688810412, 0.8259880673462459, 0.11799829533517799, 0.9331044643981627, 0.9319218927960684, 0.9212734548860423, 0.7416561935133474, 0.24721873117111579, 0.8652240520318856, 0.09732114070300692, 0.19464228140601383, 0.6812479849210484, 0.983726936047195, 0.9277428470909701, 0.979448963916228, 0.06208258239285565, 0.9312387358928347, 0.9794489700282777, 0.6014318395095506, 0.2476484045039326, 0.1415133740022472, 0.12469522721618556, 0.872866590513299, 0.8304593946369483, 0.11863705637670689, 0.9304868752033074, 0.09304868752033074, 0.3584130272069812, 0.29516366946457273, 0.33732990795951173, 0.983726936047195, 0.9837268538555232, 0.6491389012833232, 0.3462074140177724, 0.05925901715206647, 0.9481442744330635, 0.9277431227544365, 0.6798335410969935, 0.15688466333007542, 0.10458977555338361, 0.9974815349265278, 0.13072328504855033, 0.849701352815577, 0.06536164252427516, 0.29715812142167963, 0.29715812142167963, 0.4457371821325195, 0.9277430409387469, 0.983726936047195, 0.12470175881075027, 0.8729123116752519, 0.46682213229949315, 0.5251748988369298, 0.4611861017177652, 0.4611861017177652, 0.07686435028629421, 0.5599188620623056, 0.33595131723738336, 0.0933198103437176, 0.17764304826368776, 0.44410762065921944, 0.35528609652737553, 0.2614482812921303, 0.2614482812921303, 0.45753449226122805, 0.6909254417099885, 0.17273136042749712, 0.12337954316249794, 0.28504919668290823, 0.5262446707992152, 0.17541489026640505, 0.9658972374889928, 0.9305242443810366, 0.09305242443810366, 0.11857766314904632, 0.8300436420433243, 0.25624110626766783, 0.35873754877473496, 0.38436165940150174, 0.9194077025236341, 0.9277428470909701, 0.5727395265774697, 0.17622754663922144, 0.26434131995883214, 0.254663361449334, 0.6791022971982239, 0.9434167414021967, 0.4557320163573272, 0.2071509165260578, 0.3314414664416925, 0.7879312967419475, 0.13132188279032458, 0.9507177606960896, 0.7819860361239818, 0.17377467469421817, 0.08688733734710909, 0.36788982343702603, 0.5313964116312598, 0.08175329409711689, 0.8652240520318856, 0.1385423873948953, 0.6927119369744765, 0.1385423873948953, 0.8459744960644102, 0.18799433245875782, 0.36108055358310825, 0.36108055358310825, 0.30090046131925685, 0.979449054576965, 0.7922367096577784, 0.176052602146173, 0.3026506675840793, 0.5716734832143721, 0.13451140781514637], \"Term\": [\"although\", \"although\", \"always\", \"always\", \"always\", \"andrew\", \"art\", \"art\", \"author\", \"author\", \"bank\", \"bear\", \"bear\", \"besides\", \"besides\", \"blow\", \"borne\", \"borne\", \"broke\", \"butler\", \"caesar\", \"cannot\", \"cannot\", \"cannot\", \"century\", \"chalice\", \"christ\", \"christ\", \"clown\", \"come\", \"come\", \"come\", \"commends\", \"connected\", \"coursers\", \"cromwell\", \"damnation\", \"death\", \"death\", \"death\", \"deed\", \"deed\", \"deep\", \"deep\", \"divine\", \"divine\", \"door\", \"dost\", \"earth\", \"earth\", \"earth\", \"ease\", \"eat\", \"end\", \"end\", \"even\", \"even\", \"even\", \"exactly\", \"exhibits\", \"eyes\", \"eyes\", \"eyes\", \"fact\", \"faculties\", \"faculty\", \"faith\", \"faith\", \"far\", \"far\", \"far\", \"fear\", \"fear\", \"fear\", \"feeling\", \"feels\", \"first\", \"first\", \"first\", \"flat\", \"flatness\", \"flesh\", \"furnished\", \"get\", \"give\", \"give\", \"give\", \"god\", \"god\", \"god\", \"good\", \"good\", \"good\", \"gospel\", \"gracious\", \"great\", \"great\", \"great\", \"greek\", \"hail\", \"half\", \"handed\", \"hath\", \"hath\", \"hath\", \"heav\", \"heaven\", \"heaven\", \"heaven\", \"hell\", \"hell\", \"highest\", \"homer\", \"horrid\", \"horror\", \"host\", \"hour\", \"hour\", \"howard\", \"immensity\", \"immortal\", \"ingredients\", \"instructions\", \"inventor\", \"jack\", \"kai\", \"king\", \"king\", \"kinsman\", \"know\", \"know\", \"know\", \"knowledge\", \"lady\", \"lady\", \"latter\", \"lay\", \"lay\", \"lies\", \"lies\", \"lies\", \"life\", \"life\", \"life\", \"like\", \"like\", \"like\", \"literary\", \"london\", \"london\", \"lord\", \"lord\", \"lord\", \"love\", \"love\", \"love\", \"make\", \"make\", \"make\", \"makes\", \"makes\", \"man\", \"man\", \"man\", \"may\", \"may\", \"may\", \"meek\", \"men\", \"men\", \"men\", \"might\", \"might\", \"might\", \"mortal\", \"mortal\", \"moving\", \"moving\", \"much\", \"much\", \"much\", \"murder\", \"murder\", \"murder\", \"murderer\", \"must\", \"must\", \"must\", \"natural\", \"necessarily\", \"never\", \"never\", \"never\", \"new\", \"new\", \"new\", \"night\", \"night\", \"noble\", \"noble\", \"particularly\", \"penalties\", \"penalty\", \"philosophy\", \"plays\", \"poetry\", \"poison\", \"presence\", \"presence\", \"previous\", \"progress\", \"purgatory\", \"rather\", \"rather\", \"resembled\", \"rest\", \"rest\", \"rest\", \"return\", \"rhyme\", \"robert\", \"royal\", \"royal\", \"satire\", \"say\", \"say\", \"say\", \"sea\", \"sea\", \"seen\", \"seen\", \"sense\", \"sense\", \"shall\", \"shall\", \"shall\", \"shut\", \"sightless\", \"sir\", \"sir\", \"society\", \"society\", \"soft\", \"spirit\", \"spirit\", \"spirit\", \"stage\", \"state\", \"state\", \"state\", \"still\", \"still\", \"still\", \"struck\", \"teach\", \"tears\", \"tears\", \"th\", \"th\", \"thee\", \"thee\", \"thee\", \"thou\", \"thou\", \"thou\", \"though\", \"though\", \"though\", \"thus\", \"thus\", \"thus\", \"thy\", \"thy\", \"thy\", \"time\", \"time\", \"time\", \"trust\", \"twenty\", \"twenty\", \"unfortunate\", \"unfortunate\", \"upon\", \"upon\", \"upon\", \"virtues\", \"warrior\", \"well\", \"well\", \"well\", \"whether\", \"whether\", \"whither\", \"whose\", \"whose\", \"whose\", \"wife\", \"wife\", \"wisdom\", \"wise\", \"wise\", \"wise\", \"without\", \"without\", \"without\", \"wordsworth\", \"work\", \"work\", \"work\", \"works\", \"works\", \"world\", \"world\", \"world\", \"wrote\", \"year\", \"year\", \"yet\", \"yet\", \"yet\"]}, \"R\": 30, \"lambda.step\": 0.01, \"plot.opts\": {\"xlab\": \"PC1\", \"ylab\": \"PC2\"}, \"topic.order\": [3, 1, 2]};\n",
       "\n",
       "function LDAvis_load_lib(url, callback){\n",
       "  var s = document.createElement('script');\n",
       "  s.src = url;\n",
       "  s.async = true;\n",
       "  s.onreadystatechange = s.onload = callback;\n",
       "  s.onerror = function(){console.warn(\"failed to load library \" + url);};\n",
       "  document.getElementsByTagName(\"head\")[0].appendChild(s);\n",
       "}\n",
       "\n",
       "if(typeof(LDAvis) !== \"undefined\"){\n",
       "   // already loaded: just create the visualization\n",
       "   !function(LDAvis){\n",
       "       new LDAvis(\"#\" + \"ldavis_el604781125555645124995055027\", ldavis_el604781125555645124995055027_data);\n",
       "   }(LDAvis);\n",
       "}else if(typeof define === \"function\" && define.amd){\n",
       "   // require.js is available: use it to load d3/LDAvis\n",
       "   require.config({paths: {d3: \"https://cdnjs.cloudflare.com/ajax/libs/d3/3.5.5/d3.min\"}});\n",
       "   require([\"d3\"], function(d3){\n",
       "      window.d3 = d3;\n",
       "      LDAvis_load_lib(\"https://cdn.rawgit.com/bmabey/pyLDAvis/files/ldavis.v1.0.0.js\", function(){\n",
       "        new LDAvis(\"#\" + \"ldavis_el604781125555645124995055027\", ldavis_el604781125555645124995055027_data);\n",
       "      });\n",
       "    });\n",
       "}else{\n",
       "    // require.js not available: dynamically load d3 & LDAvis\n",
       "    LDAvis_load_lib(\"https://cdnjs.cloudflare.com/ajax/libs/d3/3.5.5/d3.min.js\", function(){\n",
       "         LDAvis_load_lib(\"https://cdn.rawgit.com/bmabey/pyLDAvis/files/ldavis.v1.0.0.js\", function(){\n",
       "                 new LDAvis(\"#\" + \"ldavis_el604781125555645124995055027\", ldavis_el604781125555645124995055027_data);\n",
       "            })\n",
       "         });\n",
       "}\n",
       "</script>"
      ],
      "text/plain": [
       "PreparedData(topic_coordinates=              x         y  topics  cluster       Freq\n",
       "topic                                                \n",
       "2      0.023462 -0.119313       1        1  36.798812\n",
       "0     -0.124898  0.041104       2        1  35.458870\n",
       "1      0.101436  0.078208       3        1  27.742317, topic_info=     Category       Freq       Term      Total  loglift  logprob\n",
       "1864  Default  12.000000       heav  12.000000  30.0000  30.0000\n",
       "2184  Default  19.000000       king  19.000000  29.0000  29.0000\n",
       "3702  Default  16.000000    society  16.000000  28.0000  28.0000\n",
       "3164  Default  10.000000  purgatory  10.000000  27.0000  27.0000\n",
       "1879  Default  13.000000       hell  13.000000  26.0000  26.0000\n",
       "3422  Default  16.000000      royal  16.000000  25.0000  25.0000\n",
       "1427  Default  17.000000      faith  17.000000  24.0000  24.0000\n",
       "3795  Default  13.000000      stage  13.000000  23.0000  23.0000\n",
       "1848  Default  37.000000       hath  37.000000  22.0000  22.0000\n",
       "2649  Default  12.000000    natural  12.000000  21.0000  21.0000\n",
       "1463  Default  18.000000       fear  18.000000  20.0000  20.0000\n",
       "967   Default  13.000000       deed  13.000000  19.0000  19.0000\n",
       "4473  Default  11.000000     wisdom  11.000000  18.0000  18.0000\n",
       "2201  Default  10.000000  knowledge  10.000000  17.0000  17.0000\n",
       "3122  Default  10.000000   progress  10.000000  16.0000  16.0000\n",
       "1401  Default  22.000000       eyes  22.000000  15.0000  15.0000\n",
       "419   Default   7.000000       blow   7.000000  14.0000  14.0000\n",
       "1124  Default  13.000000     divine  13.000000  13.0000  13.0000\n",
       "371   Default   9.000000    besides   9.000000  12.0000  12.0000\n",
       "3003  Default  10.000000     poetry  10.000000  11.0000  11.0000\n",
       "4017  Default  17.000000         th  17.000000  10.0000  10.0000\n",
       "4168  Default   7.000000      trust   7.000000   9.0000   9.0000\n",
       "2679  Default  14.000000      night  14.000000   8.0000   8.0000\n",
       "4067  Default  40.000000        thy  40.000000   7.0000   7.0000\n",
       "655   Default  11.000000     christ  11.000000   6.0000   6.0000\n",
       "2687  Default  13.000000      noble  13.000000   5.0000   5.0000\n",
       "3648  Default  23.000000        sir  23.000000   4.0000   4.0000\n",
       "4437  Default  11.000000    whether  11.000000   3.0000   3.0000\n",
       "1476  Default   9.000000    feeling   9.000000   2.0000   2.0000\n",
       "1906  Default   9.000000    highest   9.000000   1.0000   1.0000\n",
       "...       ...        ...        ...        ...      ...      ...\n",
       "2616   Topic3   6.752228     murder   8.785945   1.0189  -6.3666\n",
       "1401   Topic3  13.244242       eyes  22.958796   0.7321  -5.6929\n",
       "3339   Topic3   7.467772       rest  10.275260   0.9631  -6.2659\n",
       "4437   Topic3   8.180086    whether  11.780258   0.9175  -6.1748\n",
       "2679   Topic3   8.894599      night  14.047397   0.8252  -6.0910\n",
       "4066   Topic3  14.432818       thus  30.598786   0.5308  -5.6070\n",
       "445    Topic3   6.019520      borne   8.060081   0.9903  -6.4815\n",
       "1865   Topic3  13.615220     heaven  32.196145   0.4216  -5.6653\n",
       "2241   Topic3   6.013019        lay   8.070813   0.9879  -6.4825\n",
       "4252   Topic3  14.908054       upon  39.025745   0.3199  -5.5746\n",
       "2297   Topic3  16.849449       like  49.651361   0.2015  -5.4521\n",
       "3566   Topic3  16.208137      shall  47.431312   0.2084  -5.4909\n",
       "948    Topic3  14.678802      death  42.120481   0.2281  -5.5901\n",
       "2291   Topic3  14.675788       life  48.306584   0.0908  -5.5903\n",
       "4017   Topic3   8.904041         th  17.137148   0.6275  -6.0900\n",
       "1257   Topic3   7.449970        end  11.831925   0.8196  -6.2682\n",
       "2290   Topic3   6.756771       lies  10.330828   0.8576  -6.3659\n",
       "3833   Topic3   8.907014      still  20.191270   0.4638  -6.0896\n",
       "2457   Topic3  12.099888        may  45.359713  -0.0392  -5.7833\n",
       "2356   Topic3  10.030573       love  28.587237   0.2349  -5.9708\n",
       "2609   Topic3   8.904233       much  22.478176   0.3562  -6.0899\n",
       "2486   Topic3   9.622471        men  30.158506   0.1398  -6.0124\n",
       "4513   Topic3   9.619294      world  33.233581   0.0424  -6.0127\n",
       "709    Topic3   9.405894       come  30.924168   0.0920  -6.0351\n",
       "1207   Topic3   7.936628      earth  15.648481   0.6033  -6.2050\n",
       "1763   Topic3   9.615362      great  43.236241  -0.2211  -6.0131\n",
       "4044   Topic3   8.374385     though  22.517065   0.2931  -6.1513\n",
       "2674   Topic3   8.183823        new  21.004651   0.3396  -6.1743\n",
       "1343   Topic3   8.316848       even  26.352763   0.1289  -6.1582\n",
       "4076   Topic3   8.311183       time  45.606163  -0.4202  -6.1589\n",
       "\n",
       "[231 rows x 6 columns], token_table=      Topic      Freq        Term\n",
       "term                             \n",
       "125       1  0.599485    although\n",
       "125       2  0.399657    although\n",
       "127       1  0.557960      always\n",
       "127       2  0.418470      always\n",
       "127       3  0.046497      always\n",
       "144       1  0.927743      andrew\n",
       "215       1  0.279177         art\n",
       "215       2  0.744471         art\n",
       "256       2  0.787920      author\n",
       "256       3  0.131320      author\n",
       "287       3  0.983727        bank\n",
       "309       1  0.689901        bear\n",
       "309       3  0.287459        bear\n",
       "371       2  0.105739     besides\n",
       "371       3  0.845916     besides\n",
       "419       3  0.878445        blow\n",
       "445       2  0.248136       borne\n",
       "445       3  0.744409       borne\n",
       "498       2  0.933148       broke\n",
       "532       2  0.933104      butler\n",
       "537       2  0.933105      caesar\n",
       "547       1  0.615584      cannot\n",
       "547       2  0.205195      cannot\n",
       "547       3  0.205195      cannot\n",
       "596       2  0.979449     century\n",
       "605       3  0.983727     chalice\n",
       "655       2  0.873167      christ\n",
       "655       3  0.087317      christ\n",
       "689       1  0.927744       clown\n",
       "709       1  0.291035        come\n",
       "...     ...       ...         ...\n",
       "4437      1  0.254663     whether\n",
       "4437      3  0.679102     whether\n",
       "4444      1  0.943417     whither\n",
       "4448      1  0.455732       whose\n",
       "4448      2  0.207151       whose\n",
       "4448      3  0.331441       whose\n",
       "4452      2  0.787931        wife\n",
       "4452      3  0.131322        wife\n",
       "4473      1  0.950718      wisdom\n",
       "4474      1  0.781986        wise\n",
       "4474      2  0.173775        wise\n",
       "4474      3  0.086887        wise\n",
       "4487      1  0.367890     without\n",
       "4487      2  0.531396     without\n",
       "4487      3  0.081753     without\n",
       "4509      1  0.865224  wordsworth\n",
       "4510      1  0.138542        work\n",
       "4510      2  0.692712        work\n",
       "4510      3  0.138542        work\n",
       "4512      2  0.845974       works\n",
       "4512      3  0.187994       works\n",
       "4513      1  0.361081       world\n",
       "4513      2  0.361081       world\n",
       "4513      3  0.300900       world\n",
       "4545      2  0.979449       wrote\n",
       "4553      2  0.792237        year\n",
       "4553      3  0.176053        year\n",
       "4559      1  0.302651         yet\n",
       "4559      2  0.571673         yet\n",
       "4559      3  0.134511         yet\n",
       "\n",
       "[320 rows x 3 columns], R=30, lambda_step=0.01, plot_opts={'xlab': 'PC1', 'ylab': 'PC2'}, topic_order=[3, 1, 2])"
      ]
     },
     "execution_count": 122,
     "metadata": {},
     "output_type": "execute_result"
    }
   ],
   "source": [
    "lda = LDA(n_components=3, random_state=42)\n",
    "t0 = cvec.fit_transform(target0)\n",
    "lda_t0 = lda.fit_transform(t0)\n",
    "pyLDAvis.sklearn.prepare(lda, t0, cvec)"
   ]
  },
  {
   "cell_type": "code",
   "execution_count": null,
   "metadata": {},
   "outputs": [],
   "source": [
    "lda = LDA(n_components=3, random_state=42)\n",
    "t1 = cvec.fit_transform(target1)\n",
    "lda_t1 = lda.fit_transform(t1)\n",
    "pyLDAvis.sklearn.prepare(lda, t1, cvec)"
   ]
  },
  {
   "cell_type": "code",
   "execution_count": null,
   "metadata": {},
   "outputs": [],
   "source": [
    "lda = LDA(n_components=3, random_state=42)\n",
    "t2 = cvec.fit_transform(target2)\n",
    "lda_t2 = lda.fit_transform(t2)\n",
    "pyLDAvis.sklearn.prepare(lda, t2, cvec)"
   ]
  },
  {
   "cell_type": "code",
   "execution_count": null,
   "metadata": {},
   "outputs": [],
   "source": [
    "lda = LDA(n_components=3, random_state=42)\n",
    "t3 = cvec.fit_transform(target3)\n",
    "lda_t3 = lda.fit_transform(t3)\n",
    "pyLDAvis.sklearn.prepare(lda, t3, cvec)"
   ]
  },
  {
   "cell_type": "code",
   "execution_count": null,
   "metadata": {},
   "outputs": [],
   "source": [
    "lda = LDA(n_components=3, random_state=42)\n",
    "t4 = cvec.fit_transform(target04)\n",
    "lda_t4 = lda.fit_transform(t4)\n",
    "pyLDAvis.sklearn.prepare(lda, t4, cvec)"
   ]
  },
  {
   "cell_type": "code",
   "execution_count": null,
   "metadata": {},
   "outputs": [],
   "source": [
    "lda = LDA(n_components=3, random_state=42)\n",
    "t5 = cvec.fit_transform(target5)\n",
    "lda_t5 = lda.fit_transform(t5)\n",
    "pyLDAvis.sklearn.prepare(lda, t5, cvec)"
   ]
  },
  {
   "cell_type": "markdown",
   "metadata": {},
   "source": [
    "# Sentiment Analysis with Vader"
   ]
  },
  {
   "cell_type": "code",
   "execution_count": 26,
   "metadata": {},
   "outputs": [],
   "source": [
    "analyzer = SentimentIntensityAnalyzer()"
   ]
  },
  {
   "cell_type": "code",
   "execution_count": 27,
   "metadata": {},
   "outputs": [],
   "source": [
    "def sentiment_analyzer_scores(sentence):\n",
    "    score = analyzer.polarity_scores(sentence)\n",
    "    return score "
   ]
  },
  {
   "cell_type": "code",
   "execution_count": 28,
   "metadata": {},
   "outputs": [],
   "source": [
    "df['sentiment'] = df.text.apply(sentiment_analyzer_scores)"
   ]
  },
  {
   "cell_type": "code",
   "execution_count": 29,
   "metadata": {},
   "outputs": [],
   "source": [
    "df_sent = json_normalize(df.sentiment)"
   ]
  },
  {
   "cell_type": "code",
   "execution_count": 30,
   "metadata": {},
   "outputs": [
    {
     "data": {
      "text/html": [
       "<div>\n",
       "<style scoped>\n",
       "    .dataframe tbody tr th:only-of-type {\n",
       "        vertical-align: middle;\n",
       "    }\n",
       "\n",
       "    .dataframe tbody tr th {\n",
       "        vertical-align: top;\n",
       "    }\n",
       "\n",
       "    .dataframe thead th {\n",
       "        text-align: right;\n",
       "    }\n",
       "</style>\n",
       "<table border=\"1\" class=\"dataframe\">\n",
       "  <thead>\n",
       "    <tr style=\"text-align: right;\">\n",
       "      <th></th>\n",
       "      <th>compound</th>\n",
       "      <th>neg</th>\n",
       "      <th>neu</th>\n",
       "      <th>pos</th>\n",
       "    </tr>\n",
       "  </thead>\n",
       "  <tbody>\n",
       "    <tr>\n",
       "      <th>957</th>\n",
       "      <td>0.0772</td>\n",
       "      <td>0.058</td>\n",
       "      <td>0.875</td>\n",
       "      <td>0.066</td>\n",
       "    </tr>\n",
       "    <tr>\n",
       "      <th>958</th>\n",
       "      <td>0.7650</td>\n",
       "      <td>0.076</td>\n",
       "      <td>0.690</td>\n",
       "      <td>0.233</td>\n",
       "    </tr>\n",
       "    <tr>\n",
       "      <th>959</th>\n",
       "      <td>0.4767</td>\n",
       "      <td>0.026</td>\n",
       "      <td>0.905</td>\n",
       "      <td>0.069</td>\n",
       "    </tr>\n",
       "    <tr>\n",
       "      <th>960</th>\n",
       "      <td>0.2944</td>\n",
       "      <td>0.092</td>\n",
       "      <td>0.788</td>\n",
       "      <td>0.119</td>\n",
       "    </tr>\n",
       "    <tr>\n",
       "      <th>961</th>\n",
       "      <td>0.2263</td>\n",
       "      <td>0.000</td>\n",
       "      <td>0.913</td>\n",
       "      <td>0.087</td>\n",
       "    </tr>\n",
       "  </tbody>\n",
       "</table>\n",
       "</div>"
      ],
      "text/plain": [
       "     compound    neg    neu    pos\n",
       "957    0.0772  0.058  0.875  0.066\n",
       "958    0.7650  0.076  0.690  0.233\n",
       "959    0.4767  0.026  0.905  0.069\n",
       "960    0.2944  0.092  0.788  0.119\n",
       "961    0.2263  0.000  0.913  0.087"
      ]
     },
     "execution_count": 30,
     "metadata": {},
     "output_type": "execute_result"
    }
   ],
   "source": [
    "df_sent.tail()"
   ]
  },
  {
   "cell_type": "code",
   "execution_count": 31,
   "metadata": {},
   "outputs": [],
   "source": [
    "df = df.join((df_sent), how='outer')"
   ]
  },
  {
   "cell_type": "code",
   "execution_count": 32,
   "metadata": {},
   "outputs": [],
   "source": [
    "# df.to_csv('df_with_sentiment.csv')"
   ]
  },
  {
   "cell_type": "code",
   "execution_count": 33,
   "metadata": {},
   "outputs": [],
   "source": [
    "df = df.drop(columns=['sentiment'])"
   ]
  },
  {
   "cell_type": "code",
   "execution_count": 34,
   "metadata": {},
   "outputs": [],
   "source": [
    "compound = df.groupby('target', as_index=False)['compound'].mean()\n",
    "neg = df.groupby('target', as_index=False)['neg'].mean()\n",
    "neu = df.groupby('target', as_index=False)['neu'].mean()\n",
    "pos = df.groupby('target', as_index=False)['pos'].mean()"
   ]
  },
  {
   "cell_type": "code",
   "execution_count": 40,
   "metadata": {},
   "outputs": [],
   "source": [
    "sentiment_chart = pd.concat([compound, neg, neu, pos], axis=1)"
   ]
  },
  {
   "cell_type": "code",
   "execution_count": 41,
   "metadata": {},
   "outputs": [
    {
     "data": {
      "text/html": [
       "<div>\n",
       "<style scoped>\n",
       "    .dataframe tbody tr th:only-of-type {\n",
       "        vertical-align: middle;\n",
       "    }\n",
       "\n",
       "    .dataframe tbody tr th {\n",
       "        vertical-align: top;\n",
       "    }\n",
       "\n",
       "    .dataframe thead th {\n",
       "        text-align: right;\n",
       "    }\n",
       "</style>\n",
       "<table border=\"1\" class=\"dataframe\">\n",
       "  <thead>\n",
       "    <tr style=\"text-align: right;\">\n",
       "      <th></th>\n",
       "      <th>target</th>\n",
       "      <th>compound</th>\n",
       "      <th>target</th>\n",
       "      <th>neg</th>\n",
       "      <th>target</th>\n",
       "      <th>neu</th>\n",
       "      <th>target</th>\n",
       "      <th>pos</th>\n",
       "    </tr>\n",
       "  </thead>\n",
       "  <tbody>\n",
       "    <tr>\n",
       "      <th>0</th>\n",
       "      <td>0</td>\n",
       "      <td>0.212973</td>\n",
       "      <td>0</td>\n",
       "      <td>0.115252</td>\n",
       "      <td>0</td>\n",
       "      <td>0.743959</td>\n",
       "      <td>0</td>\n",
       "      <td>0.140810</td>\n",
       "    </tr>\n",
       "    <tr>\n",
       "      <th>1</th>\n",
       "      <td>1</td>\n",
       "      <td>0.509021</td>\n",
       "      <td>1</td>\n",
       "      <td>0.084425</td>\n",
       "      <td>1</td>\n",
       "      <td>0.786094</td>\n",
       "      <td>1</td>\n",
       "      <td>0.129469</td>\n",
       "    </tr>\n",
       "    <tr>\n",
       "      <th>2</th>\n",
       "      <td>2</td>\n",
       "      <td>0.651453</td>\n",
       "      <td>2</td>\n",
       "      <td>0.071038</td>\n",
       "      <td>2</td>\n",
       "      <td>0.799371</td>\n",
       "      <td>2</td>\n",
       "      <td>0.129586</td>\n",
       "    </tr>\n",
       "    <tr>\n",
       "      <th>3</th>\n",
       "      <td>3</td>\n",
       "      <td>0.590778</td>\n",
       "      <td>3</td>\n",
       "      <td>0.076833</td>\n",
       "      <td>3</td>\n",
       "      <td>0.812978</td>\n",
       "      <td>3</td>\n",
       "      <td>0.110122</td>\n",
       "    </tr>\n",
       "    <tr>\n",
       "      <th>4</th>\n",
       "      <td>4</td>\n",
       "      <td>0.373718</td>\n",
       "      <td>4</td>\n",
       "      <td>0.084680</td>\n",
       "      <td>4</td>\n",
       "      <td>0.805670</td>\n",
       "      <td>4</td>\n",
       "      <td>0.109655</td>\n",
       "    </tr>\n",
       "    <tr>\n",
       "      <th>5</th>\n",
       "      <td>5</td>\n",
       "      <td>0.111012</td>\n",
       "      <td>5</td>\n",
       "      <td>0.083497</td>\n",
       "      <td>5</td>\n",
       "      <td>0.808687</td>\n",
       "      <td>5</td>\n",
       "      <td>0.107777</td>\n",
       "    </tr>\n",
       "  </tbody>\n",
       "</table>\n",
       "</div>"
      ],
      "text/plain": [
       "  target  compound target       neg target       neu target       pos\n",
       "0      0  0.212973      0  0.115252      0  0.743959      0  0.140810\n",
       "1      1  0.509021      1  0.084425      1  0.786094      1  0.129469\n",
       "2      2  0.651453      2  0.071038      2  0.799371      2  0.129586\n",
       "3      3  0.590778      3  0.076833      3  0.812978      3  0.110122\n",
       "4      4  0.373718      4  0.084680      4  0.805670      4  0.109655\n",
       "5      5  0.111012      5  0.083497      5  0.808687      5  0.107777"
      ]
     },
     "execution_count": 41,
     "metadata": {},
     "output_type": "execute_result"
    }
   ],
   "source": [
    "sentiment_chart"
   ]
  },
  {
   "cell_type": "code",
   "execution_count": 42,
   "metadata": {},
   "outputs": [],
   "source": [
    "sentiment_chart = sentiment_chart.loc[:, ~sentiment_chart.columns.duplicated()]"
   ]
  },
  {
   "cell_type": "code",
   "execution_count": 43,
   "metadata": {},
   "outputs": [
    {
     "data": {
      "application/javascript": [
       "const spec = {\"config\": {\"view\": {\"width\": 400, \"height\": 300}, \"mark\": {\"tooltip\": null}}, \"hconcat\": [{\"mark\": {\"type\": \"bar\", \"color\": \"black\"}, \"encoding\": {\"x\": {\"type\": \"ordinal\", \"field\": \"target\"}, \"y\": {\"type\": \"quantitative\", \"aggregate\": \"sum\", \"field\": \"compound\"}}}, {\"mark\": {\"type\": \"bar\", \"color\": \"red\"}, \"encoding\": {\"x\": {\"type\": \"ordinal\", \"field\": \"target\"}, \"y\": {\"type\": \"quantitative\", \"aggregate\": \"sum\", \"field\": \"neg\"}}}, {\"mark\": {\"type\": \"bar\", \"color\": \"purple\"}, \"encoding\": {\"x\": {\"type\": \"ordinal\", \"field\": \"target\"}, \"y\": {\"type\": \"quantitative\", \"aggregate\": \"sum\", \"field\": \"neu\"}}}, {\"mark\": \"bar\", \"encoding\": {\"x\": {\"type\": \"ordinal\", \"field\": \"target\"}, \"y\": {\"type\": \"quantitative\", \"aggregate\": \"sum\", \"field\": \"pos\"}}}], \"data\": {\"name\": \"data-634b6cad9f3ac4cfb050c73a03500950\"}, \"$schema\": \"https://vega.github.io/schema/vega-lite/v3.4.0.json\", \"datasets\": {\"data-634b6cad9f3ac4cfb050c73a03500950\": [{\"target\": 0, \"compound\": 0.2129734693877551, \"neg\": 0.11525170068027209, \"neu\": 0.7439591836734694, \"pos\": 0.14080952380952386}, {\"target\": 1, \"compound\": 0.509020625, \"neg\": 0.08442500000000003, \"neu\": 0.7860937499999998, \"pos\": 0.12946875000000008}, {\"target\": 2, \"compound\": 0.6514526881720432, \"neg\": 0.07103763440860211, \"neu\": 0.7993709677419361, \"pos\": 0.12958602150537638}, {\"target\": 3, \"compound\": 0.5907777777777777, \"neg\": 0.07683333333333331, \"neu\": 0.8129777777777776, \"pos\": 0.11012222222222223}, {\"target\": 4, \"compound\": 0.3737184999999998, \"neg\": 0.08468, \"neu\": 0.8056700000000002, \"pos\": 0.10965500000000006}, {\"target\": 5, \"compound\": 0.11101229050279332, \"neg\": 0.08349720670391056, \"neu\": 0.8086871508379886, \"pos\": 0.10777653631284911}]}};\n",
       "const opt = {};\n",
       "const type = \"vega-lite\";\n",
       "const id = \"0331786f-603f-4736-b3ce-2f97a30e00ed\";\n",
       "\n",
       "const output_area = this;\n",
       "\n",
       "require([\"nbextensions/jupyter-vega/index\"], function(vega) {\n",
       "  const target = document.createElement(\"div\");\n",
       "  target.id = id;\n",
       "  target.className = \"vega-embed\";\n",
       "\n",
       "  const style = document.createElement(\"style\");\n",
       "  style.textContent = [\n",
       "    \".vega-embed .error p {\",\n",
       "    \"  color: firebrick;\",\n",
       "    \"  font-size: 14px;\",\n",
       "    \"}\",\n",
       "  ].join(\"\\\\n\");\n",
       "\n",
       "  // element is a jQuery wrapped DOM element inside the output area\n",
       "  // see http://ipython.readthedocs.io/en/stable/api/generated/\\\n",
       "  // IPython.display.html#IPython.display.Javascript.__init__\n",
       "  element[0].appendChild(target);\n",
       "  element[0].appendChild(style);\n",
       "\n",
       "  vega.render(\"#\" + id, spec, type, opt, output_area);\n",
       "}, function (err) {\n",
       "  if (err.requireType !== \"scripterror\") {\n",
       "    throw(err);\n",
       "  }\n",
       "});\n"
      ],
      "text/plain": [
       "<vega.vegalite.VegaLite at 0x1a3ab54588>"
      ]
     },
     "metadata": {
      "jupyter-vega": "#0331786f-603f-4736-b3ce-2f97a30e00ed"
     },
     "output_type": "display_data"
    },
    {
     "data": {
      "text/plain": []
     },
     "execution_count": 43,
     "metadata": {},
     "output_type": "execute_result"
    },
    {
     "data": {
      "image/png": "[encoded data removed]"
     },
     "metadata": {
      "jupyter-vega": "#0331786f-603f-4736-b3ce-2f97a30e00ed"
     },
     "output_type": "display_data"
    }
   ],
   "source": [
    "A = alt.Chart(sentiment_chart).mark_bar(color='black').encode(\n",
    "    x='target:O',\n",
    "    y='sum(compound):Q'\n",
    ")\n",
    "\n",
    "B = alt.Chart(sentiment_chart).mark_bar(color='red').encode(\n",
    "    x='target:O',\n",
    "    y='sum(neg):Q'\n",
    ")\n",
    "\n",
    "C = alt.Chart(sentiment_chart).mark_bar(color='purple').encode(\n",
    "    x='target:O',\n",
    "    y='sum(neu):Q'\n",
    ")\n",
    "\n",
    "D = alt.Chart(sentiment_chart).mark_bar().encode(\n",
    "    x='target:O',\n",
    "    y='sum(pos):Q'\n",
    ")\n",
    "\n",
    "A | B | C | D"
   ]
  },
  {
   "cell_type": "code",
   "execution_count": 45,
   "metadata": {},
   "outputs": [
    {
     "data": {
      "text/html": [
       "<div>\n",
       "<style scoped>\n",
       "    .dataframe tbody tr th:only-of-type {\n",
       "        vertical-align: middle;\n",
       "    }\n",
       "\n",
       "    .dataframe tbody tr th {\n",
       "        vertical-align: top;\n",
       "    }\n",
       "\n",
       "    .dataframe thead th {\n",
       "        text-align: right;\n",
       "    }\n",
       "</style>\n",
       "<table border=\"1\" class=\"dataframe\">\n",
       "  <thead>\n",
       "    <tr style=\"text-align: right;\">\n",
       "      <th></th>\n",
       "      <th>date</th>\n",
       "      <th>info</th>\n",
       "      <th>text</th>\n",
       "      <th>target</th>\n",
       "      <th>compound</th>\n",
       "      <th>neg</th>\n",
       "      <th>neu</th>\n",
       "      <th>pos</th>\n",
       "    </tr>\n",
       "  </thead>\n",
       "  <tbody>\n",
       "    <tr>\n",
       "      <th>0</th>\n",
       "      <td>1528</td>\n",
       "      <td>The book of the Courtier</td>\n",
       "      <td>then the soul freed from vice purged by studie...</td>\n",
       "      <td>0</td>\n",
       "      <td>0.9387</td>\n",
       "      <td>0.000</td>\n",
       "      <td>0.800</td>\n",
       "      <td>0.200</td>\n",
       "    </tr>\n",
       "    <tr>\n",
       "      <th>1</th>\n",
       "      <td>1569</td>\n",
       "      <td>Hamlet</td>\n",
       "      <td>his goodly frame the earth seems to me a steri...</td>\n",
       "      <td>0</td>\n",
       "      <td>0.9571</td>\n",
       "      <td>0.065</td>\n",
       "      <td>0.719</td>\n",
       "      <td>0.216</td>\n",
       "    </tr>\n",
       "    <tr>\n",
       "      <th>2</th>\n",
       "      <td>1592</td>\n",
       "      <td>the spanish tragedy</td>\n",
       "      <td>o eyes no eyes but fountains fraught with tear...</td>\n",
       "      <td>0</td>\n",
       "      <td>-0.9538</td>\n",
       "      <td>0.286</td>\n",
       "      <td>0.575</td>\n",
       "      <td>0.139</td>\n",
       "    </tr>\n",
       "    <tr>\n",
       "      <th>3</th>\n",
       "      <td>1569</td>\n",
       "      <td>Hamlet</td>\n",
       "      <td>firmament this majestical roof fretted with go...</td>\n",
       "      <td>0</td>\n",
       "      <td>0.3400</td>\n",
       "      <td>0.121</td>\n",
       "      <td>0.737</td>\n",
       "      <td>0.143</td>\n",
       "    </tr>\n",
       "    <tr>\n",
       "      <th>4</th>\n",
       "      <td>1623</td>\n",
       "      <td>macbeth</td>\n",
       "      <td>mine eyes are made the fools o the other sense...</td>\n",
       "      <td>0</td>\n",
       "      <td>-0.9794</td>\n",
       "      <td>0.216</td>\n",
       "      <td>0.711</td>\n",
       "      <td>0.073</td>\n",
       "    </tr>\n",
       "  </tbody>\n",
       "</table>\n",
       "</div>"
      ],
      "text/plain": [
       "   date                      info  \\\n",
       "0  1528  The book of the Courtier   \n",
       "1  1569                    Hamlet   \n",
       "2  1592       the spanish tragedy   \n",
       "3  1569                    Hamlet   \n",
       "4  1623                   macbeth   \n",
       "\n",
       "                                                text target  compound    neg  \\\n",
       "0  then the soul freed from vice purged by studie...      0    0.9387  0.000   \n",
       "1  his goodly frame the earth seems to me a steri...      0    0.9571  0.065   \n",
       "2  o eyes no eyes but fountains fraught with tear...      0   -0.9538  0.286   \n",
       "3  firmament this majestical roof fretted with go...      0    0.3400  0.121   \n",
       "4  mine eyes are made the fools o the other sense...      0   -0.9794  0.216   \n",
       "\n",
       "     neu    pos  \n",
       "0  0.800  0.200  \n",
       "1  0.719  0.216  \n",
       "2  0.575  0.139  \n",
       "3  0.737  0.143  \n",
       "4  0.711  0.073  "
      ]
     },
     "execution_count": 45,
     "metadata": {},
     "output_type": "execute_result"
    }
   ],
   "source": [
    "df.head()"
   ]
  },
  {
   "cell_type": "markdown",
   "metadata": {},
   "source": [
    "# Naive Model"
   ]
  },
  {
   "cell_type": "code",
   "execution_count": 15,
   "metadata": {},
   "outputs": [],
   "source": [
    "from sklearn.preprocessing import LabelEncoder\n",
    "X = df['text']\n",
    "y = df['target']\n",
    "\n",
    "X_train, X_test, y_train, y_test = train_test_split(X, y, random_state=42, test_size=0.2)\n"
   ]
  },
  {
   "cell_type": "code",
   "execution_count": 16,
   "metadata": {},
   "outputs": [],
   "source": [
    "X_train_counts = cvec.fit_transform(X_train)\n",
    "X_test_counts = cvec.transform(X_test)"
   ]
  },
  {
   "cell_type": "code",
   "execution_count": 17,
   "metadata": {},
   "outputs": [
    {
     "data": {
      "text/html": [
       "<div>\n",
       "<style scoped>\n",
       "    .dataframe tbody tr th:only-of-type {\n",
       "        vertical-align: middle;\n",
       "    }\n",
       "\n",
       "    .dataframe tbody tr th {\n",
       "        vertical-align: top;\n",
       "    }\n",
       "\n",
       "    .dataframe thead th {\n",
       "        text-align: right;\n",
       "    }\n",
       "</style>\n",
       "<table border=\"1\" class=\"dataframe\">\n",
       "  <thead>\n",
       "    <tr style=\"text-align: right;\">\n",
       "      <th></th>\n",
       "      <th>aadam</th>\n",
       "      <th>abalone</th>\n",
       "      <th>abandon</th>\n",
       "      <th>abandoned</th>\n",
       "      <th>abandoning</th>\n",
       "      <th>abandonment</th>\n",
       "      <th>abasement</th>\n",
       "      <th>abashed</th>\n",
       "      <th>abated</th>\n",
       "      <th>abatement</th>\n",
       "      <th>...</th>\n",
       "      <th>zig</th>\n",
       "      <th>zinc</th>\n",
       "      <th>zobo</th>\n",
       "      <th>zoologists</th>\n",
       "      <th>zoology</th>\n",
       "      <th>zorillo</th>\n",
       "      <th>zorobabel</th>\n",
       "      <th>zounds</th>\n",
       "      <th>zulu</th>\n",
       "      <th>zygote</th>\n",
       "    </tr>\n",
       "  </thead>\n",
       "  <tbody>\n",
       "    <tr>\n",
       "      <th>0</th>\n",
       "      <td>0</td>\n",
       "      <td>0</td>\n",
       "      <td>0</td>\n",
       "      <td>0</td>\n",
       "      <td>0</td>\n",
       "      <td>0</td>\n",
       "      <td>0</td>\n",
       "      <td>0</td>\n",
       "      <td>0</td>\n",
       "      <td>0</td>\n",
       "      <td>...</td>\n",
       "      <td>0</td>\n",
       "      <td>0</td>\n",
       "      <td>0</td>\n",
       "      <td>0</td>\n",
       "      <td>0</td>\n",
       "      <td>0</td>\n",
       "      <td>0</td>\n",
       "      <td>0</td>\n",
       "      <td>0</td>\n",
       "      <td>0</td>\n",
       "    </tr>\n",
       "    <tr>\n",
       "      <th>1</th>\n",
       "      <td>0</td>\n",
       "      <td>0</td>\n",
       "      <td>0</td>\n",
       "      <td>0</td>\n",
       "      <td>0</td>\n",
       "      <td>0</td>\n",
       "      <td>0</td>\n",
       "      <td>0</td>\n",
       "      <td>0</td>\n",
       "      <td>0</td>\n",
       "      <td>...</td>\n",
       "      <td>0</td>\n",
       "      <td>0</td>\n",
       "      <td>0</td>\n",
       "      <td>0</td>\n",
       "      <td>0</td>\n",
       "      <td>0</td>\n",
       "      <td>0</td>\n",
       "      <td>0</td>\n",
       "      <td>0</td>\n",
       "      <td>0</td>\n",
       "    </tr>\n",
       "    <tr>\n",
       "      <th>2</th>\n",
       "      <td>0</td>\n",
       "      <td>0</td>\n",
       "      <td>0</td>\n",
       "      <td>0</td>\n",
       "      <td>0</td>\n",
       "      <td>0</td>\n",
       "      <td>0</td>\n",
       "      <td>0</td>\n",
       "      <td>0</td>\n",
       "      <td>0</td>\n",
       "      <td>...</td>\n",
       "      <td>0</td>\n",
       "      <td>0</td>\n",
       "      <td>0</td>\n",
       "      <td>0</td>\n",
       "      <td>0</td>\n",
       "      <td>0</td>\n",
       "      <td>0</td>\n",
       "      <td>0</td>\n",
       "      <td>0</td>\n",
       "      <td>0</td>\n",
       "    </tr>\n",
       "    <tr>\n",
       "      <th>3</th>\n",
       "      <td>0</td>\n",
       "      <td>0</td>\n",
       "      <td>0</td>\n",
       "      <td>0</td>\n",
       "      <td>0</td>\n",
       "      <td>0</td>\n",
       "      <td>0</td>\n",
       "      <td>0</td>\n",
       "      <td>0</td>\n",
       "      <td>0</td>\n",
       "      <td>...</td>\n",
       "      <td>0</td>\n",
       "      <td>0</td>\n",
       "      <td>0</td>\n",
       "      <td>0</td>\n",
       "      <td>0</td>\n",
       "      <td>0</td>\n",
       "      <td>0</td>\n",
       "      <td>0</td>\n",
       "      <td>0</td>\n",
       "      <td>0</td>\n",
       "    </tr>\n",
       "    <tr>\n",
       "      <th>4</th>\n",
       "      <td>0</td>\n",
       "      <td>0</td>\n",
       "      <td>0</td>\n",
       "      <td>0</td>\n",
       "      <td>0</td>\n",
       "      <td>0</td>\n",
       "      <td>0</td>\n",
       "      <td>0</td>\n",
       "      <td>0</td>\n",
       "      <td>0</td>\n",
       "      <td>...</td>\n",
       "      <td>0</td>\n",
       "      <td>0</td>\n",
       "      <td>0</td>\n",
       "      <td>0</td>\n",
       "      <td>0</td>\n",
       "      <td>0</td>\n",
       "      <td>0</td>\n",
       "      <td>0</td>\n",
       "      <td>0</td>\n",
       "      <td>0</td>\n",
       "    </tr>\n",
       "  </tbody>\n",
       "</table>\n",
       "<p>5 rows × 22872 columns</p>\n",
       "</div>"
      ],
      "text/plain": [
       "   aadam  abalone  abandon  abandoned  abandoning  abandonment  abasement  \\\n",
       "0      0        0        0          0           0            0          0   \n",
       "1      0        0        0          0           0            0          0   \n",
       "2      0        0        0          0           0            0          0   \n",
       "3      0        0        0          0           0            0          0   \n",
       "4      0        0        0          0           0            0          0   \n",
       "\n",
       "   abashed  abated  abatement  ...  zig  zinc  zobo  zoologists  zoology  \\\n",
       "0        0       0          0  ...    0     0     0           0        0   \n",
       "1        0       0          0  ...    0     0     0           0        0   \n",
       "2        0       0          0  ...    0     0     0           0        0   \n",
       "3        0       0          0  ...    0     0     0           0        0   \n",
       "4        0       0          0  ...    0     0     0           0        0   \n",
       "\n",
       "   zorillo  zorobabel  zounds  zulu  zygote  \n",
       "0        0          0       0     0       0  \n",
       "1        0          0       0     0       0  \n",
       "2        0          0       0     0       0  \n",
       "3        0          0       0     0       0  \n",
       "4        0          0       0     0       0  \n",
       "\n",
       "[5 rows x 22872 columns]"
      ]
     },
     "execution_count": 17,
     "metadata": {},
     "output_type": "execute_result"
    }
   ],
   "source": [
    "df_counts = pd.DataFrame(X_train_counts.todense(), columns=cvec.get_feature_names())\n",
    "df_counts.head()"
   ]
  },
  {
   "cell_type": "code",
   "execution_count": 18,
   "metadata": {},
   "outputs": [
    {
     "name": "stdout",
     "output_type": "stream",
     "text": [
      "Train score: 1.0\n",
      "Test score: 0.6683937823834197\n"
     ]
    }
   ],
   "source": [
    "model = LogisticRegression(solver='lbfgs')\n",
    "model.fit(X_train_counts, y_train)\n",
    "print(f'Train score: {model.score(X_train_counts, y_train)}')\n",
    "print(f'Test score: {model.score(X_test_counts, y_test)}')"
   ]
  },
  {
   "cell_type": "code",
   "execution_count": 19,
   "metadata": {},
   "outputs": [],
   "source": [
    "y_pred = model.predict(X_test_counts)"
   ]
  },
  {
   "cell_type": "code",
   "execution_count": 20,
   "metadata": {},
   "outputs": [
    {
     "name": "stdout",
     "output_type": "stream",
     "text": [
      " Accuracy Score: 0.6683937823834197\n",
      " Precision Score: [0.8        0.625      0.78787879 1.         0.58695652 0.54716981]\n",
      " Recall Score: [0.74074074 0.57692308 0.65       0.5        0.65853659 0.82857143]\n"
     ]
    }
   ],
   "source": [
    "def classification_metrics(y_test, y_pred):\n",
    "    print(f' Accuracy Score: {accuracy_score(y_test, y_pred)}')\n",
    "    print(f' Precision Score: {precision_score(y_test, y_pred, average = None)}')\n",
    "    print(f' Recall Score: {recall_score(y_test, y_pred, average = None)}')\n",
    "    \n",
    "classification_metrics(y_test, y_pred)"
   ]
  },
  {
   "cell_type": "code",
   "execution_count": 21,
   "metadata": {},
   "outputs": [
    {
     "data": {
      "text/plain": [
       "array([[20,  1,  0,  0,  1,  5],\n",
       "       [ 3, 15,  2,  0,  3,  3],\n",
       "       [ 2,  6, 26,  0,  3,  3],\n",
       "       [ 0,  0,  3, 12,  7,  2],\n",
       "       [ 0,  1,  2,  0, 27, 11],\n",
       "       [ 0,  1,  0,  0,  5, 29]])"
      ]
     },
     "execution_count": 21,
     "metadata": {},
     "output_type": "execute_result"
    }
   ],
   "source": [
    "confusion_matrix(y_test, y_pred)"
   ]
  },
  {
   "cell_type": "code",
   "execution_count": 22,
   "metadata": {},
   "outputs": [],
   "source": [
    "predictions = model.predict(X_test_counts)\n",
    "\n",
    "comparison = pd.DataFrame(predictions, y_test)\n",
    "comparison = comparison.reset_index()"
   ]
  },
  {
   "cell_type": "code",
   "execution_count": 27,
   "metadata": {},
   "outputs": [],
   "source": [
    "comparison['prediction'] = comparison['prediction'].astype(int)"
   ]
  },
  {
   "cell_type": "code",
   "execution_count": 28,
   "metadata": {},
   "outputs": [],
   "source": [
    "comparison['correct'] = np.where(comparison['target'] == comparison['prediction'], 1, 0)"
   ]
  },
  {
   "cell_type": "code",
   "execution_count": 29,
   "metadata": {},
   "outputs": [],
   "source": [
    "comparison = comparison.rename(columns={0: 'prediction'})"
   ]
  },
  {
   "cell_type": "code",
   "execution_count": 30,
   "metadata": {},
   "outputs": [],
   "source": [
    "comparison.target = comparison.target.astype(int)"
   ]
  },
  {
   "cell_type": "code",
   "execution_count": 31,
   "metadata": {},
   "outputs": [
    {
     "data": {
      "text/html": [
       "<div>\n",
       "<style scoped>\n",
       "    .dataframe tbody tr th:only-of-type {\n",
       "        vertical-align: middle;\n",
       "    }\n",
       "\n",
       "    .dataframe tbody tr th {\n",
       "        vertical-align: top;\n",
       "    }\n",
       "\n",
       "    .dataframe thead th {\n",
       "        text-align: right;\n",
       "    }\n",
       "</style>\n",
       "<table border=\"1\" class=\"dataframe\">\n",
       "  <thead>\n",
       "    <tr style=\"text-align: right;\">\n",
       "      <th></th>\n",
       "      <th>target</th>\n",
       "      <th>prediction</th>\n",
       "      <th>correct</th>\n",
       "    </tr>\n",
       "  </thead>\n",
       "  <tbody>\n",
       "    <tr>\n",
       "      <th>188</th>\n",
       "      <td>2</td>\n",
       "      <td>1</td>\n",
       "      <td>0</td>\n",
       "    </tr>\n",
       "    <tr>\n",
       "      <th>189</th>\n",
       "      <td>0</td>\n",
       "      <td>0</td>\n",
       "      <td>1</td>\n",
       "    </tr>\n",
       "    <tr>\n",
       "      <th>190</th>\n",
       "      <td>0</td>\n",
       "      <td>0</td>\n",
       "      <td>1</td>\n",
       "    </tr>\n",
       "    <tr>\n",
       "      <th>191</th>\n",
       "      <td>4</td>\n",
       "      <td>5</td>\n",
       "      <td>0</td>\n",
       "    </tr>\n",
       "    <tr>\n",
       "      <th>192</th>\n",
       "      <td>5</td>\n",
       "      <td>5</td>\n",
       "      <td>1</td>\n",
       "    </tr>\n",
       "  </tbody>\n",
       "</table>\n",
       "</div>"
      ],
      "text/plain": [
       "     target  prediction  correct\n",
       "188       2           1        0\n",
       "189       0           0        1\n",
       "190       0           0        1\n",
       "191       4           5        0\n",
       "192       5           5        1"
      ]
     },
     "execution_count": 31,
     "metadata": {},
     "output_type": "execute_result"
    }
   ],
   "source": [
    "comparison.tail()"
   ]
  },
  {
   "cell_type": "code",
   "execution_count": 32,
   "metadata": {},
   "outputs": [],
   "source": [
    "comparison['difference'] = abs(comparison.target - comparison.prediction)"
   ]
  },
  {
   "cell_type": "code",
   "execution_count": 33,
   "metadata": {},
   "outputs": [
    {
     "data": {
      "text/plain": [
       "0.6683937823834197"
      ]
     },
     "execution_count": 33,
     "metadata": {},
     "output_type": "execute_result"
    }
   ],
   "source": [
    "borderline_dates = len(comparison[comparison['difference'] < 1]) / len(comparison['difference'])\n",
    "borderline_dates"
   ]
  },
  {
   "cell_type": "code",
   "execution_count": 35,
   "metadata": {},
   "outputs": [],
   "source": [
    "df = pd.read_csv('../data/cleaned/df_with_sentiment_doc2vec.csv', index_col=0)"
   ]
  },
  {
   "cell_type": "code",
   "execution_count": 36,
   "metadata": {},
   "outputs": [
    {
     "data": {
      "text/html": [
       "<div>\n",
       "<style scoped>\n",
       "    .dataframe tbody tr th:only-of-type {\n",
       "        vertical-align: middle;\n",
       "    }\n",
       "\n",
       "    .dataframe tbody tr th {\n",
       "        vertical-align: top;\n",
       "    }\n",
       "\n",
       "    .dataframe thead th {\n",
       "        text-align: right;\n",
       "    }\n",
       "</style>\n",
       "<table border=\"1\" class=\"dataframe\">\n",
       "  <thead>\n",
       "    <tr style=\"text-align: right;\">\n",
       "      <th></th>\n",
       "      <th>date</th>\n",
       "      <th>info</th>\n",
       "      <th>text</th>\n",
       "      <th>target</th>\n",
       "      <th>sentiment</th>\n",
       "      <th>compound</th>\n",
       "      <th>neg</th>\n",
       "      <th>neu</th>\n",
       "      <th>pos</th>\n",
       "      <th>doc_2_vec</th>\n",
       "    </tr>\n",
       "  </thead>\n",
       "  <tbody>\n",
       "    <tr>\n",
       "      <th>952</th>\n",
       "      <td>1981</td>\n",
       "      <td>Midnight's Children</td>\n",
       "      <td>['yes', 'they', 'will', 'trample', 'me', 'unde...</td>\n",
       "      <td>5</td>\n",
       "      <td>{'neg': 0.136, 'neu': 0.783, 'pos': 0.081, 'co...</td>\n",
       "      <td>-0.8316</td>\n",
       "      <td>0.136</td>\n",
       "      <td>0.783</td>\n",
       "      <td>0.081</td>\n",
       "      <td>0.206581</td>\n",
       "    </tr>\n",
       "    <tr>\n",
       "      <th>953</th>\n",
       "      <td>2003</td>\n",
       "      <td>A Hundred and One Days</td>\n",
       "      <td>['the', 'white', 'floodlight', 'shines', 'thro...</td>\n",
       "      <td>5</td>\n",
       "      <td>{'neg': 0.0, 'neu': 1.0, 'pos': 0.0, 'compound...</td>\n",
       "      <td>0.0000</td>\n",
       "      <td>0.000</td>\n",
       "      <td>1.000</td>\n",
       "      <td>0.000</td>\n",
       "      <td>0.028123</td>\n",
       "    </tr>\n",
       "    <tr>\n",
       "      <th>954</th>\n",
       "      <td>1959</td>\n",
       "      <td>Cider With Rosie</td>\n",
       "      <td>['it', 'was', 'then', 'that', 'began', 'to', '...</td>\n",
       "      <td>5</td>\n",
       "      <td>{'neg': 0.0, 'neu': 0.978, 'pos': 0.022, 'comp...</td>\n",
       "      <td>0.0772</td>\n",
       "      <td>0.000</td>\n",
       "      <td>0.978</td>\n",
       "      <td>0.022</td>\n",
       "      <td>0.133808</td>\n",
       "    </tr>\n",
       "    <tr>\n",
       "      <th>955</th>\n",
       "      <td>1954</td>\n",
       "      <td>Lord of the Flies</td>\n",
       "      <td>['he', 'turned', 'away', 'to', 'give', 'them',...</td>\n",
       "      <td>5</td>\n",
       "      <td>{'neg': 0.0, 'neu': 1.0, 'pos': 0.0, 'compound...</td>\n",
       "      <td>0.0000</td>\n",
       "      <td>0.000</td>\n",
       "      <td>1.000</td>\n",
       "      <td>0.000</td>\n",
       "      <td>0.061380</td>\n",
       "    </tr>\n",
       "    <tr>\n",
       "      <th>956</th>\n",
       "      <td>1991</td>\n",
       "      <td>The Kitchen God's Wife</td>\n",
       "      <td>['of', 'course', 'it', 'only', 'superstition',...</td>\n",
       "      <td>5</td>\n",
       "      <td>{'neg': 0.0, 'neu': 0.691, 'pos': 0.309, 'comp...</td>\n",
       "      <td>0.8945</td>\n",
       "      <td>0.000</td>\n",
       "      <td>0.691</td>\n",
       "      <td>0.309</td>\n",
       "      <td>0.035997</td>\n",
       "    </tr>\n",
       "    <tr>\n",
       "      <th>957</th>\n",
       "      <td>1998</td>\n",
       "      <td>The Hours</td>\n",
       "      <td>['and', 'here', 'she', 'is', 'herself', 'clari...</td>\n",
       "      <td>5</td>\n",
       "      <td>{'neg': 0.058, 'neu': 0.875, 'pos': 0.066, 'co...</td>\n",
       "      <td>0.0772</td>\n",
       "      <td>0.058</td>\n",
       "      <td>0.875</td>\n",
       "      <td>0.066</td>\n",
       "      <td>0.058215</td>\n",
       "    </tr>\n",
       "    <tr>\n",
       "      <th>958</th>\n",
       "      <td>1985</td>\n",
       "      <td>Perfume: The Story of a Murderer</td>\n",
       "      <td>['when', 'they', 'finally', 'did', 'dare', 'it...</td>\n",
       "      <td>5</td>\n",
       "      <td>{'neg': 0.076, 'neu': 0.69, 'pos': 0.233, 'com...</td>\n",
       "      <td>0.7650</td>\n",
       "      <td>0.076</td>\n",
       "      <td>0.690</td>\n",
       "      <td>0.233</td>\n",
       "      <td>0.066629</td>\n",
       "    </tr>\n",
       "    <tr>\n",
       "      <th>959</th>\n",
       "      <td>1999</td>\n",
       "      <td>White Teeth</td>\n",
       "      <td>['archie', 'for', 'one', 'watched', 'the', 'mo...</td>\n",
       "      <td>5</td>\n",
       "      <td>{'neg': 0.026, 'neu': 0.905, 'pos': 0.069, 'co...</td>\n",
       "      <td>0.4767</td>\n",
       "      <td>0.026</td>\n",
       "      <td>0.905</td>\n",
       "      <td>0.069</td>\n",
       "      <td>0.106366</td>\n",
       "    </tr>\n",
       "    <tr>\n",
       "      <th>960</th>\n",
       "      <td>2002</td>\n",
       "      <td>Any Human Heart</td>\n",
       "      <td>['my', 'personal', 'rollercoaster', 'not', 'so...</td>\n",
       "      <td>5</td>\n",
       "      <td>{'neg': 0.092, 'neu': 0.788, 'pos': 0.119, 'co...</td>\n",
       "      <td>0.2944</td>\n",
       "      <td>0.092</td>\n",
       "      <td>0.788</td>\n",
       "      <td>0.119</td>\n",
       "      <td>0.015476</td>\n",
       "    </tr>\n",
       "    <tr>\n",
       "      <th>961</th>\n",
       "      <td>2008</td>\n",
       "      <td>The Outcast</td>\n",
       "      <td>['he', 'didn', 'think', 'about', 'it', 'he', '...</td>\n",
       "      <td>5</td>\n",
       "      <td>{'neg': 0.0, 'neu': 0.913, 'pos': 0.087, 'comp...</td>\n",
       "      <td>0.2263</td>\n",
       "      <td>0.000</td>\n",
       "      <td>0.913</td>\n",
       "      <td>0.087</td>\n",
       "      <td>0.050174</td>\n",
       "    </tr>\n",
       "  </tbody>\n",
       "</table>\n",
       "</div>"
      ],
      "text/plain": [
       "     date                              info  \\\n",
       "952  1981               Midnight's Children   \n",
       "953  2003            A Hundred and One Days   \n",
       "954  1959                  Cider With Rosie   \n",
       "955  1954                 Lord of the Flies   \n",
       "956  1991            The Kitchen God's Wife   \n",
       "957  1998                         The Hours   \n",
       "958  1985  Perfume: The Story of a Murderer   \n",
       "959  1999                       White Teeth   \n",
       "960  2002                   Any Human Heart   \n",
       "961  2008                       The Outcast   \n",
       "\n",
       "                                                  text  target  \\\n",
       "952  ['yes', 'they', 'will', 'trample', 'me', 'unde...       5   \n",
       "953  ['the', 'white', 'floodlight', 'shines', 'thro...       5   \n",
       "954  ['it', 'was', 'then', 'that', 'began', 'to', '...       5   \n",
       "955  ['he', 'turned', 'away', 'to', 'give', 'them',...       5   \n",
       "956  ['of', 'course', 'it', 'only', 'superstition',...       5   \n",
       "957  ['and', 'here', 'she', 'is', 'herself', 'clari...       5   \n",
       "958  ['when', 'they', 'finally', 'did', 'dare', 'it...       5   \n",
       "959  ['archie', 'for', 'one', 'watched', 'the', 'mo...       5   \n",
       "960  ['my', 'personal', 'rollercoaster', 'not', 'so...       5   \n",
       "961  ['he', 'didn', 'think', 'about', 'it', 'he', '...       5   \n",
       "\n",
       "                                             sentiment  compound    neg  \\\n",
       "952  {'neg': 0.136, 'neu': 0.783, 'pos': 0.081, 'co...   -0.8316  0.136   \n",
       "953  {'neg': 0.0, 'neu': 1.0, 'pos': 0.0, 'compound...    0.0000  0.000   \n",
       "954  {'neg': 0.0, 'neu': 0.978, 'pos': 0.022, 'comp...    0.0772  0.000   \n",
       "955  {'neg': 0.0, 'neu': 1.0, 'pos': 0.0, 'compound...    0.0000  0.000   \n",
       "956  {'neg': 0.0, 'neu': 0.691, 'pos': 0.309, 'comp...    0.8945  0.000   \n",
       "957  {'neg': 0.058, 'neu': 0.875, 'pos': 0.066, 'co...    0.0772  0.058   \n",
       "958  {'neg': 0.076, 'neu': 0.69, 'pos': 0.233, 'com...    0.7650  0.076   \n",
       "959  {'neg': 0.026, 'neu': 0.905, 'pos': 0.069, 'co...    0.4767  0.026   \n",
       "960  {'neg': 0.092, 'neu': 0.788, 'pos': 0.119, 'co...    0.2944  0.092   \n",
       "961  {'neg': 0.0, 'neu': 0.913, 'pos': 0.087, 'comp...    0.2263  0.000   \n",
       "\n",
       "       neu    pos  doc_2_vec  \n",
       "952  0.783  0.081   0.206581  \n",
       "953  1.000  0.000   0.028123  \n",
       "954  0.978  0.022   0.133808  \n",
       "955  1.000  0.000   0.061380  \n",
       "956  0.691  0.309   0.035997  \n",
       "957  0.875  0.066   0.058215  \n",
       "958  0.690  0.233   0.066629  \n",
       "959  0.905  0.069   0.106366  \n",
       "960  0.788  0.119   0.015476  \n",
       "961  0.913  0.087   0.050174  "
      ]
     },
     "execution_count": 36,
     "metadata": {},
     "output_type": "execute_result"
    }
   ],
   "source": [
    "df.tail(10)"
   ]
  },
  {
   "cell_type": "code",
   "execution_count": null,
   "metadata": {},
   "outputs": [],
   "source": []
  }
 ],
 "metadata": {
  "kernelspec": {
   "display_name": "Python 3",
   "language": "python",
   "name": "python3"
  },
  "language_info": {
   "codemirror_mode": {
    "name": "ipython",
    "version": 3
   },
   "file_extension": ".py",
   "mimetype": "text/x-python",
   "name": "python",
   "nbconvert_exporter": "python",
   "pygments_lexer": "ipython3",
   "version": "3.7.3"
  }
 },
 "nbformat": 4,
 "nbformat_minor": 2
}
