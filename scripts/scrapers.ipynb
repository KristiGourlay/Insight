{
 "cells": [
  {
   "cell_type": "code",
   "execution_count": 25,
   "metadata": {},
   "outputs": [],
   "source": [
    "import pandas as pd\n",
    "import numpy as np\n",
    "import sklearn.metrics as metrics\n",
    "import pickle\n",
    "from glob import glob\n",
    "import datetime\n",
    "import requests\n",
    "import time\n",
    "from bs4 import BeautifulSoup as bs\n",
    "import re\n",
    "\n",
    "import time\n",
    "from selenium import webdriver\n",
    "from selenium.webdriver.common.by import By\n",
    "from selenium.webdriver.support.ui import WebDriverWait\n",
    "from selenium.webdriver.support import expected_conditions as EC\n",
    "from selenium.webdriver.common.keys import Keys\n",
    "from selenium.common.exceptions import NoSuchElementException\n",
    "\n",
    "import os\n",
    "from time import sleep\n",
    "from joblib import dump, load"
   ]
  },
  {
   "cell_type": "markdown",
   "metadata": {},
   "source": [
    "# Project Gutenberg"
   ]
  },
  {
   "cell_type": "code",
   "execution_count": null,
   "metadata": {},
   "outputs": [],
   "source": [
    "# Content was scraped using a wget provided by the website"
   ]
  },
  {
   "cell_type": "code",
   "execution_count": null,
   "metadata": {},
   "outputs": [],
   "source": [
    "files = glob('Gutenberg/txt/*.txt')\n",
    "\n",
    "book_df = pd.DataFrame(columns=['text', 'info', 'date', 'target'])"
   ]
  },
  {
   "cell_type": "code",
   "execution_count": null,
   "metadata": {},
   "outputs": [],
   "source": [
    "def collect_book_info(files):\n",
    "    book_info = []\n",
    "    for file in files:\n",
    "        open_file = open(file, 'r', encoding= \"ISO-8859-1\")\n",
    "        read_file = open_file.read()[:300]\n",
    "        read_file = read_file.replace(' ', '').split()\n",
    "        book_info.append(read_file)\n",
    "\n",
    "    return book_info\n",
    "\n",
    "\n",
    "book_information = collect_book_info(files)"
   ]
  },
  {
   "cell_type": "code",
   "execution_count": null,
   "metadata": {},
   "outputs": [],
   "source": [
    "def collect_book_text(files):\n",
    "    book_text = []\n",
    "    for file in files:\n",
    "        open_file = open(file, 'r', encoding= \"ISO-8859-1\")\n",
    "        read_file = open_file.read()[1500:2300].splitlines()\n",
    "        book_text.append(read_file)\n",
    "\n",
    "    return book_text\n",
    "\n",
    "book_text = collect_book_text(files)"
   ]
  },
  {
   "cell_type": "code",
   "execution_count": null,
   "metadata": {},
   "outputs": [],
   "source": [
    "# Adding information to dataframe\n",
    "book_df['info'] = book_information\n",
    "book_df['text'] = book_text"
   ]
  },
  {
   "cell_type": "code",
   "execution_count": null,
   "metadata": {},
   "outputs": [],
   "source": [
    "#Extracting Date Information\n",
    "def create_date(book_info):\n",
    "    date_info = []\n",
    "    for info in book_information:\n",
    "        info = str(info)\n",
    "        info = re.findall(r'(\\d{4})', info)\n",
    "        date_info.append(info)\n",
    "\n",
    "    return date_info\n",
    "\n",
    "book_dates = create_date(book_information)\n",
    "book_df['date'] = book_dates\n",
    "\n",
    "book_df = book_df.replace('[]', np.nan)"
   ]
  },
  {
   "cell_type": "code",
   "execution_count": null,
   "metadata": {},
   "outputs": [],
   "source": [
    "book_df.head()"
   ]
  },
  {
   "cell_type": "code",
   "execution_count": null,
   "metadata": {},
   "outputs": [],
   "source": [
    "book_df['date'] = book_df['date'].astype(str)"
   ]
  },
  {
   "cell_type": "code",
   "execution_count": null,
   "metadata": {},
   "outputs": [],
   "source": [
    "book_df['date'] = book_df['date'].str.strip('[]')\n",
    "book_df['date'] = book_df['date'].str.strip(\"''\")"
   ]
  },
  {
   "cell_type": "code",
   "execution_count": null,
   "metadata": {
    "scrolled": true
   },
   "outputs": [],
   "source": [
    "mask = (book_df['date'].str.len() > 4)\n",
    "\n",
    "len(mask)\n",
    "book_df[mask] = book_df.loc[mask].date = 'NaN'"
   ]
  },
  {
   "cell_type": "code",
   "execution_count": null,
   "metadata": {},
   "outputs": [],
   "source": []
  },
  {
   "cell_type": "markdown",
   "metadata": {},
   "source": [
    "# Stylist Magazine Article"
   ]
  },
  {
   "cell_type": "code",
   "execution_count": null,
   "metadata": {},
   "outputs": [],
   "source": [
    "import pandas as pd\n",
    "from bs4 import BeautifulSoup as bs\n",
    "import requests\n",
    "import re\n",
    "\n",
    "\n",
    "url = 'http://stylist.co.uk/books/the-best-100-closing-lines-from-books/123681'\n",
    "res = requests.get(url)\n",
    "\n",
    "soup = bs(res.content, 'lxml')"
   ]
  },
  {
   "cell_type": "code",
   "execution_count": null,
   "metadata": {},
   "outputs": [],
   "source": [
    "soup"
   ]
  },
  {
   "cell_type": "code",
   "execution_count": null,
   "metadata": {},
   "outputs": [],
   "source": [
    "books = []\n",
    "for link in soup.find_all('h3', {'class': 'css-r1u8am'}):\n",
    "    ta_dict = {}\n",
    "    ta_dict['title'] = link.text\n",
    "    books.append(ta_dict)"
   ]
  },
  {
   "cell_type": "code",
   "execution_count": null,
   "metadata": {},
   "outputs": [],
   "source": [
    "quotes = []\n",
    "for link in soup.find_all('div', {'class': 'css-dbbd7o'}):\n",
    "    tr_dict = {}\n",
    "    tr_dict['quote'] = link.text\n",
    "    quotes.append(tr_dict)"
   ]
  },
  {
   "cell_type": "code",
   "execution_count": null,
   "metadata": {},
   "outputs": [],
   "source": [
    "book_info = pd.DataFrame(books, quotes)\n",
    "book_info"
   ]
  },
  {
   "cell_type": "code",
   "execution_count": null,
   "metadata": {},
   "outputs": [],
   "source": [
    "book_info = book_info.reset_index()"
   ]
  },
  {
   "cell_type": "code",
   "execution_count": null,
   "metadata": {},
   "outputs": [],
   "source": [
    "book_info['index'][2]['quote'].splitlines()[0]"
   ]
  },
  {
   "cell_type": "code",
   "execution_count": null,
   "metadata": {},
   "outputs": [],
   "source": [
    "list_of_quotes = book_info['index'].tolist()"
   ]
  },
  {
   "cell_type": "code",
   "execution_count": null,
   "metadata": {},
   "outputs": [],
   "source": [
    "list_of_quotes[0]['quote'].splitlines()[0]"
   ]
  },
  {
   "cell_type": "code",
   "execution_count": null,
   "metadata": {},
   "outputs": [],
   "source": [
    "def extract_quote(list_of_quotes):\n",
    "    quotes = []\n",
    "    num = len(list_of_quotes)\n",
    "    for i in range(0, num):\n",
    "        new_quote = list_of_quotes[i]['quote'].splitlines()[0]\n",
    "        quotes.append(new_quote)\n",
    "    \n",
    "    return quotes\n"
   ]
  },
  {
   "cell_type": "code",
   "execution_count": null,
   "metadata": {
    "scrolled": false
   },
   "outputs": [],
   "source": [
    "book_info['index'] = extract_quote(list_of_quotes)\n"
   ]
  },
  {
   "cell_type": "code",
   "execution_count": null,
   "metadata": {},
   "outputs": [],
   "source": [
    "book_info = book_info.rename(columns={'index': 'text'})"
   ]
  },
  {
   "cell_type": "code",
   "execution_count": null,
   "metadata": {},
   "outputs": [],
   "source": [
    "df = book_info[book_info['text'].map(len) > 100]"
   ]
  },
  {
   "cell_type": "code",
   "execution_count": null,
   "metadata": {},
   "outputs": [],
   "source": [
    "df = df.reset_index()"
   ]
  },
  {
   "cell_type": "code",
   "execution_count": null,
   "metadata": {},
   "outputs": [],
   "source": [
    "df = df.drop(columns='index')"
   ]
  },
  {
   "cell_type": "code",
   "execution_count": null,
   "metadata": {},
   "outputs": [],
   "source": [
    "df['target'] = 'NaN'"
   ]
  },
  {
   "cell_type": "code",
   "execution_count": null,
   "metadata": {},
   "outputs": [],
   "source": [
    "df['date'] = 'NaN'"
   ]
  },
  {
   "cell_type": "code",
   "execution_count": null,
   "metadata": {},
   "outputs": [],
   "source": [
    "df.to_csv('quote_scrape.csv', index=False)"
   ]
  },
  {
   "cell_type": "code",
   "execution_count": null,
   "metadata": {},
   "outputs": [],
   "source": []
  },
  {
   "cell_type": "markdown",
   "metadata": {},
   "source": [
    "# LIterature Network"
   ]
  },
  {
   "cell_type": "code",
   "execution_count": null,
   "metadata": {},
   "outputs": [],
   "source": [
    "\n",
    "url = 'http://www.online-literature.com'\n",
    "res = requests.get(url)\n",
    "\n",
    "soup = bs(res.content, 'lxml')"
   ]
  },
  {
   "cell_type": "code",
   "execution_count": null,
   "metadata": {},
   "outputs": [],
   "source": [
    "url = 'http://www.online-literature.com/alcott/'"
   ]
  },
  {
   "cell_type": "code",
   "execution_count": null,
   "metadata": {},
   "outputs": [],
   "source": [
    "soup"
   ]
  },
  {
   "cell_type": "code",
   "execution_count": 10,
   "metadata": {},
   "outputs": [
    {
     "ename": "AttributeError",
     "evalue": "'NoneType' object has no attribute 'get_attribute'",
     "output_type": "error",
     "traceback": [
      "\u001b[0;31m---------------------------------------------------------------------------\u001b[0m",
      "\u001b[0;31mAttributeError\u001b[0m                            Traceback (most recent call last)",
      "\u001b[0;32m<ipython-input-10-9b710d088955>\u001b[0m in \u001b[0;36m<module>\u001b[0;34m\u001b[0m\n\u001b[1;32m      4\u001b[0m \u001b[0mbrowser\u001b[0m\u001b[0;34m.\u001b[0m\u001b[0mget\u001b[0m\u001b[0;34m(\u001b[0m\u001b[0;34m'http://www.online-literature.com'\u001b[0m\u001b[0;34m)\u001b[0m\u001b[0;34m\u001b[0m\u001b[0;34m\u001b[0m\u001b[0m\n\u001b[1;32m      5\u001b[0m \u001b[0mbrowser\u001b[0m\u001b[0;34m.\u001b[0m\u001b[0mfind_element_by_xpath\u001b[0m\u001b[0;34m(\u001b[0m\u001b[0;34m'.//tr[@class=\"even\"]'\u001b[0m\u001b[0;34m)\u001b[0m\u001b[0;34m\u001b[0m\u001b[0;34m\u001b[0m\u001b[0m\n\u001b[0;32m----> 6\u001b[0;31m \u001b[0mresult\u001b[0m \u001b[0;34m=\u001b[0m \u001b[0mresult\u001b[0m\u001b[0;34m.\u001b[0m\u001b[0mget_attribute\u001b[0m\u001b[0;34m(\u001b[0m\u001b[0;34m'innerHTML'\u001b[0m\u001b[0;34m)\u001b[0m\u001b[0;34m\u001b[0m\u001b[0;34m\u001b[0m\u001b[0m\n\u001b[0m\u001b[1;32m      7\u001b[0m \u001b[0;34m\u001b[0m\u001b[0m\n\u001b[1;32m      8\u001b[0m \u001b[0;34m\u001b[0m\u001b[0m\n",
      "\u001b[0;31mAttributeError\u001b[0m: 'NoneType' object has no attribute 'get_attribute'"
     ]
    }
   ],
   "source": [
    "link_list  = []\n",
    "browser = webdriver.Firefox()\n",
    "\n",
    "browser.get('http://www.online-literature.com')\n",
    "browser.find_element_by_xpath('.//tr[@class=\"even\"]')\n",
    "result = result.get_attribute('href')\n",
    "\n",
    "\n",
    "time.sleep(20) \n",
    "\n",
    "\n",
    "link_list.append(result)\n",
    "\n",
    "browser.quit()"
   ]
  },
  {
   "cell_type": "code",
   "execution_count": null,
   "metadata": {},
   "outputs": [],
   "source": []
  },
  {
   "cell_type": "code",
   "execution_count": null,
   "metadata": {},
   "outputs": [],
   "source": []
  },
  {
   "cell_type": "code",
   "execution_count": null,
   "metadata": {},
   "outputs": [],
   "source": []
  },
  {
   "cell_type": "code",
   "execution_count": null,
   "metadata": {},
   "outputs": [],
   "source": []
  },
  {
   "cell_type": "code",
   "execution_count": null,
   "metadata": {},
   "outputs": [],
   "source": []
  },
  {
   "cell_type": "code",
   "execution_count": null,
   "metadata": {},
   "outputs": [],
   "source": []
  },
  {
   "cell_type": "markdown",
   "metadata": {},
   "source": [
    "# Reddit"
   ]
  },
  {
   "cell_type": "code",
   "execution_count": null,
   "metadata": {},
   "outputs": [],
   "source": [
    "# url = 'https://www.reddit.com/r/books/comments/1mqfzt/what_is_the_most_powerful_chapter_paragraph_or/.json'\n",
    "# url = 'https://thoughtcatalog.com/charlie-shaw/2013/09/34-profound-excerpts-from-classic-literature-that-will-change-your-day/.json'\n",
    "url = 'https://www.reddit.com/r/books/comments/35wv34/whats_the_most_beautiful_paragraph_or_sentence/.json'"
   ]
  },
  {
   "cell_type": "code",
   "execution_count": null,
   "metadata": {},
   "outputs": [],
   "source": [
    "headers = {'User-Agent': 'My User Agent 1.0'}"
   ]
  },
  {
   "cell_type": "code",
   "execution_count": null,
   "metadata": {},
   "outputs": [],
   "source": [
    "def fetch_page(url, after=''):\n",
    "    params = {'after': after}\n",
    "    response = requests.get(url, headers=headers, params=params)\n",
    "    return response.json()[1]['data']['children']"
   ]
  },
  {
   "cell_type": "code",
   "execution_count": null,
   "metadata": {},
   "outputs": [],
   "source": [
    "def parse_post(post):\n",
    "    keep = ['subreddit', 'title', 'body', 'name'] \n",
    "    return {k:v for k, v in post['data'].items() if k in keep}"
   ]
  },
  {
   "cell_type": "code",
   "execution_count": null,
   "metadata": {},
   "outputs": [],
   "source": [
    "def parse_page(page):\n",
    "    after = ''\n",
    "    posts = []\n",
    "    for post in page:\n",
    "        post = parse_post(post)\n",
    "        after = post['name']\n",
    "        posts.append(post)\n",
    "    return posts, after"
   ]
  },
  {
   "cell_type": "code",
   "execution_count": null,
   "metadata": {},
   "outputs": [],
   "source": [
    "def fetch_subreddit(subreddit, pages=4):\n",
    "    url = subreddit\n",
    "    after = ''\n",
    "    all_posts = []\n",
    "    for i in range(pages):\n",
    "        print(f'Fetching Page {i + 1}')\n",
    "        page = fetch_page(url, after)\n",
    "        posts, after = parse_page(page)\n",
    "        all_posts.extend(posts)\n",
    "        time.sleep(5)\n",
    "    return all_posts"
   ]
  },
  {
   "cell_type": "code",
   "execution_count": null,
   "metadata": {},
   "outputs": [],
   "source": [
    "posts = fetch_subreddit(url, pages=50)\n"
   ]
  },
  {
   "cell_type": "code",
   "execution_count": null,
   "metadata": {},
   "outputs": [],
   "source": [
    "reddit_df = pd.DataFrame(posts)"
   ]
  },
  {
   "cell_type": "code",
   "execution_count": null,
   "metadata": {},
   "outputs": [],
   "source": [
    "reddit_df = reddit_df.dropna()"
   ]
  },
  {
   "cell_type": "code",
   "execution_count": null,
   "metadata": {},
   "outputs": [],
   "source": [
    "reddit_df = reddit_df.drop_duplicates()"
   ]
  },
  {
   "cell_type": "code",
   "execution_count": null,
   "metadata": {},
   "outputs": [],
   "source": []
  },
  {
   "cell_type": "code",
   "execution_count": null,
   "metadata": {},
   "outputs": [],
   "source": [
    "def clean_posts(posts):\n",
    "    new_posts = []\n",
    "    for post in posts:\n",
    "        post = post.replace('\\n', '')\n",
    "        new_posts.append(post)\n",
    "        \n",
    "    return new_posts"
   ]
  },
  {
   "cell_type": "code",
   "execution_count": null,
   "metadata": {},
   "outputs": [],
   "source": [
    "text = reddit_df['body'].tolist()"
   ]
  },
  {
   "cell_type": "code",
   "execution_count": null,
   "metadata": {},
   "outputs": [],
   "source": [
    "reddit_df['body'] = clean_posts(text)"
   ]
  },
  {
   "cell_type": "code",
   "execution_count": null,
   "metadata": {},
   "outputs": [],
   "source": [
    "def split_column(df, col):\n",
    "    new = df[col].str.rsplit('-', n=1, expand=True)\n",
    "    df['text'] = new[0]\n",
    "    df['info'] = new[1]\n",
    "    \n",
    "    return df\n",
    "# new = reddit_df['body'].str.rsplit('-', n=1, expand=True)\n",
    "\n",
    "# reddit_df['text'] = new[0]\n",
    "# reddit_df['info'] = new[1]\n",
    "df = split_column(reddit_df, 'body')"
   ]
  },
  {
   "cell_type": "code",
   "execution_count": null,
   "metadata": {},
   "outputs": [],
   "source": [
    "df = df.dropna()"
   ]
  },
  {
   "cell_type": "code",
   "execution_count": null,
   "metadata": {},
   "outputs": [],
   "source": [
    "df.shape"
   ]
  },
  {
   "cell_type": "code",
   "execution_count": null,
   "metadata": {},
   "outputs": [],
   "source": [
    "df2 = pd.read_csv('reddit_data.csv', index_col=0)"
   ]
  },
  {
   "cell_type": "code",
   "execution_count": null,
   "metadata": {},
   "outputs": [],
   "source": [
    "df = df.append(df2)"
   ]
  },
  {
   "cell_type": "code",
   "execution_count": null,
   "metadata": {},
   "outputs": [],
   "source": [
    "df.to_csv('reddit_data.csv')"
   ]
  },
  {
   "cell_type": "code",
   "execution_count": null,
   "metadata": {},
   "outputs": [],
   "source": [
    "# df.to_csv('reddit_df.csv')"
   ]
  },
  {
   "cell_type": "markdown",
   "metadata": {},
   "source": [
    "# Date Scraping (Selenium) "
   ]
  },
  {
   "cell_type": "code",
   "execution_count": 8,
   "metadata": {},
   "outputs": [],
   "source": [
    "df = pd.read_csv('../data/processed/reddit_data.csv', index_col=0)\n",
    "# browser = webdriver.Firefox()"
   ]
  },
  {
   "cell_type": "code",
   "execution_count": 9,
   "metadata": {},
   "outputs": [],
   "source": [
    "df = df.drop_duplicates(subset=['text'])"
   ]
  },
  {
   "cell_type": "code",
   "execution_count": 10,
   "metadata": {},
   "outputs": [],
   "source": [
    "df2 = pd.read_csv('../data/processed/quote_scrape.csv')"
   ]
  },
  {
   "cell_type": "code",
   "execution_count": 11,
   "metadata": {},
   "outputs": [],
   "source": [
    "df = df.drop(columns=['name', 'subreddit', 'body'])"
   ]
  },
  {
   "cell_type": "code",
   "execution_count": 12,
   "metadata": {},
   "outputs": [],
   "source": [
    "df2 = df2.drop(columns=['target', 'date'])\n",
    "df2 = df2.rename(columns={'title': 'info'})"
   ]
  },
  {
   "cell_type": "code",
   "execution_count": 18,
   "metadata": {},
   "outputs": [
    {
     "data": {
      "text/plain": [
       "(138, 2)"
      ]
     },
     "execution_count": 18,
     "metadata": {},
     "output_type": "execute_result"
    }
   ],
   "source": [
    "df.shape"
   ]
  },
  {
   "cell_type": "code",
   "execution_count": 14,
   "metadata": {},
   "outputs": [],
   "source": [
    "df = df.append(df2)"
   ]
  },
  {
   "cell_type": "code",
   "execution_count": 15,
   "metadata": {},
   "outputs": [],
   "source": [
    "df = df.reset_index()"
   ]
  },
  {
   "cell_type": "code",
   "execution_count": 16,
   "metadata": {},
   "outputs": [],
   "source": [
    "df = df.drop(columns=['index'])"
   ]
  },
  {
   "cell_type": "code",
   "execution_count": 17,
   "metadata": {},
   "outputs": [],
   "source": [
    "df = df.drop_duplicates(subset=['text'])"
   ]
  },
  {
   "cell_type": "code",
   "execution_count": 19,
   "metadata": {},
   "outputs": [],
   "source": [
    "title_list = df['info'].tolist()"
   ]
  },
  {
   "cell_type": "code",
   "execution_count": 20,
   "metadata": {},
   "outputs": [],
   "source": [
    "search_queries = []\n",
    "for item in title_list:\n",
    "    search_queries.append(f'when was {item} published?')"
   ]
  },
  {
   "cell_type": "code",
   "execution_count": null,
   "metadata": {},
   "outputs": [],
   "source": [
    "#Scrape for Google.com\n",
    "\n",
    "dates  = []\n",
    "browser = webdriver.Firefox()\n",
    "for p in search_queries:\n",
    "    browser.get('http://www.google.com')\n",
    "    search = browser.find_element_by_name('q')\n",
    "    search.send_keys(f'\"{p}\"')\n",
    "    search.send_keys(Keys.RETURN) # hit return after you enter search text\n",
    "    time.sleep(20) # sleep for 5 seconds so you can see the results\n",
    "    \n",
    "    try:\n",
    "        result = browser.find_element_by_xpath('.//div[@class=\"Z0LcW\"]')\n",
    "        result = result.get_attribute('innerHTML')\n",
    "    except:\n",
    "        result = 'NaN'\n",
    "\n",
    "    dates.append(result)\n",
    "browser.quit()"
   ]
  },
  {
   "cell_type": "code",
   "execution_count": 44,
   "metadata": {},
   "outputs": [],
   "source": [
    "def extract_years(text):\n",
    "    new_list_dates = []\n",
    "    for t in text:\n",
    "        date = re.findall(r'(\\d{4})', t)\n",
    "        new_list_dates.append(date)\n",
    "                          \n",
    "    return new_list_dates"
   ]
  },
  {
   "cell_type": "code",
   "execution_count": 26,
   "metadata": {},
   "outputs": [],
   "source": [
    "# Scrape for DuckDuckGo.com"
   ]
  },
  {
   "cell_type": "code",
   "execution_count": 22,
   "metadata": {},
   "outputs": [],
   "source": [
    "dd_sq = []\n",
    "for item in title_list:\n",
    "    dd_sq.append(f'what date was {item} published?')"
   ]
  },
  {
   "cell_type": "code",
   "execution_count": 23,
   "metadata": {},
   "outputs": [
    {
     "ename": "NoSuchWindowException",
     "evalue": "Message: Browsing context has been discarded\n",
     "output_type": "error",
     "traceback": [
      "\u001b[0;31m---------------------------------------------------------------------------\u001b[0m",
      "\u001b[0;31mNoSuchWindowException\u001b[0m                     Traceback (most recent call last)",
      "\u001b[0;32m<ipython-input-23-b7b3d2c7d229>\u001b[0m in \u001b[0;36m<module>\u001b[0;34m\u001b[0m\n\u001b[1;32m      4\u001b[0m \u001b[0;32mfor\u001b[0m \u001b[0mp\u001b[0m \u001b[0;32min\u001b[0m \u001b[0mdd_sq\u001b[0m\u001b[0;34m:\u001b[0m\u001b[0;34m\u001b[0m\u001b[0;34m\u001b[0m\u001b[0m\n\u001b[1;32m      5\u001b[0m     \u001b[0mbrowser\u001b[0m\u001b[0;34m.\u001b[0m\u001b[0mget\u001b[0m\u001b[0;34m(\u001b[0m\u001b[0;34m'http://www.duckduckgo.com'\u001b[0m\u001b[0;34m)\u001b[0m\u001b[0;34m\u001b[0m\u001b[0;34m\u001b[0m\u001b[0m\n\u001b[0;32m----> 6\u001b[0;31m     \u001b[0msearch\u001b[0m \u001b[0;34m=\u001b[0m \u001b[0mbrowser\u001b[0m\u001b[0;34m.\u001b[0m\u001b[0mfind_element_by_xpath\u001b[0m\u001b[0;34m(\u001b[0m\u001b[0;34m\".//input[@id='search_form_input_homepage']\"\u001b[0m\u001b[0;34m)\u001b[0m\u001b[0;34m\u001b[0m\u001b[0;34m\u001b[0m\u001b[0m\n\u001b[0m\u001b[1;32m      7\u001b[0m     \u001b[0msearch\u001b[0m\u001b[0;34m.\u001b[0m\u001b[0msend_keys\u001b[0m\u001b[0;34m(\u001b[0m\u001b[0;34mf'{p}'\u001b[0m\u001b[0;34m)\u001b[0m\u001b[0;34m\u001b[0m\u001b[0;34m\u001b[0m\u001b[0m\n\u001b[1;32m      8\u001b[0m     \u001b[0msearch\u001b[0m\u001b[0;34m.\u001b[0m\u001b[0msend_keys\u001b[0m\u001b[0;34m(\u001b[0m\u001b[0mKeys\u001b[0m\u001b[0;34m.\u001b[0m\u001b[0mRETURN\u001b[0m\u001b[0;34m)\u001b[0m \u001b[0;31m# hit return after you enter search text\u001b[0m\u001b[0;34m\u001b[0m\u001b[0;34m\u001b[0m\u001b[0m\n",
      "\u001b[0;32m~/anaconda3/lib/python3.7/site-packages/selenium/webdriver/remote/webdriver.py\u001b[0m in \u001b[0;36mfind_element_by_xpath\u001b[0;34m(self, xpath)\u001b[0m\n\u001b[1;32m    392\u001b[0m             \u001b[0melement\u001b[0m \u001b[0;34m=\u001b[0m \u001b[0mdriver\u001b[0m\u001b[0;34m.\u001b[0m\u001b[0mfind_element_by_xpath\u001b[0m\u001b[0;34m(\u001b[0m\u001b[0;34m'//div/td[1]'\u001b[0m\u001b[0;34m)\u001b[0m\u001b[0;34m\u001b[0m\u001b[0;34m\u001b[0m\u001b[0m\n\u001b[1;32m    393\u001b[0m         \"\"\"\n\u001b[0;32m--> 394\u001b[0;31m         \u001b[0;32mreturn\u001b[0m \u001b[0mself\u001b[0m\u001b[0;34m.\u001b[0m\u001b[0mfind_element\u001b[0m\u001b[0;34m(\u001b[0m\u001b[0mby\u001b[0m\u001b[0;34m=\u001b[0m\u001b[0mBy\u001b[0m\u001b[0;34m.\u001b[0m\u001b[0mXPATH\u001b[0m\u001b[0;34m,\u001b[0m \u001b[0mvalue\u001b[0m\u001b[0;34m=\u001b[0m\u001b[0mxpath\u001b[0m\u001b[0;34m)\u001b[0m\u001b[0;34m\u001b[0m\u001b[0;34m\u001b[0m\u001b[0m\n\u001b[0m\u001b[1;32m    395\u001b[0m \u001b[0;34m\u001b[0m\u001b[0m\n\u001b[1;32m    396\u001b[0m     \u001b[0;32mdef\u001b[0m \u001b[0mfind_elements_by_xpath\u001b[0m\u001b[0;34m(\u001b[0m\u001b[0mself\u001b[0m\u001b[0;34m,\u001b[0m \u001b[0mxpath\u001b[0m\u001b[0;34m)\u001b[0m\u001b[0;34m:\u001b[0m\u001b[0;34m\u001b[0m\u001b[0;34m\u001b[0m\u001b[0m\n",
      "\u001b[0;32m~/anaconda3/lib/python3.7/site-packages/selenium/webdriver/remote/webdriver.py\u001b[0m in \u001b[0;36mfind_element\u001b[0;34m(self, by, value)\u001b[0m\n\u001b[1;32m    976\u001b[0m         return self.execute(Command.FIND_ELEMENT, {\n\u001b[1;32m    977\u001b[0m             \u001b[0;34m'using'\u001b[0m\u001b[0;34m:\u001b[0m \u001b[0mby\u001b[0m\u001b[0;34m,\u001b[0m\u001b[0;34m\u001b[0m\u001b[0;34m\u001b[0m\u001b[0m\n\u001b[0;32m--> 978\u001b[0;31m             'value': value})['value']\n\u001b[0m\u001b[1;32m    979\u001b[0m \u001b[0;34m\u001b[0m\u001b[0m\n\u001b[1;32m    980\u001b[0m     \u001b[0;32mdef\u001b[0m \u001b[0mfind_elements\u001b[0m\u001b[0;34m(\u001b[0m\u001b[0mself\u001b[0m\u001b[0;34m,\u001b[0m \u001b[0mby\u001b[0m\u001b[0;34m=\u001b[0m\u001b[0mBy\u001b[0m\u001b[0;34m.\u001b[0m\u001b[0mID\u001b[0m\u001b[0;34m,\u001b[0m \u001b[0mvalue\u001b[0m\u001b[0;34m=\u001b[0m\u001b[0;32mNone\u001b[0m\u001b[0;34m)\u001b[0m\u001b[0;34m:\u001b[0m\u001b[0;34m\u001b[0m\u001b[0;34m\u001b[0m\u001b[0m\n",
      "\u001b[0;32m~/anaconda3/lib/python3.7/site-packages/selenium/webdriver/remote/webdriver.py\u001b[0m in \u001b[0;36mexecute\u001b[0;34m(self, driver_command, params)\u001b[0m\n\u001b[1;32m    319\u001b[0m         \u001b[0mresponse\u001b[0m \u001b[0;34m=\u001b[0m \u001b[0mself\u001b[0m\u001b[0;34m.\u001b[0m\u001b[0mcommand_executor\u001b[0m\u001b[0;34m.\u001b[0m\u001b[0mexecute\u001b[0m\u001b[0;34m(\u001b[0m\u001b[0mdriver_command\u001b[0m\u001b[0;34m,\u001b[0m \u001b[0mparams\u001b[0m\u001b[0;34m)\u001b[0m\u001b[0;34m\u001b[0m\u001b[0;34m\u001b[0m\u001b[0m\n\u001b[1;32m    320\u001b[0m         \u001b[0;32mif\u001b[0m \u001b[0mresponse\u001b[0m\u001b[0;34m:\u001b[0m\u001b[0;34m\u001b[0m\u001b[0;34m\u001b[0m\u001b[0m\n\u001b[0;32m--> 321\u001b[0;31m             \u001b[0mself\u001b[0m\u001b[0;34m.\u001b[0m\u001b[0merror_handler\u001b[0m\u001b[0;34m.\u001b[0m\u001b[0mcheck_response\u001b[0m\u001b[0;34m(\u001b[0m\u001b[0mresponse\u001b[0m\u001b[0;34m)\u001b[0m\u001b[0;34m\u001b[0m\u001b[0;34m\u001b[0m\u001b[0m\n\u001b[0m\u001b[1;32m    322\u001b[0m             response['value'] = self._unwrap_value(\n\u001b[1;32m    323\u001b[0m                 response.get('value', None))\n",
      "\u001b[0;32m~/anaconda3/lib/python3.7/site-packages/selenium/webdriver/remote/errorhandler.py\u001b[0m in \u001b[0;36mcheck_response\u001b[0;34m(self, response)\u001b[0m\n\u001b[1;32m    240\u001b[0m                 \u001b[0malert_text\u001b[0m \u001b[0;34m=\u001b[0m \u001b[0mvalue\u001b[0m\u001b[0;34m[\u001b[0m\u001b[0;34m'alert'\u001b[0m\u001b[0;34m]\u001b[0m\u001b[0;34m.\u001b[0m\u001b[0mget\u001b[0m\u001b[0;34m(\u001b[0m\u001b[0;34m'text'\u001b[0m\u001b[0;34m)\u001b[0m\u001b[0;34m\u001b[0m\u001b[0;34m\u001b[0m\u001b[0m\n\u001b[1;32m    241\u001b[0m             \u001b[0;32mraise\u001b[0m \u001b[0mexception_class\u001b[0m\u001b[0;34m(\u001b[0m\u001b[0mmessage\u001b[0m\u001b[0;34m,\u001b[0m \u001b[0mscreen\u001b[0m\u001b[0;34m,\u001b[0m \u001b[0mstacktrace\u001b[0m\u001b[0;34m,\u001b[0m \u001b[0malert_text\u001b[0m\u001b[0;34m)\u001b[0m\u001b[0;34m\u001b[0m\u001b[0;34m\u001b[0m\u001b[0m\n\u001b[0;32m--> 242\u001b[0;31m         \u001b[0;32mraise\u001b[0m \u001b[0mexception_class\u001b[0m\u001b[0;34m(\u001b[0m\u001b[0mmessage\u001b[0m\u001b[0;34m,\u001b[0m \u001b[0mscreen\u001b[0m\u001b[0;34m,\u001b[0m \u001b[0mstacktrace\u001b[0m\u001b[0;34m)\u001b[0m\u001b[0;34m\u001b[0m\u001b[0;34m\u001b[0m\u001b[0m\n\u001b[0m\u001b[1;32m    243\u001b[0m \u001b[0;34m\u001b[0m\u001b[0m\n\u001b[1;32m    244\u001b[0m     \u001b[0;32mdef\u001b[0m \u001b[0m_value_or_default\u001b[0m\u001b[0;34m(\u001b[0m\u001b[0mself\u001b[0m\u001b[0;34m,\u001b[0m \u001b[0mobj\u001b[0m\u001b[0;34m,\u001b[0m \u001b[0mkey\u001b[0m\u001b[0;34m,\u001b[0m \u001b[0mdefault\u001b[0m\u001b[0;34m)\u001b[0m\u001b[0;34m:\u001b[0m\u001b[0;34m\u001b[0m\u001b[0;34m\u001b[0m\u001b[0m\n",
      "\u001b[0;31mNoSuchWindowException\u001b[0m: Message: Browsing context has been discarded\n"
     ]
    }
   ],
   "source": [
    "\n",
    "dd_date = []\n",
    "\n",
    "browser = webdriver.Firefox()\n",
    "for p in dd_sq:\n",
    "    browser.get('http://www.duckduckgo.com')\n",
    "    search = browser.find_element_by_xpath(\".//input[@id='search_form_input_homepage']\")\n",
    "    search.send_keys(f'{p}')\n",
    "    search.send_keys(Keys.RETURN) # hit return after you enter search text\n",
    "    time.sleep(10) # sleep for 5 seconds so you can see the results\n",
    "    \n",
    "    try:\n",
    "        result = browser.find_element_by_xpath('.//span[@class=\"js-about-item-abstr\"]')\n",
    "        result = result.get_attribute('innerHTML')\n",
    "    except:\n",
    "        result = 'NaN'\n",
    "\n",
    "    dd_date.append(result)\n",
    "\n",
    "    \n",
    "browser.quit()\n",
    "\n"
   ]
  },
  {
   "cell_type": "code",
   "execution_count": 47,
   "metadata": {},
   "outputs": [],
   "source": [
    "dd_date\n",
    "df['duck_dates'] = extract_years(dd_date)"
   ]
  },
  {
   "cell_type": "code",
   "execution_count": 50,
   "metadata": {},
   "outputs": [],
   "source": [
    "#Scrape for Ask.com\n",
    "\n",
    "ask_dates = []\n",
    "\n",
    "browser = webdriver.Firefox()\n",
    "for p in dd_sq:\n",
    "    browser.get('http://www.ask.com')\n",
    "    search = browser.find_element_by_name('q')\n",
    "    search.send_keys(f'{p}')\n",
    "    search.send_keys(Keys.RETURN) # hit return after you enter search text\n",
    "    time.sleep(10) # sleep for 5 seconds so you can see the results\n",
    "    \n",
    "    try:\n",
    "        result = browser.find_element_by_xpath('.//p[@class=\"PartialSearchResults-item-abstract\"]')\n",
    "        result = result.get_attribute('innerHTML')\n",
    "    except:\n",
    "        result = 'NaN'\n",
    "\n",
    "    ask_dates.append(result)\n",
    "browser.quit()\n"
   ]
  },
  {
   "cell_type": "code",
   "execution_count": 51,
   "metadata": {},
   "outputs": [],
   "source": [
    "df['ask_dates'] = extract_years(ask_dates)"
   ]
  },
  {
   "cell_type": "code",
   "execution_count": 52,
   "metadata": {},
   "outputs": [
    {
     "data": {
      "text/html": [
       "<div>\n",
       "<style scoped>\n",
       "    .dataframe tbody tr th:only-of-type {\n",
       "        vertical-align: middle;\n",
       "    }\n",
       "\n",
       "    .dataframe tbody tr th {\n",
       "        vertical-align: top;\n",
       "    }\n",
       "\n",
       "    .dataframe thead th {\n",
       "        text-align: right;\n",
       "    }\n",
       "</style>\n",
       "<table border=\"1\" class=\"dataframe\">\n",
       "  <thead>\n",
       "    <tr style=\"text-align: right;\">\n",
       "      <th></th>\n",
       "      <th>text</th>\n",
       "      <th>info</th>\n",
       "      <th>duck_dates</th>\n",
       "      <th>ask_dates</th>\n",
       "    </tr>\n",
       "  </thead>\n",
       "  <tbody>\n",
       "    <tr>\n",
       "      <th>0</th>\n",
       "      <td>Really, the whole paragraph is good, but in pa...</td>\n",
       "      <td>A Farewell to Arms</td>\n",
       "      <td>[1929]</td>\n",
       "      <td>[1929]</td>\n",
       "    </tr>\n",
       "    <tr>\n",
       "      <th>1</th>\n",
       "      <td>\"I looked at the stars, and considered how awf...</td>\n",
       "      <td>Dickens, Great Expectations</td>\n",
       "      <td>[]</td>\n",
       "      <td>[1860, 1861]</td>\n",
       "    </tr>\n",
       "    <tr>\n",
       "      <th>2</th>\n",
       "      <td>\"As the days went by, the evolution of like in...</td>\n",
       "      <td>Jack London</td>\n",
       "      <td>[]</td>\n",
       "      <td>[2019]</td>\n",
       "    </tr>\n",
       "    <tr>\n",
       "      <th>3</th>\n",
       "      <td>\"Where else? I belong to a lost generation and...</td>\n",
       "      <td>Umberto Eco, Foucault's Pendulum</td>\n",
       "      <td>[1988]</td>\n",
       "      <td>[1988, 1988, 1989]</td>\n",
       "    </tr>\n",
       "    <tr>\n",
       "      <th>4</th>\n",
       "      <td>&amp;gt;Have you ever been in love? Horrible isn't...</td>\n",
       "      <td>The Sandman, Neil Gaiman</td>\n",
       "      <td>[]</td>\n",
       "      <td>[]</td>\n",
       "    </tr>\n",
       "    <tr>\n",
       "      <th>5</th>\n",
       "      <td>Some men are born mediocre, some men achieve m...</td>\n",
       "      <td>Catch 22</td>\n",
       "      <td>[1953, 1961]</td>\n",
       "      <td>[1953, 1961]</td>\n",
       "    </tr>\n",
       "    <tr>\n",
       "      <th>6</th>\n",
       "      <td>Down there are people who will follow any drag...</td>\n",
       "      <td>The Patrician Vetinari</td>\n",
       "      <td>[]</td>\n",
       "      <td>[]</td>\n",
       "    </tr>\n",
       "    <tr>\n",
       "      <th>7</th>\n",
       "      <td>This sentence has five words. Here are five mo...</td>\n",
       "      <td>Gary Provost</td>\n",
       "      <td>[]</td>\n",
       "      <td>[1944, 1995]</td>\n",
       "    </tr>\n",
       "    <tr>\n",
       "      <th>8</th>\n",
       "      <td>e live in time - it holds us and molds us - bu...</td>\n",
       "      <td>Sense of an Ending by Julian Barnes</td>\n",
       "      <td>[2011, 2011]</td>\n",
       "      <td>[2011, 2011]</td>\n",
       "    </tr>\n",
       "    <tr>\n",
       "      <th>9</th>\n",
       "      <td>Out of the little grove, away from the baffled...</td>\n",
       "      <td>The Amber Spyglass, Phillip Paulman</td>\n",
       "      <td>[2000, 2001]</td>\n",
       "      <td>[2000, 5424, 5587, 0599]</td>\n",
       "    </tr>\n",
       "    <tr>\n",
       "      <th>10</th>\n",
       "      <td>Look again at that dot. Thats here. Thats home...</td>\n",
       "      <td>Carl Sagan, Pale Blue Dot</td>\n",
       "      <td>[1994]</td>\n",
       "      <td>[1994, 1994]</td>\n",
       "    </tr>\n",
       "    <tr>\n",
       "      <th>11</th>\n",
       "      <td>\"And in that very moment, away behind in some ...</td>\n",
       "      <td>Return of the King by J.R.R Tolkien</td>\n",
       "      <td>[]</td>\n",
       "      <td>[1955, 9339, 6039, 1954]</td>\n",
       "    </tr>\n",
       "    <tr>\n",
       "      <th>12</th>\n",
       "      <td>“Strange memories on this nervous night in Las...</td>\n",
       "      <td>Hunter S Thompson, Fear and loathing in Las V...</td>\n",
       "      <td>[]</td>\n",
       "      <td>[1971, 1971, 1989]</td>\n",
       "    </tr>\n",
       "    <tr>\n",
       "      <th>13</th>\n",
       "      <td>Anybody can look at a pretty girl and see a pr...</td>\n",
       "      <td>Robert A. Heinlein,  Stranger in a Strange Land</td>\n",
       "      <td>[1961]</td>\n",
       "      <td>[1961, 1948]</td>\n",
       "    </tr>\n",
       "    <tr>\n",
       "      <th>14</th>\n",
       "      <td>\"Here I recaptured the former beauty, a young ...</td>\n",
       "      <td>Albert Camus, *Return to Tipasa*</td>\n",
       "      <td>[]</td>\n",
       "      <td>[]</td>\n",
       "    </tr>\n",
       "    <tr>\n",
       "      <th>15</th>\n",
       "      <td>\"Naw, Jem. I think that there is just one kind...</td>\n",
       "      <td>To Kill a Mockingbirg</td>\n",
       "      <td>[1960, 1936]</td>\n",
       "      <td>[1964]</td>\n",
       "    </tr>\n",
       "    <tr>\n",
       "      <th>16</th>\n",
       "      <td>Let us go then, you and I,When the evening is ...</td>\n",
       "      <td>T.S. Eliot</td>\n",
       "      <td>[1914, 1927]</td>\n",
       "      <td>[1888, 1965, 1925]</td>\n",
       "    </tr>\n",
       "    <tr>\n",
       "      <th>17</th>\n",
       "      <td>“I looked for you on the Trident,” Ned said to...</td>\n",
       "      <td>A Game of Thrones</td>\n",
       "      <td>[1996, 1997, 1997, 1997]</td>\n",
       "      <td>[1991, 1996]</td>\n",
       "    </tr>\n",
       "    <tr>\n",
       "      <th>18</th>\n",
       "      <td>\"But then they danced down the streets like di...</td>\n",
       "      <td>On the Road, Jack Kerouac</td>\n",
       "      <td>[]</td>\n",
       "      <td>[]</td>\n",
       "    </tr>\n",
       "    <tr>\n",
       "      <th>19</th>\n",
       "      <td>For West is where we all plan to go some day. ...</td>\n",
       "      <td>All the Kings Men, Robert Penn Warren</td>\n",
       "      <td>[1946, 1947, 1949, 2006, 1949]</td>\n",
       "      <td>[1946, 1946]</td>\n",
       "    </tr>\n",
       "    <tr>\n",
       "      <th>20</th>\n",
       "      <td>(I've been lurking reddit for a while... Two y...</td>\n",
       "      <td>Joseph Conrad,  \"The Heart of Darkness</td>\n",
       "      <td>[]</td>\n",
       "      <td>[]</td>\n",
       "    </tr>\n",
       "    <tr>\n",
       "      <th>21</th>\n",
       "      <td>\"It was the crossbows that decided Turkos, alt...</td>\n",
       "      <td>The Fell Sword, by Miles Cameron</td>\n",
       "      <td>[]</td>\n",
       "      <td>[1962, 2003, 2008, 2009, 2013, 2014, 2015]</td>\n",
       "    </tr>\n",
       "    <tr>\n",
       "      <th>22</th>\n",
       "      <td>\"In the beginning, the Universe was created. T...</td>\n",
       "      <td>Hitchhiker's Guide to the Galaxy</td>\n",
       "      <td>[1979]</td>\n",
       "      <td>[]</td>\n",
       "    </tr>\n",
       "    <tr>\n",
       "      <th>23</th>\n",
       "      <td>**\"**An artisan without memories, whose only d...</td>\n",
       "      <td>One Hundred Years of Solitude</td>\n",
       "      <td>[1967]</td>\n",
       "      <td>[1967, 1967, 1967]</td>\n",
       "    </tr>\n",
       "    <tr>\n",
       "      <th>24</th>\n",
       "      <td>\"He spun round with a sort of guilty bound, li...</td>\n",
       "      <td>P.G. Wodehouse, *Joy in the Morning*</td>\n",
       "      <td>[1946, 1947]</td>\n",
       "      <td>[]</td>\n",
       "    </tr>\n",
       "    <tr>\n",
       "      <th>25</th>\n",
       "      <td>\"Be soft. Do not let the world make you hard. ...</td>\n",
       "      <td>Kurt Vonnegut, Cats Cradle</td>\n",
       "      <td>[1768]</td>\n",
       "      <td>[1963, 3334, 4006, 7116, 1963]</td>\n",
       "    </tr>\n",
       "    <tr>\n",
       "      <th>26</th>\n",
       "      <td>&amp;gt; And the ship went out into the High Sea a...</td>\n",
       "      <td>The Return of the King, by J. R. R. Tolkien</td>\n",
       "      <td>[]</td>\n",
       "      <td>[1955, 9339, 6039, 1954]</td>\n",
       "    </tr>\n",
       "    <tr>\n",
       "      <th>27</th>\n",
       "      <td>\"With his symbolic helmet numbered 451 on his ...</td>\n",
       "      <td>Farrenheit 451</td>\n",
       "      <td>[1953]</td>\n",
       "      <td>[1953, 1999]</td>\n",
       "    </tr>\n",
       "    <tr>\n",
       "      <th>28</th>\n",
       "      <td>Forthwith a change came over the waters, and t...</td>\n",
       "      <td>Heart of Darkness</td>\n",
       "      <td>[]</td>\n",
       "      <td>[1902]</td>\n",
       "    </tr>\n",
       "    <tr>\n",
       "      <th>29</th>\n",
       "      <td>“When a child first catches adults out -- when...</td>\n",
       "      <td>Steinbeck, East of EdenThat book is filled wi...</td>\n",
       "      <td>[]</td>\n",
       "      <td>[1952, 9780, 1401, 8639, 1952]</td>\n",
       "    </tr>\n",
       "    <tr>\n",
       "      <th>...</th>\n",
       "      <td>...</td>\n",
       "      <td>...</td>\n",
       "      <td>...</td>\n",
       "      <td>...</td>\n",
       "    </tr>\n",
       "    <tr>\n",
       "      <th>108</th>\n",
       "      <td>\"I lost track after a while, happy to be home,...</td>\n",
       "      <td>Middlesex</td>\n",
       "      <td>[2002]</td>\n",
       "      <td>[1993]</td>\n",
       "    </tr>\n",
       "    <tr>\n",
       "      <th>109</th>\n",
       "      <td>\"The men began singing, a grave, slow song tha...</td>\n",
       "      <td>Suite Francaise</td>\n",
       "      <td>[1942]</td>\n",
       "      <td>[1998, 2004]</td>\n",
       "    </tr>\n",
       "    <tr>\n",
       "      <th>110</th>\n",
       "      <td>\"'When the day shall come, that we do part,' h...</td>\n",
       "      <td>The Fiery Cross</td>\n",
       "      <td>[]</td>\n",
       "      <td>[2001]</td>\n",
       "    </tr>\n",
       "    <tr>\n",
       "      <th>111</th>\n",
       "      <td>\"I lingered round them, under that benign sky;...</td>\n",
       "      <td>Wuthering Heights</td>\n",
       "      <td>[1847, 1845, 1846]</td>\n",
       "      <td>[1847, 2925, 7112, 6926, 4172, 2007, 1847]</td>\n",
       "    </tr>\n",
       "    <tr>\n",
       "      <th>112</th>\n",
       "      <td>\"His body stirs beneath the sheets. He twists ...</td>\n",
       "      <td>The Hand That First Held Mine</td>\n",
       "      <td>[]</td>\n",
       "      <td>[2010]</td>\n",
       "    </tr>\n",
       "    <tr>\n",
       "      <th>113</th>\n",
       "      <td>''I never saw any of them again — except the c...</td>\n",
       "      <td>The Long Goodbye</td>\n",
       "      <td>[1973, 1953, 1946]</td>\n",
       "      <td>[1953, 1953]</td>\n",
       "    </tr>\n",
       "    <tr>\n",
       "      <th>114</th>\n",
       "      <td>\"She watched as Sandy Forsyth walked across th...</td>\n",
       "      <td>Winter in Madrid</td>\n",
       "      <td>[1940]</td>\n",
       "      <td>[2006, 4050, 0546, 6222, 5677, 6119, 2006]</td>\n",
       "    </tr>\n",
       "    <tr>\n",
       "      <th>115</th>\n",
       "      <td>\"I went on my way. A stormy wind rattled the s...</td>\n",
       "      <td>The Pianist</td>\n",
       "      <td>[]</td>\n",
       "      <td>[1946]</td>\n",
       "    </tr>\n",
       "    <tr>\n",
       "      <th>116</th>\n",
       "      <td>\"This is not a full circle. It's Life carrying...</td>\n",
       "      <td>Don't Let's Go to the Dogs Tonight</td>\n",
       "      <td>[]</td>\n",
       "      <td>[2011]</td>\n",
       "    </tr>\n",
       "    <tr>\n",
       "      <th>117</th>\n",
       "      <td>\"Yes, they will trample me underfoot, the numb...</td>\n",
       "      <td>Midnight's Children</td>\n",
       "      <td>[1981]</td>\n",
       "      <td>[1981, 0182, 8234, 1981]</td>\n",
       "    </tr>\n",
       "    <tr>\n",
       "      <th>118</th>\n",
       "      <td>\"The white floodlight shines through the wispy...</td>\n",
       "      <td>A Hundred and One Days</td>\n",
       "      <td>[]</td>\n",
       "      <td>[2003]</td>\n",
       "    </tr>\n",
       "    <tr>\n",
       "      <th>119</th>\n",
       "      <td>\"It was then that I began to sit on my bed and...</td>\n",
       "      <td>Cider With Rosie</td>\n",
       "      <td>[1959]</td>\n",
       "      <td>[1959, 1959, 2008, 5679]</td>\n",
       "    </tr>\n",
       "    <tr>\n",
       "      <th>120</th>\n",
       "      <td>\"He now has more patients than the devil himse...</td>\n",
       "      <td>Madame Bovary</td>\n",
       "      <td>[1856]</td>\n",
       "      <td>[1856]</td>\n",
       "    </tr>\n",
       "    <tr>\n",
       "      <th>121</th>\n",
       "      <td>\"He turned away to give them time to pull them...</td>\n",
       "      <td>Lord of the Flies</td>\n",
       "      <td>[1954]</td>\n",
       "      <td>[1954, 0568, 4767, 7622, 1954]</td>\n",
       "    </tr>\n",
       "    <tr>\n",
       "      <th>122</th>\n",
       "      <td>\"Of course, it's only superstition, just for f...</td>\n",
       "      <td>The Kitchen God's Wife</td>\n",
       "      <td>[1991]</td>\n",
       "      <td>[1991, 1357, 2314, 4220, 1991]</td>\n",
       "    </tr>\n",
       "    <tr>\n",
       "      <th>123</th>\n",
       "      <td>\"And here she is, herself, Clarissa, not Mrs. ...</td>\n",
       "      <td>The Hours</td>\n",
       "      <td>[1998, 1999, 1999, 2002]</td>\n",
       "      <td>[1998, 1728, 3933, 9842, 1998, 1999]</td>\n",
       "    </tr>\n",
       "    <tr>\n",
       "      <th>124</th>\n",
       "      <td>\"The broken flower drooped over Ben's fist and...</td>\n",
       "      <td>The Sound and the Fury</td>\n",
       "      <td>[1929]</td>\n",
       "      <td>[1929, 1931]</td>\n",
       "    </tr>\n",
       "    <tr>\n",
       "      <th>125</th>\n",
       "      <td>\"'Rest assured, our father, rest assured. The ...</td>\n",
       "      <td>The Good Earth</td>\n",
       "      <td>[1931, 1932, 1931, 1932, 1938]</td>\n",
       "      <td>[1931, 5656, 1376, 1931]</td>\n",
       "    </tr>\n",
       "    <tr>\n",
       "      <th>126</th>\n",
       "      <td>\"This stone is entirely blank. The only though...</td>\n",
       "      <td>Les Miserables</td>\n",
       "      <td>[1862]</td>\n",
       "      <td>[1862, 1841]</td>\n",
       "    </tr>\n",
       "    <tr>\n",
       "      <th>127</th>\n",
       "      <td>\"Slowly, very slowly, like two unhurried compa...</td>\n",
       "      <td>Brave New World</td>\n",
       "      <td>[1931, 1932]</td>\n",
       "      <td>[1931, 1932]</td>\n",
       "    </tr>\n",
       "    <tr>\n",
       "      <th>128</th>\n",
       "      <td>\"I got to light out for the Territory ahead of...</td>\n",
       "      <td>Adventures of Huckleberry Finn</td>\n",
       "      <td>[1884, 1885]</td>\n",
       "      <td>[]</td>\n",
       "    </tr>\n",
       "    <tr>\n",
       "      <th>129</th>\n",
       "      <td>\"Lastly, she pictured to herself how this same...</td>\n",
       "      <td>Alice's Adventures in Wonderland</td>\n",
       "      <td>[1865]</td>\n",
       "      <td>[1865, 2018]</td>\n",
       "    </tr>\n",
       "    <tr>\n",
       "      <th>130</th>\n",
       "      <td>\"When they finally did dare it, at first with ...</td>\n",
       "      <td>Perfume: The Story of a Murderer</td>\n",
       "      <td>[1985]</td>\n",
       "      <td>[1985]</td>\n",
       "    </tr>\n",
       "    <tr>\n",
       "      <th>131</th>\n",
       "      <td>\"And so we stayed out in the garden of the old...</td>\n",
       "      <td>Man and Wife</td>\n",
       "      <td>[1983]</td>\n",
       "      <td>[]</td>\n",
       "    </tr>\n",
       "    <tr>\n",
       "      <th>132</th>\n",
       "      <td>\"But, in spite of these deficiencies, the wish...</td>\n",
       "      <td>Emma</td>\n",
       "      <td>[]</td>\n",
       "      <td>[1815]</td>\n",
       "    </tr>\n",
       "    <tr>\n",
       "      <th>133</th>\n",
       "      <td>\"Archie, for one, watched the mouse. He watche...</td>\n",
       "      <td>White Teeth</td>\n",
       "      <td>[2000]</td>\n",
       "      <td>[2000, 1399, 4350, 1880, 6069, 2000, 2000]</td>\n",
       "    </tr>\n",
       "    <tr>\n",
       "      <th>134</th>\n",
       "      <td>\"Might I trouble you then to be ready in half ...</td>\n",
       "      <td>The Hound of the Baskervilles</td>\n",
       "      <td>[1901, 1902]</td>\n",
       "      <td>[1902]</td>\n",
       "    </tr>\n",
       "    <tr>\n",
       "      <th>135</th>\n",
       "      <td>\"My personal rollercoaster. Not so much a roll...</td>\n",
       "      <td>Any Human Heart</td>\n",
       "      <td>[2002]</td>\n",
       "      <td>[2002, 2002, 1417, 4875, 3788, 6052, 9192, 200...</td>\n",
       "    </tr>\n",
       "    <tr>\n",
       "      <th>136</th>\n",
       "      <td>\"The offing was barred by a black bank of clou...</td>\n",
       "      <td>Heart of Darkness</td>\n",
       "      <td>[]</td>\n",
       "      <td>[1902]</td>\n",
       "    </tr>\n",
       "    <tr>\n",
       "      <th>137</th>\n",
       "      <td>\"He didn't think about it, he went straight to...</td>\n",
       "      <td>The Outcast</td>\n",
       "      <td>[]</td>\n",
       "      <td>[]</td>\n",
       "    </tr>\n",
       "  </tbody>\n",
       "</table>\n",
       "<p>138 rows × 4 columns</p>\n",
       "</div>"
      ],
      "text/plain": [
       "                                                  text  \\\n",
       "0    Really, the whole paragraph is good, but in pa...   \n",
       "1    \"I looked at the stars, and considered how awf...   \n",
       "2    \"As the days went by, the evolution of like in...   \n",
       "3    \"Where else? I belong to a lost generation and...   \n",
       "4    &gt;Have you ever been in love? Horrible isn't...   \n",
       "5    Some men are born mediocre, some men achieve m...   \n",
       "6    Down there are people who will follow any drag...   \n",
       "7    This sentence has five words. Here are five mo...   \n",
       "8    e live in time - it holds us and molds us - bu...   \n",
       "9    Out of the little grove, away from the baffled...   \n",
       "10   Look again at that dot. Thats here. Thats home...   \n",
       "11   \"And in that very moment, away behind in some ...   \n",
       "12   “Strange memories on this nervous night in Las...   \n",
       "13   Anybody can look at a pretty girl and see a pr...   \n",
       "14   \"Here I recaptured the former beauty, a young ...   \n",
       "15   \"Naw, Jem. I think that there is just one kind...   \n",
       "16   Let us go then, you and I,When the evening is ...   \n",
       "17   “I looked for you on the Trident,” Ned said to...   \n",
       "18   \"But then they danced down the streets like di...   \n",
       "19   For West is where we all plan to go some day. ...   \n",
       "20   (I've been lurking reddit for a while... Two y...   \n",
       "21   \"It was the crossbows that decided Turkos, alt...   \n",
       "22   \"In the beginning, the Universe was created. T...   \n",
       "23   **\"**An artisan without memories, whose only d...   \n",
       "24   \"He spun round with a sort of guilty bound, li...   \n",
       "25   \"Be soft. Do not let the world make you hard. ...   \n",
       "26   &gt; And the ship went out into the High Sea a...   \n",
       "27   \"With his symbolic helmet numbered 451 on his ...   \n",
       "28   Forthwith a change came over the waters, and t...   \n",
       "29   “When a child first catches adults out -- when...   \n",
       "..                                                 ...   \n",
       "108  \"I lost track after a while, happy to be home,...   \n",
       "109  \"The men began singing, a grave, slow song tha...   \n",
       "110  \"'When the day shall come, that we do part,' h...   \n",
       "111  \"I lingered round them, under that benign sky;...   \n",
       "112  \"His body stirs beneath the sheets. He twists ...   \n",
       "113  ''I never saw any of them again — except the c...   \n",
       "114  \"She watched as Sandy Forsyth walked across th...   \n",
       "115  \"I went on my way. A stormy wind rattled the s...   \n",
       "116  \"This is not a full circle. It's Life carrying...   \n",
       "117  \"Yes, they will trample me underfoot, the numb...   \n",
       "118  \"The white floodlight shines through the wispy...   \n",
       "119  \"It was then that I began to sit on my bed and...   \n",
       "120  \"He now has more patients than the devil himse...   \n",
       "121  \"He turned away to give them time to pull them...   \n",
       "122  \"Of course, it's only superstition, just for f...   \n",
       "123  \"And here she is, herself, Clarissa, not Mrs. ...   \n",
       "124  \"The broken flower drooped over Ben's fist and...   \n",
       "125  \"'Rest assured, our father, rest assured. The ...   \n",
       "126  \"This stone is entirely blank. The only though...   \n",
       "127  \"Slowly, very slowly, like two unhurried compa...   \n",
       "128  \"I got to light out for the Territory ahead of...   \n",
       "129  \"Lastly, she pictured to herself how this same...   \n",
       "130  \"When they finally did dare it, at first with ...   \n",
       "131  \"And so we stayed out in the garden of the old...   \n",
       "132  \"But, in spite of these deficiencies, the wish...   \n",
       "133  \"Archie, for one, watched the mouse. He watche...   \n",
       "134  \"Might I trouble you then to be ready in half ...   \n",
       "135  \"My personal rollercoaster. Not so much a roll...   \n",
       "136  \"The offing was barred by a black bank of clou...   \n",
       "137  \"He didn't think about it, he went straight to...   \n",
       "\n",
       "                                                  info  \\\n",
       "0                                   A Farewell to Arms   \n",
       "1                          Dickens, Great Expectations   \n",
       "2                                          Jack London   \n",
       "3                     Umberto Eco, Foucault's Pendulum   \n",
       "4                             The Sandman, Neil Gaiman   \n",
       "5                                             Catch 22   \n",
       "6                               The Patrician Vetinari   \n",
       "7                                         Gary Provost   \n",
       "8                  Sense of an Ending by Julian Barnes   \n",
       "9                  The Amber Spyglass, Phillip Paulman   \n",
       "10                           Carl Sagan, Pale Blue Dot   \n",
       "11                 Return of the King by J.R.R Tolkien   \n",
       "12    Hunter S Thompson, Fear and loathing in Las V...   \n",
       "13     Robert A. Heinlein,  Stranger in a Strange Land   \n",
       "14                    Albert Camus, *Return to Tipasa*   \n",
       "15                               To Kill a Mockingbirg   \n",
       "16                                          T.S. Eliot   \n",
       "17                                   A Game of Thrones   \n",
       "18                           On the Road, Jack Kerouac   \n",
       "19               All the Kings Men, Robert Penn Warren   \n",
       "20              Joseph Conrad,  \"The Heart of Darkness   \n",
       "21                 The Fell Sword, by Miles Cameron      \n",
       "22                    Hitchhiker's Guide to the Galaxy   \n",
       "23                       One Hundred Years of Solitude   \n",
       "24                P.G. Wodehouse, *Joy in the Morning*   \n",
       "25                          Kurt Vonnegut, Cats Cradle   \n",
       "26         The Return of the King, by J. R. R. Tolkien   \n",
       "27                                      Farrenheit 451   \n",
       "28                                   Heart of Darkness   \n",
       "29    Steinbeck, East of EdenThat book is filled wi...   \n",
       "..                                                 ...   \n",
       "108                                          Middlesex   \n",
       "109                                    Suite Francaise   \n",
       "110                                    The Fiery Cross   \n",
       "111                                  Wuthering Heights   \n",
       "112                      The Hand That First Held Mine   \n",
       "113                                   The Long Goodbye   \n",
       "114                                   Winter in Madrid   \n",
       "115                                        The Pianist   \n",
       "116                 Don't Let's Go to the Dogs Tonight   \n",
       "117                                Midnight's Children   \n",
       "118                             A Hundred and One Days   \n",
       "119                                   Cider With Rosie   \n",
       "120                                      Madame Bovary   \n",
       "121                                  Lord of the Flies   \n",
       "122                             The Kitchen God's Wife   \n",
       "123                                          The Hours   \n",
       "124                             The Sound and the Fury   \n",
       "125                                     The Good Earth   \n",
       "126                                     Les Miserables   \n",
       "127                                    Brave New World   \n",
       "128                     Adventures of Huckleberry Finn   \n",
       "129                   Alice's Adventures in Wonderland   \n",
       "130                   Perfume: The Story of a Murderer   \n",
       "131                                       Man and Wife   \n",
       "132                                               Emma   \n",
       "133                                        White Teeth   \n",
       "134                      The Hound of the Baskervilles   \n",
       "135                                    Any Human Heart   \n",
       "136                                  Heart of Darkness   \n",
       "137                                        The Outcast   \n",
       "\n",
       "                         duck_dates  \\\n",
       "0                            [1929]   \n",
       "1                                []   \n",
       "2                                []   \n",
       "3                            [1988]   \n",
       "4                                []   \n",
       "5                      [1953, 1961]   \n",
       "6                                []   \n",
       "7                                []   \n",
       "8                      [2011, 2011]   \n",
       "9                      [2000, 2001]   \n",
       "10                           [1994]   \n",
       "11                               []   \n",
       "12                               []   \n",
       "13                           [1961]   \n",
       "14                               []   \n",
       "15                     [1960, 1936]   \n",
       "16                     [1914, 1927]   \n",
       "17         [1996, 1997, 1997, 1997]   \n",
       "18                               []   \n",
       "19   [1946, 1947, 1949, 2006, 1949]   \n",
       "20                               []   \n",
       "21                               []   \n",
       "22                           [1979]   \n",
       "23                           [1967]   \n",
       "24                     [1946, 1947]   \n",
       "25                           [1768]   \n",
       "26                               []   \n",
       "27                           [1953]   \n",
       "28                               []   \n",
       "29                               []   \n",
       "..                              ...   \n",
       "108                          [2002]   \n",
       "109                          [1942]   \n",
       "110                              []   \n",
       "111              [1847, 1845, 1846]   \n",
       "112                              []   \n",
       "113              [1973, 1953, 1946]   \n",
       "114                          [1940]   \n",
       "115                              []   \n",
       "116                              []   \n",
       "117                          [1981]   \n",
       "118                              []   \n",
       "119                          [1959]   \n",
       "120                          [1856]   \n",
       "121                          [1954]   \n",
       "122                          [1991]   \n",
       "123        [1998, 1999, 1999, 2002]   \n",
       "124                          [1929]   \n",
       "125  [1931, 1932, 1931, 1932, 1938]   \n",
       "126                          [1862]   \n",
       "127                    [1931, 1932]   \n",
       "128                    [1884, 1885]   \n",
       "129                          [1865]   \n",
       "130                          [1985]   \n",
       "131                          [1983]   \n",
       "132                              []   \n",
       "133                          [2000]   \n",
       "134                    [1901, 1902]   \n",
       "135                          [2002]   \n",
       "136                              []   \n",
       "137                              []   \n",
       "\n",
       "                                             ask_dates  \n",
       "0                                               [1929]  \n",
       "1                                         [1860, 1861]  \n",
       "2                                               [2019]  \n",
       "3                                   [1988, 1988, 1989]  \n",
       "4                                                   []  \n",
       "5                                         [1953, 1961]  \n",
       "6                                                   []  \n",
       "7                                         [1944, 1995]  \n",
       "8                                         [2011, 2011]  \n",
       "9                             [2000, 5424, 5587, 0599]  \n",
       "10                                        [1994, 1994]  \n",
       "11                            [1955, 9339, 6039, 1954]  \n",
       "12                                  [1971, 1971, 1989]  \n",
       "13                                        [1961, 1948]  \n",
       "14                                                  []  \n",
       "15                                              [1964]  \n",
       "16                                  [1888, 1965, 1925]  \n",
       "17                                        [1991, 1996]  \n",
       "18                                                  []  \n",
       "19                                        [1946, 1946]  \n",
       "20                                                  []  \n",
       "21          [1962, 2003, 2008, 2009, 2013, 2014, 2015]  \n",
       "22                                                  []  \n",
       "23                                  [1967, 1967, 1967]  \n",
       "24                                                  []  \n",
       "25                      [1963, 3334, 4006, 7116, 1963]  \n",
       "26                            [1955, 9339, 6039, 1954]  \n",
       "27                                        [1953, 1999]  \n",
       "28                                              [1902]  \n",
       "29                      [1952, 9780, 1401, 8639, 1952]  \n",
       "..                                                 ...  \n",
       "108                                             [1993]  \n",
       "109                                       [1998, 2004]  \n",
       "110                                             [2001]  \n",
       "111         [1847, 2925, 7112, 6926, 4172, 2007, 1847]  \n",
       "112                                             [2010]  \n",
       "113                                       [1953, 1953]  \n",
       "114         [2006, 4050, 0546, 6222, 5677, 6119, 2006]  \n",
       "115                                             [1946]  \n",
       "116                                             [2011]  \n",
       "117                           [1981, 0182, 8234, 1981]  \n",
       "118                                             [2003]  \n",
       "119                           [1959, 1959, 2008, 5679]  \n",
       "120                                             [1856]  \n",
       "121                     [1954, 0568, 4767, 7622, 1954]  \n",
       "122                     [1991, 1357, 2314, 4220, 1991]  \n",
       "123               [1998, 1728, 3933, 9842, 1998, 1999]  \n",
       "124                                       [1929, 1931]  \n",
       "125                           [1931, 5656, 1376, 1931]  \n",
       "126                                       [1862, 1841]  \n",
       "127                                       [1931, 1932]  \n",
       "128                                                 []  \n",
       "129                                       [1865, 2018]  \n",
       "130                                             [1985]  \n",
       "131                                                 []  \n",
       "132                                             [1815]  \n",
       "133         [2000, 1399, 4350, 1880, 6069, 2000, 2000]  \n",
       "134                                             [1902]  \n",
       "135  [2002, 2002, 1417, 4875, 3788, 6052, 9192, 200...  \n",
       "136                                             [1902]  \n",
       "137                                                 []  \n",
       "\n",
       "[138 rows x 4 columns]"
      ]
     },
     "execution_count": 52,
     "metadata": {},
     "output_type": "execute_result"
    }
   ],
   "source": [
    "df"
   ]
  },
  {
   "cell_type": "code",
   "execution_count": 53,
   "metadata": {},
   "outputs": [],
   "source": [
    "df.to_csv('../data/processed/reddit_df_with_scraped_dates.csv')"
   ]
  },
  {
   "cell_type": "code",
   "execution_count": 55,
   "metadata": {},
   "outputs": [],
   "source": []
  },
  {
   "cell_type": "code",
   "execution_count": null,
   "metadata": {},
   "outputs": [],
   "source": []
  }
 ],
 "metadata": {
  "kernelspec": {
   "display_name": "Python 3",
   "language": "python",
   "name": "python3"
  },
  "language_info": {
   "codemirror_mode": {
    "name": "ipython",
    "version": 3
   },
   "file_extension": ".py",
   "mimetype": "text/x-python",
   "name": "python",
   "nbconvert_exporter": "python",
   "pygments_lexer": "ipython3",
   "version": "3.7.3"
  }
 },
 "nbformat": 4,
 "nbformat_minor": 2
}
